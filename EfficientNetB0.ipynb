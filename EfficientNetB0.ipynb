{
 "cells": [
  {
   "cell_type": "code",
   "execution_count": 1,
   "id": "e3717519",
   "metadata": {},
   "outputs": [],
   "source": [
    "import pandas as pd # Data analysis and manipultion tool\n",
    "import numpy as np # Fundamental package for linear algebra and multidimensional arrays\n",
    "import tensorflow as tf # Deep Learning Tool\n",
    "import os # OS module in Python provides a way of using operating system dependent functionality\n",
    "import cv2 # Library for image processing\n",
    "from sklearn.model_selection import train_test_split # For splitting the data into train and validation set\n",
    "from sklearn.metrics import f1_score\n",
    "import matplotlib.pyplot as plt\n",
    "import seaborn as sns"
   ]
  },
  {
   "cell_type": "code",
   "execution_count": 2,
   "id": "8b8b084c",
   "metadata": {},
   "outputs": [],
   "source": [
    "from imutils import build_montages\n",
    "from imutils import paths\n",
    "import random\n",
    "import cv2"
   ]
  },
  {
   "cell_type": "code",
   "execution_count": 3,
   "id": "031389d0",
   "metadata": {},
   "outputs": [],
   "source": [
    "imagePaths = list(paths.list_images(\"G:\\PYTHON\\Final year project\\Final\\covid_image_data\\covid_image_data\\train\"))\n",
    "random.shuffle(imagePaths)\n",
    "imagePaths = imagePaths[:21]"
   ]
  },
  {
   "cell_type": "code",
   "execution_count": 4,
   "id": "178128f7",
   "metadata": {},
   "outputs": [],
   "source": [
    "# initialize the list of images\n",
    "images = []\n",
    "# loop over the list of image paths\n",
    "for imagePath in imagePaths:\n",
    "    image = cv2.imread(imagePath)\n",
    "    images.append(image)\n",
    "# load the image and update the list of images\n",
    "# construct the montages for the images\n",
    "montages = build_montages(images, (128, 196), (7, 3))"
   ]
  },
  {
   "cell_type": "code",
   "execution_count": 5,
   "id": "2671442f",
   "metadata": {},
   "outputs": [
    {
     "name": "stdout",
     "output_type": "stream",
     "text": [
      "Number of labels i.e.  3479 matches the number of filenames i.e.  3479\n"
     ]
    },
    {
     "data": {
      "text/html": [
       "<div>\n",
       "<style scoped>\n",
       "    .dataframe tbody tr th:only-of-type {\n",
       "        vertical-align: middle;\n",
       "    }\n",
       "\n",
       "    .dataframe tbody tr th {\n",
       "        vertical-align: top;\n",
       "    }\n",
       "\n",
       "    .dataframe thead th {\n",
       "        text-align: right;\n",
       "    }\n",
       "</style>\n",
       "<table border=\"1\" class=\"dataframe\">\n",
       "  <thead>\n",
       "    <tr style=\"text-align: right;\">\n",
       "      <th></th>\n",
       "      <th>filename</th>\n",
       "      <th>filepaths</th>\n",
       "      <th>label</th>\n",
       "    </tr>\n",
       "  </thead>\n",
       "  <tbody>\n",
       "    <tr>\n",
       "      <th>0</th>\n",
       "      <td>Image_1.jpg</td>\n",
       "      <td>G:/PYTHON/Final year project/Final/covid_image...</td>\n",
       "      <td>1</td>\n",
       "    </tr>\n",
       "    <tr>\n",
       "      <th>1</th>\n",
       "      <td>Image_2.jpg</td>\n",
       "      <td>G:/PYTHON/Final year project/Final/covid_image...</td>\n",
       "      <td>0</td>\n",
       "    </tr>\n",
       "    <tr>\n",
       "      <th>2</th>\n",
       "      <td>Image_3.jpg</td>\n",
       "      <td>G:/PYTHON/Final year project/Final/covid_image...</td>\n",
       "      <td>0</td>\n",
       "    </tr>\n",
       "    <tr>\n",
       "      <th>3</th>\n",
       "      <td>Image_4.jpg</td>\n",
       "      <td>G:/PYTHON/Final year project/Final/covid_image...</td>\n",
       "      <td>0</td>\n",
       "    </tr>\n",
       "    <tr>\n",
       "      <th>4</th>\n",
       "      <td>Image_5.jpg</td>\n",
       "      <td>G:/PYTHON/Final year project/Final/covid_image...</td>\n",
       "      <td>0</td>\n",
       "    </tr>\n",
       "  </tbody>\n",
       "</table>\n",
       "</div>"
      ],
      "text/plain": [
       "      filename                                          filepaths  label\n",
       "0  Image_1.jpg  G:/PYTHON/Final year project/Final/covid_image...      1\n",
       "1  Image_2.jpg  G:/PYTHON/Final year project/Final/covid_image...      0\n",
       "2  Image_3.jpg  G:/PYTHON/Final year project/Final/covid_image...      0\n",
       "3  Image_4.jpg  G:/PYTHON/Final year project/Final/covid_image...      0\n",
       "4  Image_5.jpg  G:/PYTHON/Final year project/Final/covid_image...      0"
      ]
     },
     "execution_count": 5,
     "metadata": {},
     "output_type": "execute_result"
    }
   ],
   "source": [
    "labels = pd.read_csv(\"G:\\PYTHON\\Final year project\\Final\\covid_image_data\\covid_image_data\\Training_set_covid.csv\")\n",
    "\n",
    "labels.head()\n",
    "file_paths = [[fname, 'G:/PYTHON/Final year project/Final/covid_image_data/covid_image_data/train/' + fname] for fname in labels['filename']]\n",
    "\n",
    "if len(labels) == len(file_paths):\n",
    "    print('Number of labels i.e. ', len(labels), 'matches the number of filenames i.e. ', len(file_paths))\n",
    "else:\n",
    "    print('Number of labels does not match the number of filenames')\n",
    "\n",
    "images = pd.DataFrame(file_paths, columns=['filename', 'filepaths'])\n",
    "images.head()\n",
    "\n",
    "\n",
    "train_data = pd.merge(images, labels, how = 'inner', on = 'filename')\n",
    "train_data.head()"
   ]
  },
  {
   "cell_type": "code",
   "execution_count": 9,
   "id": "dce5b8fa",
   "metadata": {},
   "outputs": [
    {
     "data": {
      "text/html": [
       "<div>\n",
       "<style scoped>\n",
       "    .dataframe tbody tr th:only-of-type {\n",
       "        vertical-align: middle;\n",
       "    }\n",
       "\n",
       "    .dataframe tbody tr th {\n",
       "        vertical-align: top;\n",
       "    }\n",
       "\n",
       "    .dataframe thead th {\n",
       "        text-align: right;\n",
       "    }\n",
       "</style>\n",
       "<table border=\"1\" class=\"dataframe\">\n",
       "  <thead>\n",
       "    <tr style=\"text-align: right;\">\n",
       "      <th></th>\n",
       "      <th>filename</th>\n",
       "      <th>filepaths</th>\n",
       "    </tr>\n",
       "  </thead>\n",
       "  <tbody>\n",
       "    <tr>\n",
       "      <th>0</th>\n",
       "      <td>Image_1.jpg</td>\n",
       "      <td>G:/PYTHON/Final year project/Final/covid_image...</td>\n",
       "    </tr>\n",
       "    <tr>\n",
       "      <th>1</th>\n",
       "      <td>Image_2.jpg</td>\n",
       "      <td>G:/PYTHON/Final year project/Final/covid_image...</td>\n",
       "    </tr>\n",
       "    <tr>\n",
       "      <th>2</th>\n",
       "      <td>Image_3.jpg</td>\n",
       "      <td>G:/PYTHON/Final year project/Final/covid_image...</td>\n",
       "    </tr>\n",
       "    <tr>\n",
       "      <th>3</th>\n",
       "      <td>Image_4.jpg</td>\n",
       "      <td>G:/PYTHON/Final year project/Final/covid_image...</td>\n",
       "    </tr>\n",
       "    <tr>\n",
       "      <th>4</th>\n",
       "      <td>Image_5.jpg</td>\n",
       "      <td>G:/PYTHON/Final year project/Final/covid_image...</td>\n",
       "    </tr>\n",
       "  </tbody>\n",
       "</table>\n",
       "</div>"
      ],
      "text/plain": [
       "      filename                                          filepaths\n",
       "0  Image_1.jpg  G:/PYTHON/Final year project/Final/covid_image...\n",
       "1  Image_2.jpg  G:/PYTHON/Final year project/Final/covid_image...\n",
       "2  Image_3.jpg  G:/PYTHON/Final year project/Final/covid_image...\n",
       "3  Image_4.jpg  G:/PYTHON/Final year project/Final/covid_image...\n",
       "4  Image_5.jpg  G:/PYTHON/Final year project/Final/covid_image..."
      ]
     },
     "execution_count": 9,
     "metadata": {},
     "output_type": "execute_result"
    }
   ],
   "source": [
    "test_image_order = pd.read_csv(\"G:\\PYTHON\\Final year project\\Final\\covid_image_data\\covid_image_data\\Testing_set_covid.csv\")\n",
    "test_image_order.head()\n",
    "\n",
    "file_paths_test = [[fname, 'G:/PYTHON/Final year project/Final/covid_image_data/covid_image_data/test/' + fname] for fname in test_image_order['filename']]\n",
    "\n",
    "test_images = pd.DataFrame(file_paths_test, columns=['filename', 'filepaths'])\n",
    "test_images.head()"
   ]
  },
  {
   "cell_type": "code",
   "execution_count": 10,
   "id": "6171bceb",
   "metadata": {},
   "outputs": [],
   "source": [
    "data = []\n",
    "image_size = 224\n",
    "test_pixel_data = []\n",
    "import matplotlib.pyplot as plt\n",
    "\n",
    "for i in range(len(train_data)):\n",
    "    img_array = plt.imread(train_data['filepaths'][i], cv2.COLOR_BGR2RGB)\n",
    "\n",
    "    new_img_array = cv2.resize(img_array, (image_size, image_size))\n",
    "    #new_img_array = cv2.GaussianBlur(new_img_array,(5,5),0)\n",
    "    data.append([new_img_array, train_data['label'][i]])\n"
   ]
  },
  {
   "cell_type": "code",
   "execution_count": 11,
   "id": "5e87eeda",
   "metadata": {},
   "outputs": [],
   "source": [
    "for i in range(len(test_images)):\n",
    "    img_array = cv2.imread(test_images['filepaths'][i], cv2.COLOR_BGR2RGB)\n",
    "    if img_array is None:\n",
    "        print('Wrong path:', test_images['filepaths'][i])\n",
    "    new_img_array = cv2.resize(img_array, (image_size, image_size))\n",
    "    #new_img_array = cv2.GaussianBlur(new_img_array,(5,5),0)\n",
    "    test_pixel_data.append(new_img_array)"
   ]
  },
  {
   "cell_type": "code",
   "execution_count": 12,
   "id": "a87ebedd",
   "metadata": {},
   "outputs": [],
   "source": [
    "np.random.shuffle(data)"
   ]
  },
  {
   "cell_type": "code",
   "execution_count": 13,
   "id": "daa264f4",
   "metadata": {},
   "outputs": [],
   "source": [
    "x = []\n",
    "y = []\n",
    "\n",
    "counter = 406\n",
    "\n",
    "for image in data:\n",
    "    x.append(image[0])\n",
    "    y.append(image[1])\n",
    "\n",
    "# converting x & y to numpy array as they are list\n",
    "x = np.array(x)\n",
    "y = np.array(y)"
   ]
  },
  {
   "cell_type": "code",
   "execution_count": 14,
   "id": "5216b103",
   "metadata": {},
   "outputs": [
    {
     "data": {
      "text/plain": [
       "(array([0, 1], dtype=int64), array([3073,  406], dtype=int64))"
      ]
     },
     "execution_count": 14,
     "metadata": {},
     "output_type": "execute_result"
    }
   ],
   "source": [
    "np.unique(y, return_counts=True)"
   ]
  },
  {
   "cell_type": "code",
   "execution_count": 15,
   "id": "9f912600",
   "metadata": {},
   "outputs": [
    {
     "data": {
      "text/plain": [
       "0    3073\n",
       "1     406\n",
       "dtype: int64"
      ]
     },
     "execution_count": 15,
     "metadata": {},
     "output_type": "execute_result"
    }
   ],
   "source": [
    "pd.Series(y).value_counts()"
   ]
  },
  {
   "cell_type": "code",
   "execution_count": 16,
   "id": "c7596759",
   "metadata": {},
   "outputs": [],
   "source": [
    "X_train, X_val, y_train, y_val = train_test_split(x,y,test_size=0.2, random_state = 42,stratify=y)"
   ]
  },
  {
   "cell_type": "code",
   "execution_count": 17,
   "id": "ce6f0a88",
   "metadata": {},
   "outputs": [
    {
     "name": "stdout",
     "output_type": "stream",
     "text": [
      "(2783, 224, 224, 3) (696, 224, 224, 3) (870, 224, 224, 3)\n"
     ]
    }
   ],
   "source": [
    "test_pixel_data = np.array(test_pixel_data)\n",
    "\n",
    "test_pixel_data = test_pixel_data/255\n",
    "\n",
    "print(X_train.shape,X_val.shape,test_pixel_data.shape)"
   ]
  },
  {
   "cell_type": "code",
   "execution_count": 18,
   "id": "397c62fc",
   "metadata": {},
   "outputs": [],
   "source": [
    "train_datagen = tf.keras.preprocessing.image.ImageDataGenerator(rescale=1.0/255.0)\n",
    "\n",
    "val_datagen = tf.keras.preprocessing.image.ImageDataGenerator(rescale=1.0/255.0)\n",
    "\n",
    "train_generator = train_datagen.flow(X_train,y_train,batch_size=8)\n",
    "\n",
    "val_generator = val_datagen.flow(X_val,y_val,batch_size=8)"
   ]
  },
  {
   "cell_type": "code",
   "execution_count": 19,
   "id": "36e5477f",
   "metadata": {},
   "outputs": [
    {
     "data": {
      "text/plain": [
       "0    0.883621\n",
       "1    0.116379\n",
       "dtype: float64"
      ]
     },
     "execution_count": 19,
     "metadata": {},
     "output_type": "execute_result"
    }
   ],
   "source": [
    "pd.Series(y_val).value_counts(normalize=True)"
   ]
  },
  {
   "cell_type": "code",
   "execution_count": 20,
   "id": "72c73e89",
   "metadata": {},
   "outputs": [
    {
     "name": "stdout",
     "output_type": "stream",
     "text": [
      "(2783, 224, 224, 3) (696, 224, 224, 3)\n"
     ]
    }
   ],
   "source": [
    "print(X_train.shape,X_val.shape)"
   ]
  },
  {
   "cell_type": "code",
   "execution_count": 5,
   "id": "f79b01da",
   "metadata": {},
   "outputs": [],
   "source": [
    "import keras.backend as K\n",
    "\n",
    "def get_f1(y_true, y_pred): #taken from old keras source code\n",
    "    true_positives = K.sum(K.round(K.clip(y_true * y_pred, 0, 1)))\n",
    "    possible_positives = K.sum(K.round(K.clip(y_true, 0, 1)))\n",
    "    predicted_positives = K.sum(K.round(K.clip(y_pred, 0, 1)))\n",
    "    precision = true_positives / (predicted_positives + K.epsilon())\n",
    "    recall = true_positives / (possible_positives + K.epsilon())\n",
    "    f1_val = 2*(precision*recall)/(precision+recall+K.epsilon())\n",
    "    return f1_val"
   ]
  },
  {
   "cell_type": "code",
   "execution_count": 21,
   "id": "12d6dd74",
   "metadata": {},
   "outputs": [],
   "source": [
    "cbs = [tf.keras.callbacks.ReduceLROnPlateau(monitor='val_loss', factor=0.5, patience=1, min_lr=1e-5, verbose=0),\n",
    "tf.keras.callbacks.EarlyStopping(monitor='val_loss', min_delta=1e-6, patience=10, verbose=1, mode='auto')]"
   ]
  },
  {
   "cell_type": "code",
   "execution_count": 22,
   "id": "4b90b5f1",
   "metadata": {},
   "outputs": [],
   "source": [
    "from tensorflow.keras.applications import VGG16,EfficientNetB0,NASNetMobile,DenseNet201\n",
    "from keras.layers import *\n",
    "from keras.models import Sequential\n",
    "from keras.regularizers import *\n",
    "from tensorflow.keras.optimizers import Adam"
   ]
  },
  {
   "cell_type": "code",
   "execution_count": 23,
   "id": "0e062b68",
   "metadata": {},
   "outputs": [],
   "source": [
    "def build_model():\n",
    "    model = Sequential()\n",
    "\n",
    "    conv_base = EfficientNetB0(input_shape=(224,224,3), include_top=False, pooling='max',weights='imagenet')\n",
    "    model.add(conv_base)\n",
    "    model.add(BatchNormalization())\n",
    "    model.add(Dense(2048, activation='relu', kernel_regularizer=l1_l2(0.01)))\n",
    "    model.add(BatchNormalization())\n",
    "  # model.add(Dense(2048, activation='relu', kernel_regularizer=l1_l2(0.01)))\n",
    "  # model.add(BatchNormalization())\n",
    "  # model.add(Dense(2048, activation='relu', kernel_regularizer=l1_l2(0.01)))\n",
    "  # model.add(BatchNormalization())\n",
    "  # model.add(Dense(1024, activation='relu', kernel_regularizer=l1_l2(0.01)))\n",
    "  # model.add(BatchNormalization())\n",
    "    model.add(Dense(1, activation='sigmoid'))\n",
    "    for layer in model.layers:\n",
    "        layer.trainable = True\n",
    " \n",
    "    model.compile(loss='binary_crossentropy', optimizer=Adam(lr=1e-4), metrics=['accuracy',\"Precision\",\"Recall\"])\n",
    "\n",
    "    return model"
   ]
  },
  {
   "cell_type": "code",
   "execution_count": null,
   "id": "656156f9",
   "metadata": {},
   "outputs": [],
   "source": []
  },
  {
   "cell_type": "code",
   "execution_count": 24,
   "id": "38e74ef0",
   "metadata": {},
   "outputs": [
    {
     "name": "stdout",
     "output_type": "stream",
     "text": [
      "Downloading data from https://storage.googleapis.com/keras-applications/efficientnetb0_notop.h5\n",
      "16711680/16705208 [==============================] - 2s 0us/step\n",
      "16719872/16705208 [==============================] - 2s 0us/step\n",
      "Model: \"sequential\"\n",
      "_________________________________________________________________\n",
      "Layer (type)                 Output Shape              Param #   \n",
      "=================================================================\n",
      "efficientnetb0 (Functional)  (None, 1280)              4049571   \n",
      "_________________________________________________________________\n",
      "batch_normalization (BatchNo (None, 1280)              5120      \n",
      "_________________________________________________________________\n",
      "dense (Dense)                (None, 2048)              2623488   \n",
      "_________________________________________________________________\n",
      "batch_normalization_1 (Batch (None, 2048)              8192      \n",
      "_________________________________________________________________\n",
      "dense_1 (Dense)              (None, 1)                 2049      \n",
      "=================================================================\n",
      "Total params: 6,688,420\n",
      "Trainable params: 6,639,741\n",
      "Non-trainable params: 48,679\n",
      "_________________________________________________________________\n"
     ]
    },
    {
     "name": "stderr",
     "output_type": "stream",
     "text": [
      "C:\\Users\\Charan Chandra\\anaconda3\\envs\\gputest\\lib\\site-packages\\keras\\optimizer_v2\\optimizer_v2.py:356: UserWarning: The `lr` argument is deprecated, use `learning_rate` instead.\n",
      "  \"The `lr` argument is deprecated, use `learning_rate` instead.\")\n"
     ]
    }
   ],
   "source": [
    "model = build_model()\n",
    "model.summary()"
   ]
  },
  {
   "cell_type": "code",
   "execution_count": 25,
   "id": "b7c8111d",
   "metadata": {},
   "outputs": [],
   "source": [
    "from tensorflow.python.keras.callbacks import TensorBoard\n",
    "from time import time\n",
    "Tensorboard = TensorBoard(log_dir=\"G:\\\\PYTHON\\\\Final year project\\\\Final\\\\covid_image_data\\\\covid_image_data\\\\weights\\\\{}\".format(time()))"
   ]
  },
  {
   "cell_type": "code",
   "execution_count": 26,
   "id": "55cfd5de",
   "metadata": {},
   "outputs": [
    {
     "name": "stderr",
     "output_type": "stream",
     "text": [
      "C:\\Users\\Charan Chandra\\anaconda3\\envs\\gputest\\lib\\site-packages\\keras\\utils\\generic_utils.py:497: CustomMaskWarning: Custom mask layers require a config and must override get_config. When loading, the custom mask layer must be passed to the custom_objects argument.\n",
      "  category=CustomMaskWarning)\n"
     ]
    },
    {
     "name": "stdout",
     "output_type": "stream",
     "text": [
      "Epoch 1/100\n",
      "87/87 [==============================] - 55s 334ms/step - loss: 485.8745 - accuracy: 0.6662 - precision: 0.2733 - recall: 0.8542 - val_loss: 400.4271 - val_accuracy: 0.1023 - val_precision: 0.1023 - val_recall: 1.0000\n",
      "Epoch 2/100\n",
      "87/87 [==============================] - 22s 256ms/step - loss: 327.4297 - accuracy: 0.7342 - precision: 0.2899 - recall: 0.8118 - val_loss: 259.7607 - val_accuracy: 0.8807 - val_precision: 1.0000 - val_recall: 0.0455\n",
      "Epoch 3/100\n",
      "87/87 [==============================] - 22s 250ms/step - loss: 205.6646 - accuracy: 0.8075 - precision: 0.3542 - recall: 0.8718 - val_loss: 156.7112 - val_accuracy: 0.1989 - val_precision: 0.0940 - val_recall: 0.7000\n",
      "Epoch 4/100\n",
      "87/87 [==============================] - 22s 252ms/step - loss: 119.4129 - accuracy: 0.8190 - precision: 0.3850 - recall: 0.8675 - val_loss: 87.7515 - val_accuracy: 0.8409 - val_precision: 0.0000e+00 - val_recall: 0.0000e+00\n",
      "Epoch 5/100\n",
      "87/87 [==============================] - 21s 247ms/step - loss: 68.1322 - accuracy: 0.7687 - precision: 0.3256 - recall: 0.8140 - val_loss: 53.1382 - val_accuracy: 0.1250 - val_precision: 0.1250 - val_recall: 1.0000\n",
      "Epoch 6/100\n",
      "87/87 [==============================] - 22s 253ms/step - loss: 41.1963 - accuracy: 0.7701 - precision: 0.3209 - recall: 0.8313 - val_loss: 33.2383 - val_accuracy: 0.5739 - val_precision: 0.1266 - val_recall: 0.6250\n",
      "Epoch 7/100\n",
      "87/87 [==============================] - 22s 253ms/step - loss: 28.4149 - accuracy: 0.7342 - precision: 0.2727 - recall: 0.7875 - val_loss: 22.5906 - val_accuracy: 0.3977 - val_precision: 0.1071 - val_recall: 0.6667\n",
      "Epoch 8/100\n",
      "87/87 [==============================] - 22s 251ms/step - loss: 17.3932 - accuracy: 0.8290 - precision: 0.4068 - recall: 0.8372 - val_loss: 16.7347 - val_accuracy: 0.1193 - val_precision: 0.1193 - val_recall: 1.0000\n",
      "Epoch 9/100\n",
      "87/87 [==============================] - 22s 252ms/step - loss: 11.6109 - accuracy: 0.8175 - precision: 0.3626 - recall: 0.7750 - val_loss: 10.1123 - val_accuracy: 0.3068 - val_precision: 0.1037 - val_recall: 0.9333\n",
      "Epoch 10/100\n",
      "87/87 [==============================] - 22s 256ms/step - loss: 7.6789 - accuracy: 0.8491 - precision: 0.3796 - recall: 0.7222 - val_loss: 9.1942 - val_accuracy: 0.1364 - val_precision: 0.1364 - val_recall: 1.0000\n",
      "Epoch 11/100\n",
      "87/87 [==============================] - 22s 252ms/step - loss: 4.3942 - accuracy: 0.8921 - precision: 0.5039 - recall: 0.8421 - val_loss: 8.3711 - val_accuracy: 0.1080 - val_precision: 0.1080 - val_recall: 1.0000\n",
      "Epoch 12/100\n",
      "87/87 [==============================] - 22s 253ms/step - loss: 4.2015 - accuracy: 0.8491 - precision: 0.4016 - recall: 0.6375 - val_loss: 11.4560 - val_accuracy: 0.1136 - val_precision: 0.1136 - val_recall: 1.0000\n",
      "Epoch 13/100\n",
      "87/87 [==============================] - 23s 260ms/step - loss: 2.5984 - accuracy: 0.8935 - precision: 0.5000 - recall: 0.7432 - val_loss: 2.2522 - val_accuracy: 0.8864 - val_precision: 0.0000e+00 - val_recall: 0.0000e+00\n",
      "Epoch 14/100\n",
      "87/87 [==============================] - 23s 259ms/step - loss: 1.9175 - accuracy: 0.8721 - precision: 0.4779 - recall: 0.7831 - val_loss: 2.6372 - val_accuracy: 0.8807 - val_precision: 0.0000e+00 - val_recall: 0.0000e+00\n",
      "Epoch 15/100\n",
      "87/87 [==============================] - 22s 257ms/step - loss: 1.7410 - accuracy: 0.8865 - precision: 0.5259 - recall: 0.7176 - val_loss: 3.1372 - val_accuracy: 0.1193 - val_precision: 0.0936 - val_recall: 1.0000\n",
      "Epoch 16/100\n",
      "87/87 [==============================] - 22s 257ms/step - loss: 1.1714 - accuracy: 0.9223 - precision: 0.6724 - recall: 0.8298 - val_loss: 1.6962 - val_accuracy: 0.6364 - val_precision: 0.3043 - val_recall: 1.0000\n",
      "Epoch 17/100\n",
      "87/87 [==============================] - 22s 254ms/step - loss: 1.1456 - accuracy: 0.9094 - precision: 0.5909 - recall: 0.7831 - val_loss: 1.1833 - val_accuracy: 0.7841 - val_precision: 0.3400 - val_recall: 0.7727\n",
      "Epoch 18/100\n",
      "87/87 [==============================] - 22s 257ms/step - loss: 0.7939 - accuracy: 0.9295 - precision: 0.6476 - recall: 0.8500 - val_loss: 0.8711 - val_accuracy: 0.9318 - val_precision: 0.9286 - val_recall: 0.5417\n",
      "Epoch 19/100\n",
      "87/87 [==============================] - 23s 259ms/step - loss: 0.9122 - accuracy: 0.9080 - precision: 0.5833 - recall: 0.7683 - val_loss: 0.8748 - val_accuracy: 0.8693 - val_precision: 0.4474 - val_recall: 0.8947\n",
      "Epoch 20/100\n",
      "87/87 [==============================] - 23s 259ms/step - loss: 0.7529 - accuracy: 0.9368 - precision: 0.6800 - recall: 0.8500 - val_loss: 0.7925 - val_accuracy: 0.9148 - val_precision: 0.5484 - val_recall: 0.9444\n",
      "Epoch 21/100\n",
      "87/87 [==============================] - 22s 249ms/step - loss: 0.7806 - accuracy: 0.9253 - precision: 0.6196 - recall: 0.7703 - val_loss: 1.1019 - val_accuracy: 0.6989 - val_precision: 0.2817 - val_recall: 0.9091\n",
      "Epoch 22/100\n",
      "87/87 [==============================] - 23s 260ms/step - loss: 0.7320 - accuracy: 0.9325 - precision: 0.6489 - recall: 0.8133 - val_loss: 0.9554 - val_accuracy: 0.8807 - val_precision: 0.0000e+00 - val_recall: 0.0000e+00\n",
      "Epoch 23/100\n",
      "87/87 [==============================] - 23s 260ms/step - loss: 0.6580 - accuracy: 0.9338 - precision: 0.6404 - recall: 0.8028 - val_loss: 1.2206 - val_accuracy: 0.5852 - val_precision: 0.1818 - val_recall: 0.9412\n",
      "Epoch 24/100\n",
      "87/87 [==============================] - 23s 261ms/step - loss: 0.5881 - accuracy: 0.9410 - precision: 0.7255 - recall: 0.8506 - val_loss: 0.9405 - val_accuracy: 0.7159 - val_precision: 0.2462 - val_recall: 0.9412\n",
      "Epoch 25/100\n",
      "87/87 [==============================] - 22s 257ms/step - loss: 0.5293 - accuracy: 0.9569 - precision: 0.7917 - recall: 0.8837 - val_loss: 0.5670 - val_accuracy: 0.9375 - val_precision: 1.0000 - val_recall: 0.3889\n",
      "Epoch 26/100\n",
      "87/87 [==============================] - 22s 258ms/step - loss: 0.7041 - accuracy: 0.9295 - precision: 0.7333 - recall: 0.7857 - val_loss: 1.1207 - val_accuracy: 0.6420 - val_precision: 0.2841 - val_recall: 1.0000\n",
      "Epoch 27/100\n",
      "87/87 [==============================] - 22s 257ms/step - loss: 0.7068 - accuracy: 0.9195 - precision: 0.6579 - recall: 0.8152 - val_loss: 0.7622 - val_accuracy: 0.8636 - val_precision: 0.4783 - val_recall: 1.0000\n",
      "Epoch 28/100\n",
      "87/87 [==============================] - 23s 260ms/step - loss: 0.5385 - accuracy: 0.9568 - precision: 0.7561 - recall: 0.8611 - val_loss: 0.5305 - val_accuracy: 0.9091 - val_precision: 0.6429 - val_recall: 0.7500\n",
      "Epoch 29/100\n",
      "87/87 [==============================] - 23s 260ms/step - loss: 0.8026 - accuracy: 0.9065 - precision: 0.5794 - recall: 0.7561 - val_loss: 1.6136 - val_accuracy: 0.3352 - val_precision: 0.1818 - val_recall: 1.0000\n",
      "Epoch 30/100\n",
      "87/87 [==============================] - 22s 257ms/step - loss: 0.5676 - accuracy: 0.9540 - precision: 0.7467 - recall: 0.8116 - val_loss: 0.9523 - val_accuracy: 0.6193 - val_precision: 0.2381 - val_recall: 0.8696\n",
      "Epoch 31/100\n",
      "87/87 [==============================] - 22s 258ms/step - loss: 0.4849 - accuracy: 0.9525 - precision: 0.7273 - recall: 0.8235 - val_loss: 0.4930 - val_accuracy: 0.9375 - val_precision: 0.5882 - val_recall: 0.7143\n",
      "Epoch 32/100\n",
      "87/87 [==============================] - 22s 249ms/step - loss: 0.5456 - accuracy: 0.9397 - precision: 0.7327 - recall: 0.8315 - val_loss: 0.5055 - val_accuracy: 0.9261 - val_precision: 0.7600 - val_recall: 0.7308\n",
      "Epoch 33/100\n",
      "87/87 [==============================] - 24s 271ms/step - loss: 0.5232 - accuracy: 0.9439 - precision: 0.6804 - recall: 0.8919 - val_loss: 0.6999 - val_accuracy: 0.8125 - val_precision: 0.2857 - val_recall: 0.8000\n",
      "Epoch 34/100\n",
      "87/87 [==============================] - 23s 267ms/step - loss: 0.5395 - accuracy: 0.9367 - precision: 0.6824 - recall: 0.7733 - val_loss: 3.9121 - val_accuracy: 0.1023 - val_precision: 0.1023 - val_recall: 1.0000\n",
      "Epoch 35/100\n",
      "87/87 [==============================] - 22s 257ms/step - loss: 0.3905 - accuracy: 0.9756 - precision: 0.8194 - recall: 0.9365 - val_loss: 0.9461 - val_accuracy: 0.6307 - val_precision: 0.2179 - val_recall: 0.8095\n",
      "Epoch 36/100\n",
      "87/87 [==============================] - 22s 258ms/step - loss: 0.5067 - accuracy: 0.9440 - precision: 0.7273 - recall: 0.8101 - val_loss: 2.1041 - val_accuracy: 0.2102 - val_precision: 0.1203 - val_recall: 1.0000\n"
     ]
    },
    {
     "name": "stdout",
     "output_type": "stream",
     "text": [
      "Epoch 37/100\n",
      "87/87 [==============================] - 23s 259ms/step - loss: 0.5324 - accuracy: 0.9440 - precision: 0.7089 - recall: 0.7778 - val_loss: 4.9335 - val_accuracy: 0.1136 - val_precision: 0.1136 - val_recall: 1.0000\n",
      "Epoch 38/100\n",
      "87/87 [==============================] - 23s 263ms/step - loss: 0.5009 - accuracy: 0.9468 - precision: 0.7347 - recall: 0.8675 - val_loss: 0.6459 - val_accuracy: 0.8409 - val_precision: 0.4615 - val_recall: 0.7200\n",
      "Epoch 39/100\n",
      "87/87 [==============================] - 23s 263ms/step - loss: 0.5077 - accuracy: 0.9497 - precision: 0.7396 - recall: 0.8765 - val_loss: 0.5465 - val_accuracy: 0.9148 - val_precision: 0.6667 - val_recall: 0.6957\n",
      "Epoch 40/100\n",
      "87/87 [==============================] - 23s 266ms/step - loss: 0.5064 - accuracy: 0.9440 - precision: 0.7368 - recall: 0.8333 - val_loss: 0.7163 - val_accuracy: 0.8182 - val_precision: 0.4400 - val_recall: 0.3793\n",
      "Epoch 41/100\n",
      "87/87 [==============================] - 23s 262ms/step - loss: 0.4549 - accuracy: 0.9568 - precision: 0.8000 - recall: 0.8571 - val_loss: 0.5373 - val_accuracy: 0.9261 - val_precision: 0.5862 - val_recall: 0.9444\n",
      "Epoch 00041: early stopping\n",
      "15min 54s ± 0 ns per loop (mean ± std. dev. of 1 run, 1 loop each)\n"
     ]
    }
   ],
   "source": [
    "%%timeit -n1 -r1 \n",
    "with tf.device(\"GPU\"):\n",
    "    model.fit(train_generator,steps_per_epoch=87,epochs=100,validation_data=val_generator,validation_steps=22,callbacks=[cbs,Tensorboard],class_weight={0:1,1:2})"
   ]
  },
  {
   "cell_type": "code",
   "execution_count": 136,
   "id": "3f5186f9",
   "metadata": {},
   "outputs": [
    {
     "data": {
      "text/plain": [
       "'1'"
      ]
     },
     "execution_count": 136,
     "metadata": {},
     "output_type": "execute_result"
    }
   ],
   "source": [
    "import os\n",
    "os.environ['CUDA_VISIBLE_DEVICES'] = '1'\n"
   ]
  },
  {
   "cell_type": "code",
   "execution_count": 31,
   "id": "dbf46234",
   "metadata": {},
   "outputs": [
    {
     "name": "stderr",
     "output_type": "stream",
     "text": [
      "C:\\Users\\Charan Chandra\\anaconda3\\envs\\gputest\\lib\\site-packages\\keras\\utils\\generic_utils.py:497: CustomMaskWarning: Custom mask layers require a config and must override get_config. When loading, the custom mask layer must be passed to the custom_objects argument.\n",
      "  category=CustomMaskWarning)\n"
     ]
    }
   ],
   "source": [
    "model.save(\"G:\\\\PYTHON\\\\Final year project\\\\Final\\\\covid_image_data\\\\covid_image_data\\\\efficientnetb0.h5\")"
   ]
  },
  {
   "cell_type": "code",
   "execution_count": 27,
   "id": "79d642e5",
   "metadata": {},
   "outputs": [],
   "source": [
    "preds = model.predict(X_val/255.0)\n",
    "predictions = []\n",
    "for i in preds:\n",
    "    if i[0] > 0.5:\n",
    "        predictions.append(1)\n",
    "    else:\n",
    "        predictions.append(0)"
   ]
  },
  {
   "cell_type": "code",
   "execution_count": 28,
   "id": "1d08a59f",
   "metadata": {},
   "outputs": [
    {
     "name": "stdout",
     "output_type": "stream",
     "text": [
      "0.6493506493506493\n",
      "[[540  75]\n",
      " [  6  75]]\n"
     ]
    }
   ],
   "source": [
    "from sklearn.metrics import f1_score,confusion_matrix\n",
    "print(f1_score(y_val,predictions))\n",
    "print(confusion_matrix(y_val,predictions))"
   ]
  },
  {
   "cell_type": "code",
   "execution_count": 29,
   "id": "1c35f48f",
   "metadata": {},
   "outputs": [
    {
     "name": "stdout",
     "output_type": "stream",
     "text": [
      "              precision    recall  f1-score   support\n",
      "\n",
      "       COVID       0.99      0.88      0.93       615\n",
      "      Normal       0.50      0.93      0.65        81\n",
      "\n",
      "    accuracy                           0.88       696\n",
      "   macro avg       0.74      0.90      0.79       696\n",
      "weighted avg       0.93      0.88      0.90       696\n",
      "\n"
     ]
    }
   ],
   "source": [
    "from sklearn.metrics import confusion_matrix,classification_report\n",
    "target_names = [\"COVID\",\"Normal\"]\n",
    "print(classification_report(y_val,predictions, target_names=target_names))"
   ]
  },
  {
   "cell_type": "code",
   "execution_count": 30,
   "id": "6026c9fa",
   "metadata": {},
   "outputs": [
    {
     "data": {
      "image/png": "[encoded data removed]",
      "text/plain": [
       "<Figure size 540x540 with 1 Axes>"
      ]
     },
     "metadata": {
      "needs_background": "light"
     },
     "output_type": "display_data"
    }
   ],
   "source": [
    "conf_matrix = confusion_matrix(y_val,predictions)\n",
    "fig, ax = plt.subplots(figsize=(7.5, 7.5))\n",
    "ax.matshow(conf_matrix, cmap=plt.cm.Blues, alpha=0.3)\n",
    "for i in range(conf_matrix.shape[0]):\n",
    "    for j in range(conf_matrix.shape[1]):\n",
    "        ax.text(x=j, y=i,s=conf_matrix[i, j], va='center', ha='center', size='xx-large')\n",
    "\n",
    "plt.xlabel('Predictions', fontsize=18)\n",
    "plt.ylabel('Actuals', fontsize=18)\n",
    "plt.title('Confusion Matrix', fontsize=18)\n",
    "plt.show()"
   ]
  },
  {
   "cell_type": "code",
   "execution_count": 21,
   "id": "a434c197",
   "metadata": {},
   "outputs": [],
   "source": [
    "predictions = []\n",
    "for i in preds:\n",
    "    if i[0] > 0.8:\n",
    "        predictions.append(1)\n",
    "    else:\n",
    "        predictions.append(0)"
   ]
  },
  {
   "cell_type": "code",
   "execution_count": 51,
   "id": "2a4fb393",
   "metadata": {},
   "outputs": [
    {
     "data": {
      "text/plain": [
       "0    837\n",
       "1     33\n",
       "dtype: int64"
      ]
     },
     "execution_count": 51,
     "metadata": {},
     "output_type": "execute_result"
    }
   ],
   "source": [
    "pd.Series(predictions).value_counts()"
   ]
  },
  {
   "cell_type": "code",
   "execution_count": null,
   "id": "18905fc9",
   "metadata": {},
   "outputs": [],
   "source": []
  },
  {
   "cell_type": "code",
   "execution_count": 53,
   "id": "214b6263",
   "metadata": {},
   "outputs": [
    {
     "data": {
      "text/plain": [
       "prediction\n",
       "0             837\n",
       "1              33\n",
       "dtype: int64"
      ]
     },
     "execution_count": 53,
     "metadata": {},
     "output_type": "execute_result"
    }
   ],
   "source": [
    "result = pd.DataFrame(predictions,columns=['prediction'])\n",
    "\n",
    "result.value_counts()"
   ]
  },
  {
   "cell_type": "code",
   "execution_count": null,
   "id": "df93a8bc",
   "metadata": {},
   "outputs": [],
   "source": []
  },
  {
   "cell_type": "code",
   "execution_count": 1,
   "id": "812b4ea5",
   "metadata": {},
   "outputs": [],
   "source": [
    "from keras.models import load_model\n",
    "model = load_model(\"G:\\\\PYTHON\\\\Final year project\\\\Final\\\\covid_image_data\\\\covid_image_data\\\\vgg_16_1.h5\",\n",
    "                  )"
   ]
  },
  {
   "cell_type": "code",
   "execution_count": 2,
   "id": "702a1a72",
   "metadata": {},
   "outputs": [
    {
     "data": {
      "image/png": "[encoded data removed]",
      "text/plain": [
       "<Figure size 432x288 with 1 Axes>"
      ]
     },
     "metadata": {
      "needs_background": "light"
     },
     "output_type": "display_data"
    },
    {
     "name": "stdout",
     "output_type": "stream",
     "text": [
      "COVID\n"
     ]
    }
   ],
   "source": [
    "%matplotlib inline\n",
    "# get sample image to test.\n",
    "import numpy as np\n",
    "import cv2\n",
    "import matplotlib.pyplot as plt\n",
    "\n",
    "img_covid = 'G:\\\\PYTHON\\\\Final year project\\\\Dataset\\\\COVID-19_Radiography_Dataset\\\\COVID\\\\COVID-289.png'\n",
    "img_normal = 'G:\\\\PYTHON\\\\Final year project\\\\Dataset\\\\COVID-19_Radiography_Dataset\\\\Normal\\\\Normal-69.png'\n",
    "\n",
    "\n",
    "img_array = cv2.imread(img_covid)\n",
    "plt.imshow(img_array)\n",
    "#plt.imshow(image)\n",
    "plt.show()\n",
    "new_img_array = cv2.resize(img_array, (224, 224))\n",
    "dt = []\n",
    "dt.append(new_img_array)\n",
    "X = np.array(dt)\n",
    "X = X/255\n",
    "val = model.predict(X)\n",
    "#print(\"Confidence : \",round(val[0][0]*100,2),\"%\")\n",
    "#print(val)\n",
    "if val > 0.5:\n",
    "    print(\"COVID\")\n",
    "else:\n",
    "    print(\"NORMAL\")"
   ]
  },
  {
   "cell_type": "code",
   "execution_count": 3,
   "id": "6dfb9f02",
   "metadata": {},
   "outputs": [
    {
     "name": "stdout",
     "output_type": "stream",
     "text": [
      "0.9537172774869109\n"
     ]
    }
   ],
   "source": [
    "def fun(pres,rec):\n",
    "    print((2*pres*rec)/(pres+rec))\n",
    "fun(0.92,0.99)"
   ]
  }
 ],
 "metadata": {
  "kernelspec": {
   "display_name": "gputest",
   "language": "python",
   "name": "gputest"
  },
  "language_info": {
   "codemirror_mode": {
    "name": "ipython",
    "version": 3
   },
   "file_extension": ".py",
   "mimetype": "text/x-python",
   "name": "python",
   "nbconvert_exporter": "python",
   "pygments_lexer": "ipython3",
   "version": "3.6.13"
  }
 },
 "nbformat": 4,
 "nbformat_minor": 5
}

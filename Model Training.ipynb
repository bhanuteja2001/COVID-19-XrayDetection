{
  "nbformat": 4,
  "nbformat_minor": 0,
  "metadata": {
    "colab": {
      "name": "Model.ipynb",
      "provenance": [],
      "authorship_tag": "ABX9TyPaYSrjbWEuJPDPD79p3CcS",
      "include_colab_link": true
    },
    "kernelspec": {
      "name": "python3",
      "display_name": "Python 3"
    },
    "accelerator": "GPU"
  },
  "cells": [
    {
      "cell_type": "markdown",
      "metadata": {
        "id": "view-in-github",
        "colab_type": "text"
      },
      "source": [
        "<a href=\"https://colab.research.google.com/github/bhanuteja2001/COVID-19-XrayDetection/blob/main/Model%20Training.ipynb\" target=\"_parent\"><img src=\"https://colab.research.google.com/assets/colab-badge.svg\" alt=\"Open In Colab\"/></a>"
      ]
    },
    {
      "cell_type": "code",
      "metadata": {
        "colab": {
          "base_uri": "https://localhost:8080/"
        },
        "id": "pjcOkplXNEUC",
        "outputId": "fb6b7146-70f4-4826-9998-301d7c4305ac"
      },
      "source": [
        "from google.colab import drive\n",
        "drive.mount('/content/drive')"
      ],
      "execution_count": 1,
      "outputs": [
        {
          "output_type": "stream",
          "text": [
            "Mounted at /content/drive\n"
          ],
          "name": "stdout"
        }
      ]
    },
    {
      "cell_type": "code",
      "metadata": {
        "colab": {
          "base_uri": "https://localhost:8080/"
        },
        "id": "7k18dexYNHAk",
        "outputId": "60acc457-22e0-45dd-e701-1e62676f5cbd"
      },
      "source": [
        "import tensorflow as tf\n",
        "print(tf.__version__)"
      ],
      "execution_count": 2,
      "outputs": [
        {
          "output_type": "stream",
          "text": [
            "2.3.0\n"
          ],
          "name": "stdout"
        }
      ]
    },
    {
      "cell_type": "code",
      "metadata": {
        "id": "Imv21SDjNPgC"
      },
      "source": [
        "import pandas as pd\n",
        "import numpy as np"
      ],
      "execution_count": null,
      "outputs": []
    },
    {
      "cell_type": "code",
      "metadata": {
        "colab": {
          "base_uri": "https://localhost:8080/"
        },
        "id": "_styRoHZyRb6",
        "outputId": "180824ac-0d61-4157-e0e2-53e2cee6612b"
      },
      "source": [
        "!pip install split-folders"
      ],
      "execution_count": null,
      "outputs": [
        {
          "output_type": "stream",
          "text": [
            "Collecting split-folders\n",
            "  Downloading https://files.pythonhosted.org/packages/b8/5f/3c2b2f7ea5e047c8cdc3bb00ae582c5438fcdbbedcc23b3cc1c2c7aae642/split_folders-0.4.3-py3-none-any.whl\n",
            "Installing collected packages: split-folders\n",
            "Successfully installed split-folders-0.4.3\n"
          ],
          "name": "stdout"
        }
      ]
    },
    {
      "cell_type": "code",
      "metadata": {
        "colab": {
          "base_uri": "https://localhost:8080/"
        },
        "id": "NY2USnQxyRYx",
        "outputId": "7ef8a2f9-6cbc-4893-d13b-8c586860a026"
      },
      "source": [
        "\"\"\"import splitfolders\n",
        "splitfolders.ratio(train_path, output=\"output\", seed=1337, ratio=(.8, 0.1,0.1))\"\"\""
      ],
      "execution_count": null,
      "outputs": [
        {
          "output_type": "stream",
          "text": [
            "Copying files: 2919 files [23:58,  2.03 files/s]\n"
          ],
          "name": "stderr"
        }
      ]
    },
    {
      "cell_type": "code",
      "metadata": {
        "colab": {
          "base_uri": "https://localhost:8080/",
          "height": 35
        },
        "id": "7GuyThieyQrm",
        "outputId": "46e27168-c6bc-41ff-efc8-a94ba112f8da"
      },
      "source": [
        "\"\"\"import shutil\n",
        "shutil.move(\"/content/output\", \"/content/drive/MyDrive/covid_image_data\")\"\"\""
      ],
      "execution_count": null,
      "outputs": [
        {
          "output_type": "execute_result",
          "data": {
            "application/vnd.google.colaboratory.intrinsic+json": {
              "type": "string"
            },
            "text/plain": [
              "'/content/drive/MyDrive/covid_image_data/output'"
            ]
          },
          "metadata": {
            "tags": []
          },
          "execution_count": 53
        }
      ]
    },
    {
      "cell_type": "markdown",
      "metadata": {
        "id": "-DqBy5BqIqU4"
      },
      "source": [
        "## VGG 16"
      ]
    },
    {
      "cell_type": "code",
      "metadata": {
        "id": "nIxHNwrxeUI2"
      },
      "source": [
        "from keras.layers import Input, Lambda, Dense, Flatten\n",
        "from keras.models import Model\n",
        "from keras.applications.vgg16 import VGG16\n",
        "from keras.applications.vgg16 import preprocess_input\n",
        "from keras.preprocessing import image\n",
        "from keras.preprocessing.image import ImageDataGenerator\n",
        "from keras.models import Sequential\n",
        "import numpy as np\n",
        "from glob import glob\n",
        "import matplotlib.pyplot as plt"
      ],
      "execution_count": 3,
      "outputs": []
    },
    {
      "cell_type": "code",
      "metadata": {
        "colab": {
          "base_uri": "https://localhost:8080/"
        },
        "id": "S57iHeAjesw6",
        "outputId": "4d9b268e-0a2d-4c58-e4f7-c193b1aa9ad2"
      },
      "source": [
        "from tensorflow.keras.optimizers import RMSprop\n",
        "np.random.seed(1337)\n",
        "IMAGE_SIZE = [224, 224]\n",
        "\n",
        "train_path = '/content/drive/MyDrive/covid_image_data/output/train'\n",
        "valid_path = '/content/drive/MyDrive/covid_image_data/output/val'\n",
        "\n",
        "\n",
        "vgg = VGG16(input_shape=IMAGE_SIZE + [3], weights='imagenet', include_top=False)\n",
        "\n",
        "# don't train existing weights\n",
        "for layer in vgg.layers:\n",
        "  layer.trainable = False\n",
        "  \n",
        "\n",
        "  \n",
        "  # useful for getting number of classes\n",
        "folders = glob('/content/drive/MyDrive/covid_image_data/output/train/*')\n",
        "  \n",
        "\n",
        "# our layers - you can add more if you want\n",
        "x = Flatten()(vgg.output)\n",
        "# x = Dense(1000, activation='relu')(x)\n",
        "prediction = Dense(1, activation='sigmoid')(x)\n",
        "\n",
        "# create a model object\n",
        "model = Model(inputs=vgg.input, outputs=prediction)\n",
        "\n",
        "# view the structure of the model\n",
        "model.summary()\n",
        "\n",
        "# tell the model what cost and optimization method to use\n",
        "model.compile(\n",
        "  loss='binary_crossentropy',\n",
        "  optimizer=RMSprop(lr=0.0001),\n",
        "  metrics=['accuracy']\n",
        ")"
      ],
      "execution_count": 4,
      "outputs": [
        {
          "output_type": "stream",
          "text": [
            "Downloading data from https://storage.googleapis.com/tensorflow/keras-applications/vgg16/vgg16_weights_tf_dim_ordering_tf_kernels_notop.h5\n",
            "58892288/58889256 [==============================] - 0s 0us/step\n",
            "Model: \"functional_1\"\n",
            "_________________________________________________________________\n",
            "Layer (type)                 Output Shape              Param #   \n",
            "=================================================================\n",
            "input_1 (InputLayer)         [(None, 224, 224, 3)]     0         \n",
            "_________________________________________________________________\n",
            "block1_conv1 (Conv2D)        (None, 224, 224, 64)      1792      \n",
            "_________________________________________________________________\n",
            "block1_conv2 (Conv2D)        (None, 224, 224, 64)      36928     \n",
            "_________________________________________________________________\n",
            "block1_pool (MaxPooling2D)   (None, 112, 112, 64)      0         \n",
            "_________________________________________________________________\n",
            "block2_conv1 (Conv2D)        (None, 112, 112, 128)     73856     \n",
            "_________________________________________________________________\n",
            "block2_conv2 (Conv2D)        (None, 112, 112, 128)     147584    \n",
            "_________________________________________________________________\n",
            "block2_pool (MaxPooling2D)   (None, 56, 56, 128)       0         \n",
            "_________________________________________________________________\n",
            "block3_conv1 (Conv2D)        (None, 56, 56, 256)       295168    \n",
            "_________________________________________________________________\n",
            "block3_conv2 (Conv2D)        (None, 56, 56, 256)       590080    \n",
            "_________________________________________________________________\n",
            "block3_conv3 (Conv2D)        (None, 56, 56, 256)       590080    \n",
            "_________________________________________________________________\n",
            "block3_pool (MaxPooling2D)   (None, 28, 28, 256)       0         \n",
            "_________________________________________________________________\n",
            "block4_conv1 (Conv2D)        (None, 28, 28, 512)       1180160   \n",
            "_________________________________________________________________\n",
            "block4_conv2 (Conv2D)        (None, 28, 28, 512)       2359808   \n",
            "_________________________________________________________________\n",
            "block4_conv3 (Conv2D)        (None, 28, 28, 512)       2359808   \n",
            "_________________________________________________________________\n",
            "block4_pool (MaxPooling2D)   (None, 14, 14, 512)       0         \n",
            "_________________________________________________________________\n",
            "block5_conv1 (Conv2D)        (None, 14, 14, 512)       2359808   \n",
            "_________________________________________________________________\n",
            "block5_conv2 (Conv2D)        (None, 14, 14, 512)       2359808   \n",
            "_________________________________________________________________\n",
            "block5_conv3 (Conv2D)        (None, 14, 14, 512)       2359808   \n",
            "_________________________________________________________________\n",
            "block5_pool (MaxPooling2D)   (None, 7, 7, 512)         0         \n",
            "_________________________________________________________________\n",
            "flatten (Flatten)            (None, 25088)             0         \n",
            "_________________________________________________________________\n",
            "dense (Dense)                (None, 1)                 25089     \n",
            "=================================================================\n",
            "Total params: 14,739,777\n",
            "Trainable params: 25,089\n",
            "Non-trainable params: 14,714,688\n",
            "_________________________________________________________________\n"
          ],
          "name": "stdout"
        }
      ]
    },
    {
      "cell_type": "code",
      "metadata": {
        "id": "BNB8Rb9t8rn5"
      },
      "source": [
        "from tensorflow.keras.callbacks import ModelCheckpoint, EarlyStopping\n",
        "\n",
        "def get_checkpoint_every_epoch():\n",
        "    \"\"\"\n",
        "    This function should return a ModelCheckpoint object that:\n",
        "    - saves the weights only at the end of every epoch\n",
        "    - saves into a directory called 'checkpoints_every_epoch' inside the current working directory\n",
        "    - generates filenames in that directory like 'checkpoint_XXX' where\n",
        "      XXX is the epoch number formatted to have three digits, e.g. 001, 002, 003, etc.\n",
        "    \"\"\"\n",
        "    checkpoints_every_epoch = '/content/drive/MyDrive/covid_image_data/checkpoints_every_epoch/checkpoint_{epoch:03d}'\n",
        "    checkpoint1 = ModelCheckpoint(filepath=checkpoints_every_epoch,\n",
        "                             frequency='epoch',\n",
        "                             save_weights_only=True,\n",
        "                             verbose=1)\n",
        "    checkpoint2 = EarlyStopping(monitor='val_accuracy', patience=3, restore_best_weights=True)\n",
        "    \n",
        "    return checkpoint1, checkpoint2\n",
        "\n",
        "checkpoint_every_epoch = list(get_checkpoint_every_epoch())"
      ],
      "execution_count": 5,
      "outputs": []
    },
    {
      "cell_type": "code",
      "metadata": {
        "colab": {
          "base_uri": "https://localhost:8080/"
        },
        "id": "vF57cJvPgpPI",
        "outputId": "4b702ad9-93d9-4a71-825d-97c88042288c"
      },
      "source": [
        "from keras.preprocessing.image import ImageDataGenerator\n",
        "\n",
        "train_datagen = ImageDataGenerator(rescale = 1./255,\n",
        "                                   rotation_range=20,\n",
        "                                   width_shift_range=0.1,\n",
        "                                   height_shift_range=0.1,\n",
        "                                   horizontal_flip = True,\n",
        "                                   vertical_flip=True)\n",
        "\n",
        "test_datagen = ImageDataGenerator(rescale = 1./255,\n",
        "                                   rotation_range=20,\n",
        "                                   width_shift_range=0.1,\n",
        "                                   height_shift_range=0.1,\n",
        "                                   horizontal_flip = True,\n",
        "                                   vertical_flip=True)\n",
        "\n",
        "training_set = train_datagen.flow_from_directory('/content/drive/MyDrive/covid_image_data/output/train',\n",
        "                                                 target_size = (224, 224),\n",
        "                                                 batch_size = 16,\n",
        "                                                 class_mode = 'binary')\n",
        "\n",
        "test_set = test_datagen.flow_from_directory('/content/drive/MyDrive/covid_image_data/output/val',\n",
        "                                            target_size = (224, 224),\n",
        "                                            batch_size = 16,\n",
        "                                            class_mode = 'binary')\n",
        "\n",
        "'''r=model.fit_generator(training_set,\n",
        "                         samples_per_epoch = 8000,\n",
        "                         nb_epoch = 5,\n",
        "                         validation_data = test_set,\n",
        "                         nb_val_samples = 2000)\n",
        "\n",
        "\n",
        "es_callback = tf.keras.callbacks.EarlyStopping(monitor='val_loss', patience=2, \n",
        "                                               restore_best_weights=True,\n",
        "                                               verbose=1)'''\n",
        "\n",
        "\n",
        "\n",
        "\n",
        "\n",
        "# fit the model\n",
        "history = model.fit_generator(\n",
        "  training_set,\n",
        "  validation_data=test_set,\n",
        "  epochs=50,\n",
        "  #steps_per_epoch=len(training_set),\n",
        "  #validation_steps=len(test_set),\n",
        "\n",
        "  callbacks=checkpoint_every_epoch\n",
        ")\n",
        "\n",
        "\n"
      ],
      "execution_count": 6,
      "outputs": [
        {
          "output_type": "stream",
          "text": [
            "Found 2334 images belonging to 2 classes.\n",
            "Found 291 images belonging to 2 classes.\n",
            "WARNING:tensorflow:From <ipython-input-6-35f33dfe1309>:50: Model.fit_generator (from tensorflow.python.keras.engine.training) is deprecated and will be removed in a future version.\n",
            "Instructions for updating:\n",
            "Please use Model.fit, which supports generators.\n",
            "Epoch 1/50\n",
            "146/146 [==============================] - ETA: 0s - loss: 0.4839 - accuracy: 0.7759\n",
            "Epoch 00001: saving model to /content/drive/MyDrive/covid_image_data/checkpoints_every_epoch/checkpoint_001\n",
            "146/146 [==============================] - 594s 4s/step - loss: 0.4839 - accuracy: 0.7759 - val_loss: 0.4095 - val_accuracy: 0.8110\n",
            "Epoch 2/50\n",
            "146/146 [==============================] - ETA: 0s - loss: 0.3816 - accuracy: 0.8440\n",
            "Epoch 00002: saving model to /content/drive/MyDrive/covid_image_data/checkpoints_every_epoch/checkpoint_002\n",
            "146/146 [==============================] - 65s 444ms/step - loss: 0.3816 - accuracy: 0.8440 - val_loss: 0.3643 - val_accuracy: 0.8419\n",
            "Epoch 3/50\n",
            "146/146 [==============================] - ETA: 0s - loss: 0.3482 - accuracy: 0.8599\n",
            "Epoch 00003: saving model to /content/drive/MyDrive/covid_image_data/checkpoints_every_epoch/checkpoint_003\n",
            "146/146 [==============================] - 64s 441ms/step - loss: 0.3482 - accuracy: 0.8599 - val_loss: 0.3704 - val_accuracy: 0.8385\n",
            "Epoch 4/50\n",
            "146/146 [==============================] - ETA: 0s - loss: 0.3224 - accuracy: 0.8689\n",
            "Epoch 00004: saving model to /content/drive/MyDrive/covid_image_data/checkpoints_every_epoch/checkpoint_004\n",
            "146/146 [==============================] - 65s 442ms/step - loss: 0.3224 - accuracy: 0.8689 - val_loss: 0.3029 - val_accuracy: 0.8694\n",
            "Epoch 5/50\n",
            "146/146 [==============================] - ETA: 0s - loss: 0.3091 - accuracy: 0.8779\n",
            "Epoch 00005: saving model to /content/drive/MyDrive/covid_image_data/checkpoints_every_epoch/checkpoint_005\n",
            "146/146 [==============================] - 64s 439ms/step - loss: 0.3091 - accuracy: 0.8779 - val_loss: 0.2827 - val_accuracy: 0.8900\n",
            "Epoch 6/50\n",
            "146/146 [==============================] - ETA: 0s - loss: 0.2916 - accuracy: 0.8805\n",
            "Epoch 00006: saving model to /content/drive/MyDrive/covid_image_data/checkpoints_every_epoch/checkpoint_006\n",
            "146/146 [==============================] - 64s 438ms/step - loss: 0.2916 - accuracy: 0.8805 - val_loss: 0.2458 - val_accuracy: 0.9244\n",
            "Epoch 7/50\n",
            "146/146 [==============================] - ETA: 0s - loss: 0.2830 - accuracy: 0.8912\n",
            "Epoch 00007: saving model to /content/drive/MyDrive/covid_image_data/checkpoints_every_epoch/checkpoint_007\n",
            "146/146 [==============================] - 64s 438ms/step - loss: 0.2830 - accuracy: 0.8912 - val_loss: 0.2601 - val_accuracy: 0.8866\n",
            "Epoch 8/50\n",
            "146/146 [==============================] - ETA: 0s - loss: 0.2683 - accuracy: 0.8942\n",
            "Epoch 00008: saving model to /content/drive/MyDrive/covid_image_data/checkpoints_every_epoch/checkpoint_008\n",
            "146/146 [==============================] - 64s 438ms/step - loss: 0.2683 - accuracy: 0.8942 - val_loss: 0.2570 - val_accuracy: 0.8935\n",
            "Epoch 9/50\n",
            "146/146 [==============================] - ETA: 0s - loss: 0.2674 - accuracy: 0.8942\n",
            "Epoch 00009: saving model to /content/drive/MyDrive/covid_image_data/checkpoints_every_epoch/checkpoint_009\n",
            "146/146 [==============================] - 64s 441ms/step - loss: 0.2674 - accuracy: 0.8942 - val_loss: 0.2488 - val_accuracy: 0.8969\n"
          ],
          "name": "stdout"
        }
      ]
    },
    {
      "cell_type": "code",
      "metadata": {
        "id": "-5Hg0DpH71yr",
        "outputId": "6d5caabc-32c8-4373-e2b8-7c453b31140c",
        "colab": {
          "base_uri": "https://localhost:8080/"
        }
      },
      "source": [
        "test_set = test_datagen.flow_from_directory('/content/drive/MyDrive/covid_image_data/output/test',\n",
        "                                            target_size = (224, 224),\n",
        "                                            batch_size = 16,\n",
        "                                            class_mode = 'binary',\n",
        "                                            shuffle = False)\n",
        "predictions = model.predict_generator(test_set, workers=0,verbose=0)\n",
        "predictedClass = np.argmax(predictions, axis=1)\n",
        "score = model.evaluate_generator(test_set, verbose=0)\n",
        "print(\"loss: %.3f - acc: %.3f\" % (score[0], score[1]))"
      ],
      "execution_count": 23,
      "outputs": [
        {
          "output_type": "stream",
          "text": [
            "loss: 0.296 - acc: 0.908\n"
          ],
          "name": "stdout"
        }
      ]
    },
    {
      "cell_type": "code",
      "metadata": {
        "id": "xDALIBFr8MMa"
      },
      "source": [
        "trueClass = test_set.classes[test_set.index_array]\n",
        "classLabels = list(test_set.class_indices.keys())\n",
        "from sklearn.metrics import confusion_matrix\n",
        "confusionMatrix = (confusion_matrix(trueClass,predictedClass))\n",
        "precision = (confusionMatrix[0][0])/(confusionMatrix[0][0] +confusionMatrix[1][0])\n",
        "Recall = (confusionMatrix[0][0])/(confusionMatrix[0][0] +confusionMatrix[1][1])\n",
        "F1 = (2*precision*Recall)/(precision+Recall)"
      ],
      "execution_count": 25,
      "outputs": []
    },
    {
      "cell_type": "code",
      "metadata": {
        "id": "DwQUY8Ds9Pkx",
        "outputId": "22cb5114-0d98-40f1-9b5e-0ae0081632e0",
        "colab": {
          "base_uri": "https://localhost:8080/"
        }
      },
      "source": [
        "print(\"F1 Score : \", (F1))\n",
        "print(\"precision\",precision)\n",
        "print(\"recall\",Recall)"
      ],
      "execution_count": 31,
      "outputs": [
        {
          "output_type": "stream",
          "text": [
            "F1 Score :  0.7558386411889596\n"
          ],
          "name": "stdout"
        }
      ]
    },
    {
      "cell_type": "code",
      "metadata": {
        "id": "aMKABm-v4Kdl",
        "outputId": "d3e1b887-64d0-4fd5-c038-0735688665dd",
        "colab": {
          "base_uri": "https://localhost:8080/"
        }
      },
      "source": [
        "result = model.evaluate(test_set, verbose=0)\n",
        "print(\"Accuracy = \",result[1])\n",
        "print(\"Loss = \",result[0])"
      ],
      "execution_count": 20,
      "outputs": [
        {
          "output_type": "stream",
          "text": [
            "Accuracy =  0.914675772190094\n",
            "Loss =  0.28727567195892334\n"
          ],
          "name": "stdout"
        }
      ]
    },
    {
      "cell_type": "code",
      "metadata": {
        "colab": {
          "base_uri": "https://localhost:8080/",
          "height": 295
        },
        "id": "iWFJXXob7V1X",
        "outputId": "b8a74fdb-0bcb-45b2-e00a-f0278d836acc"
      },
      "source": [
        "try:\n",
        "    plt.plot(history.history['accuracy'])\n",
        "    plt.plot(history.history['val_accuracy'])\n",
        "except KeyError:\n",
        "    plt.plot(history.history['acc'])\n",
        "    plt.plot(history.history['val_acc'])\n",
        "plt.title('Accuracy vs. epochs')\n",
        "plt.ylabel('Loss')\n",
        "plt.xlabel('Epoch')\n",
        "plt.legend(['Training', 'Validation'], loc='lower right')\n",
        "plt.show()"
      ],
      "execution_count": 8,
      "outputs": [
        {
          "output_type": "display_data",
          "data": {
            "image/png": "[encoded data removed]",
            "text/plain": [
              "<Figure size 432x288 with 1 Axes>"
            ]
          },
          "metadata": {
            "tags": [],
            "needs_background": "light"
          }
        }
      ]
    },
    {
      "cell_type": "code",
      "metadata": {
        "colab": {
          "base_uri": "https://localhost:8080/",
          "height": 295
        },
        "id": "QJwgkxhi7bbl",
        "outputId": "07359b4b-4ce2-48a5-d915-972dd4c4ffe9"
      },
      "source": [
        "#Run this cell to plot the epoch vs loss graph\n",
        "plt.plot(history.history['loss'])\n",
        "plt.plot(history.history['val_loss'])\n",
        "plt.title('Loss vs. epochs')\n",
        "plt.ylabel('Loss')\n",
        "plt.xlabel('Epoch')\n",
        "plt.legend(['Training', 'Validation'], loc='upper right')\n",
        "plt.show() "
      ],
      "execution_count": 9,
      "outputs": [
        {
          "output_type": "display_data",
          "data": {
            "image/png": "[encoded data removed]",
            "text/plain": [
              "<Figure size 432x288 with 1 Axes>"
            ]
          },
          "metadata": {
            "tags": [],
            "needs_background": "light"
          }
        }
      ]
    },
    {
      "cell_type": "markdown",
      "metadata": {
        "id": "6qXtwib3IxqJ"
      },
      "source": [
        "### ResNet 50"
      ]
    },
    {
      "cell_type": "code",
      "metadata": {
        "id": "VhPnCMjRIxVh"
      },
      "source": [
        "from keras.applications.resnet50 import ResNet50"
      ],
      "execution_count": 32,
      "outputs": []
    },
    {
      "cell_type": "code",
      "metadata": {
        "id": "Y7myrzN0IxI8",
        "outputId": "defaba41-6ece-4381-ae64-9dae3fe54651",
        "colab": {
          "base_uri": "https://localhost:8080/"
        }
      },
      "source": [
        "\n",
        "from tensorflow.keras.optimizers import RMSprop\n",
        "IMAGE_SIZE = [224, 224]\n",
        "\n",
        "train_path = '/content/drive/MyDrive/covid_image_data/output/train'\n",
        "valid_path = '/content/drive/MyDrive/covid_image_data/output/val'\n",
        "\n",
        "\n",
        "resn = ResNet50(input_shape=IMAGE_SIZE + [3], weights='imagenet', include_top=False)\n",
        "\n",
        "# don't train existing weights\n",
        "for layer in resn.layers:\n",
        "    layer.trainable = False\n",
        "  \n",
        "\n",
        "  \n",
        "  # useful for getting number of classes\n",
        "folders = glob('/content/drive/MyDrive/covid_image_data/output/train/*')\n",
        "  \n",
        "\n",
        "# our layers - you can add more if you want\n",
        "x = Flatten()(resn.output)\n",
        "# x = Dense(1000, activation='relu')(x)\n",
        "prediction = Dense(1, activation='sigmoid')(x)\n",
        "\n",
        "# create a model object\n",
        "model1 = Model(inputs=resn.input, outputs=prediction)\n",
        "\n",
        "# view the structure of the model\n",
        "#model1.summary()\n",
        "\n",
        "# tell the model what cost and optimization method to use\n",
        "model1.compile(\n",
        "  loss='binary_crossentropy',\n",
        "  optimizer=RMSprop(lr=0.0001),\n",
        "  metrics=['accuracy']\n",
        ")"
      ],
      "execution_count": 33,
      "outputs": [
        {
          "output_type": "stream",
          "text": [
            "Downloading data from https://storage.googleapis.com/tensorflow/keras-applications/resnet/resnet50_weights_tf_dim_ordering_tf_kernels_notop.h5\n",
            "94773248/94765736 [==============================] - 0s 0us/step\n"
          ],
          "name": "stdout"
        }
      ]
    },
    {
      "cell_type": "code",
      "metadata": {
        "id": "00WNmvj2LrDV"
      },
      "source": [
        "from tensorflow.keras.callbacks import ModelCheckpoint, EarlyStopping\n",
        "\n",
        "def get_checkpoint_every_epoch():\n",
        "    \"\"\"\n",
        "    This function should return a ModelCheckpoint object that:\n",
        "    - saves the weights only at the end of every epoch\n",
        "    - saves into a directory called 'checkpoints_every_epoch' inside the current working directory\n",
        "    - generates filenames in that directory like 'checkpoint_XXX' where\n",
        "      XXX is the epoch number formatted to have three digits, e.g. 001, 002, 003, etc.\n",
        "    \"\"\"\n",
        "    checkpoints_every_epoch = '/content/drive/MyDrive/covid_image_data/checkpoints_every_epoch_resnet/checkpoint_{epoch:03d}'\n",
        "    checkpoint1 = ModelCheckpoint(filepath=checkpoints_every_epoch,\n",
        "                             frequency='epoch',\n",
        "                             save_weights_only=True,\n",
        "                             verbose=1)\n",
        "    checkpoint2 = EarlyStopping(monitor='val_accuracy', patience=3, restore_best_weights=True)\n",
        "    \n",
        "    return checkpoint1, checkpoint2\n",
        "\n",
        "checkpoint_every_epoch = list(get_checkpoint_every_epoch())"
      ],
      "execution_count": 34,
      "outputs": []
    },
    {
      "cell_type": "code",
      "metadata": {
        "colab": {
          "base_uri": "https://localhost:8080/"
        },
        "id": "MCoj8h8vLYEJ",
        "outputId": "9ac4d40e-44a8-4524-9511-e9599a865b81"
      },
      "source": [
        "\n",
        "train_datagen = ImageDataGenerator(rescale = 1./255,\n",
        "                                   rotation_range=20,\n",
        "                                   width_shift_range=0.1,\n",
        "                                   height_shift_range=0.1,\n",
        "                                   horizontal_flip = True,\n",
        "                                   vertical_flip=True)\n",
        "\n",
        "test_datagen = ImageDataGenerator(rescale = 1./255,\n",
        "                                   rotation_range=20,\n",
        "                                   width_shift_range=0.1,\n",
        "                                   height_shift_range=0.1,\n",
        "                                   horizontal_flip = True,\n",
        "                                   vertical_flip=True)\n",
        "\n",
        "training_set = train_datagen.flow_from_directory('/content/drive/MyDrive/covid_image_data/output/train',\n",
        "                                                 target_size = (224, 224),\n",
        "                                                 batch_size = 16,\n",
        "                                                 class_mode = 'binary')\n",
        "\n",
        "test_set = test_datagen.flow_from_directory('/content/drive/MyDrive/covid_image_data/output/val',\n",
        "                                            target_size = (224, 224),\n",
        "                                            batch_size = 16,\n",
        "                                            class_mode = 'binary')\n",
        "\n",
        "'''r=model.fit_generator(training_set,\n",
        "                         samples_per_epoch = 8000,\n",
        "                         nb_epoch = 5,\n",
        "                         validation_data = test_set,\n",
        "                         nb_val_samples = 2000)'''\n",
        "\n",
        "# fit the model\n",
        "history = model1.fit_generator(\n",
        "  training_set,\n",
        "  validation_data=test_set,\n",
        "  epochs=50,\n",
        "  steps_per_epoch=len(training_set),\n",
        "  validation_steps=len(test_set),\n",
        "  callbacks=checkpoint_every_epoch\n",
        ")\n",
        "\n",
        "\n"
      ],
      "execution_count": 35,
      "outputs": [
        {
          "output_type": "stream",
          "text": [
            "Found 2334 images belonging to 2 classes.\n",
            "Found 291 images belonging to 2 classes.\n",
            "Epoch 1/50\n",
            "146/146 [==============================] - ETA: 0s - loss: 0.5930 - accuracy: 0.6508\n",
            "Epoch 00001: saving model to /content/drive/MyDrive/covid_image_data/checkpoints_every_epoch_resnet/checkpoint_001\n",
            "146/146 [==============================] - 66s 450ms/step - loss: 0.5930 - accuracy: 0.6508 - val_loss: 0.4908 - val_accuracy: 0.8282\n",
            "Epoch 2/50\n",
            "146/146 [==============================] - ETA: 0s - loss: 0.4852 - accuracy: 0.7639\n",
            "Epoch 00002: saving model to /content/drive/MyDrive/covid_image_data/checkpoints_every_epoch_resnet/checkpoint_002\n",
            "146/146 [==============================] - 65s 444ms/step - loss: 0.4852 - accuracy: 0.7639 - val_loss: 0.4505 - val_accuracy: 0.8213\n",
            "Epoch 3/50\n",
            "146/146 [==============================] - ETA: 0s - loss: 0.4653 - accuracy: 0.7905\n",
            "Epoch 00003: saving model to /content/drive/MyDrive/covid_image_data/checkpoints_every_epoch_resnet/checkpoint_003\n",
            "146/146 [==============================] - 65s 444ms/step - loss: 0.4653 - accuracy: 0.7905 - val_loss: 0.4735 - val_accuracy: 0.8179\n",
            "Epoch 4/50\n",
            "146/146 [==============================] - ETA: 0s - loss: 0.4410 - accuracy: 0.8063\n",
            "Epoch 00004: saving model to /content/drive/MyDrive/covid_image_data/checkpoints_every_epoch_resnet/checkpoint_004\n",
            "146/146 [==============================] - 65s 444ms/step - loss: 0.4410 - accuracy: 0.8063 - val_loss: 0.4455 - val_accuracy: 0.8316\n",
            "Epoch 5/50\n",
            "146/146 [==============================] - ETA: 0s - loss: 0.4376 - accuracy: 0.7973\n",
            "Epoch 00005: saving model to /content/drive/MyDrive/covid_image_data/checkpoints_every_epoch_resnet/checkpoint_005\n",
            "146/146 [==============================] - 64s 440ms/step - loss: 0.4376 - accuracy: 0.7973 - val_loss: 0.4177 - val_accuracy: 0.8385\n",
            "Epoch 6/50\n",
            "146/146 [==============================] - ETA: 0s - loss: 0.4304 - accuracy: 0.8038\n",
            "Epoch 00006: saving model to /content/drive/MyDrive/covid_image_data/checkpoints_every_epoch_resnet/checkpoint_006\n",
            "146/146 [==============================] - 64s 441ms/step - loss: 0.4304 - accuracy: 0.8038 - val_loss: 0.4758 - val_accuracy: 0.7869\n",
            "Epoch 7/50\n",
            "146/146 [==============================] - ETA: 0s - loss: 0.4322 - accuracy: 0.8042\n",
            "Epoch 00007: saving model to /content/drive/MyDrive/covid_image_data/checkpoints_every_epoch_resnet/checkpoint_007\n",
            "146/146 [==============================] - 64s 440ms/step - loss: 0.4322 - accuracy: 0.8042 - val_loss: 0.4196 - val_accuracy: 0.8316\n",
            "Epoch 8/50\n",
            "146/146 [==============================] - ETA: 0s - loss: 0.4241 - accuracy: 0.8145\n",
            "Epoch 00008: saving model to /content/drive/MyDrive/covid_image_data/checkpoints_every_epoch_resnet/checkpoint_008\n",
            "146/146 [==============================] - 64s 440ms/step - loss: 0.4241 - accuracy: 0.8145 - val_loss: 0.4712 - val_accuracy: 0.8076\n"
          ],
          "name": "stdout"
        }
      ]
    },
    {
      "cell_type": "code",
      "metadata": {
        "colab": {
          "base_uri": "https://localhost:8080/"
        },
        "id": "hxpmqc04ARng",
        "outputId": "07913378-474b-4525-a24f-a21c1e3b6246"
      },
      "source": [
        "test_set = test_datagen.flow_from_directory('/content/drive/MyDrive/covid_image_data/output/test',\n",
        "                                            target_size = (224, 224),\n",
        "                                            batch_size = 16,\n",
        "                                            class_mode = 'binary',\n",
        "                                            shuffle = False)\n",
        "predictions = model1.predict_generator(test_set, workers=0,verbose=0)\n",
        "predictedClass = np.argmax(predictions, axis=1)\n",
        "score = model1.evaluate_generator(test_set, verbose=0)\n",
        "print(\"loss: %.3f - acc: %.3f\" % (score[0], score[1]))"
      ],
      "execution_count": 36,
      "outputs": [
        {
          "output_type": "stream",
          "text": [
            "Found 293 images belonging to 2 classes.\n",
            "loss: 0.435 - acc: 0.812\n"
          ],
          "name": "stdout"
        }
      ]
    },
    {
      "cell_type": "code",
      "metadata": {
        "id": "quJS6T7JAUjZ"
      },
      "source": [
        "trueClass = test_set.classes[test_set.index_array]\n",
        "classLabels = list(test_set.class_indices.keys())\n",
        "confusionMatrix = (confusion_matrix(trueClass,predictedClass))\n",
        "precision = (confusionMatrix[0][0])/(confusionMatrix[0][0] +confusionMatrix[1][0])\n",
        "Recall = (confusionMatrix[0][0])/(confusionMatrix[0][0] +confusionMatrix[1][1])\n",
        "F1 = (2*precision*Recall)/(precision+Recall)"
      ],
      "execution_count": 37,
      "outputs": []
    },
    {
      "cell_type": "code",
      "metadata": {
        "colab": {
          "base_uri": "https://localhost:8080/"
        },
        "id": "R2xieTTwAiq5",
        "outputId": "2c03af7b-e2a5-47f6-f4e6-7fab990c6c2f"
      },
      "source": [
        "print(\"F1 Score : \", (F1))\n",
        "print(\"precision\",precision)\n",
        "print(\"recall\",Recall)"
      ],
      "execution_count": 38,
      "outputs": [
        {
          "output_type": "stream",
          "text": [
            "F1 Score :  0.7558386411889596\n",
            "precision 0.6075085324232082\n",
            "recall 1.0\n"
          ],
          "name": "stdout"
        }
      ]
    },
    {
      "cell_type": "code",
      "metadata": {
        "colab": {
          "base_uri": "https://localhost:8080/"
        },
        "id": "DrMJkmdGAmSE",
        "outputId": "5589af37-7d25-42b7-dd90-961b65168a08"
      },
      "source": [
        "result = model1.evaluate(test_set, verbose=0)\n",
        "print(\"Accuracy = \",result[1])\n",
        "print(\"Loss = \",result[0])"
      ],
      "execution_count": 39,
      "outputs": [
        {
          "output_type": "stream",
          "text": [
            "Accuracy =  0.8259385824203491\n",
            "Loss =  0.42132681608200073\n"
          ],
          "name": "stdout"
        }
      ]
    },
    {
      "cell_type": "code",
      "metadata": {
        "colab": {
          "base_uri": "https://localhost:8080/",
          "height": 295
        },
        "id": "I8umnWjNLjmz",
        "outputId": "c1bbe48e-e286-49ed-fb71-1e86e41c4b43"
      },
      "source": [
        "try:\n",
        "    plt.plot(history.history['accuracy'])\n",
        "    plt.plot(history.history['val_accuracy'])\n",
        "except KeyError:\n",
        "    plt.plot(history.history['acc'])\n",
        "    plt.plot(history.history['val_acc'])\n",
        "plt.title('Accuracy vs. epochs')\n",
        "plt.ylabel('Loss')\n",
        "plt.xlabel('Epoch')\n",
        "plt.legend(['Training', 'Validation'], loc='lower right')\n",
        "plt.show()"
      ],
      "execution_count": 41,
      "outputs": [
        {
          "output_type": "display_data",
          "data": {
            "image/png": "[encoded data removed]",
            "text/plain": [
              "<Figure size 432x288 with 1 Axes>"
            ]
          },
          "metadata": {
            "tags": [],
            "needs_background": "light"
          }
        }
      ]
    },
    {
      "cell_type": "code",
      "metadata": {
        "colab": {
          "base_uri": "https://localhost:8080/",
          "height": 295
        },
        "id": "FbHrmc-MNgwu",
        "outputId": "9a0a873e-2a2f-48ed-d989-083dd7a00f05"
      },
      "source": [
        "#Run this cell to plot the epoch vs loss graph\n",
        "plt.plot(history.history['loss'])\n",
        "plt.plot(history.history['val_loss'])\n",
        "plt.title('Loss vs. epochs')\n",
        "plt.ylabel('Loss')\n",
        "plt.xlabel('Epoch')\n",
        "plt.legend(['Training', 'Validation'], loc='upper right')\n",
        "plt.show() "
      ],
      "execution_count": 40,
      "outputs": [
        {
          "output_type": "display_data",
          "data": {
            "image/png": "[encoded data removed]",
            "text/plain": [
              "<Figure size 432x288 with 1 Axes>"
            ]
          },
          "metadata": {
            "tags": [],
            "needs_background": "light"
          }
        }
      ]
    },
    {
      "cell_type": "markdown",
      "metadata": {
        "id": "2cYhfoH0Xt94"
      },
      "source": [
        "##### EVALUATE GENERATOR\n",
        "[Keras: how to evaluate model accuracy (evaluate_generator vs. predict_generator)?](https://stackoverflow.com/questions/55868975/keras-how-to-evaluate-model-accuracy-evaluate-generator-vs-predict-generator)"
      ]
    },
    {
      "cell_type": "markdown",
      "metadata": {
        "id": "tpksrxBrPAyg"
      },
      "source": [
        "### VGG 19"
      ]
    },
    {
      "cell_type": "code",
      "metadata": {
        "id": "1Di3fd9oO_t7"
      },
      "source": [
        "from keras.applications.vgg19 import VGG19"
      ],
      "execution_count": 42,
      "outputs": []
    },
    {
      "cell_type": "code",
      "metadata": {
        "colab": {
          "base_uri": "https://localhost:8080/"
        },
        "id": "vPcxBt69PSsW",
        "outputId": "0386984e-049b-486e-ecfe-0c4ed59f6920"
      },
      "source": [
        "#from tensorflow.keras.optimizers import RMSprop\n",
        "np.random.seed(1337)\n",
        "IMAGE_SIZE = [224, 224]\n",
        "\n",
        "train_path = '/content/drive/MyDrive/covid_image_data/output/train'\n",
        "valid_path = '/content/drive/MyDrive/covid_image_data/output/val'\n",
        "\n",
        "\n",
        "vgg19 = VGG19(input_shape=IMAGE_SIZE + [3], weights='imagenet', include_top=False)\n",
        "\n",
        "# don't train existing weights\n",
        "for layer in vgg19.layers:\n",
        "  layer.trainable = False\n",
        "  \n",
        "\n",
        "  \n",
        "  # useful for getting number of classes\n",
        "folders = glob('/content/drive/MyDrive/covid_image_data/output/train/*')\n",
        "  \n",
        "\n",
        "# our layers - you can add more if you want\n",
        "x = Flatten()(vgg19.output)\n",
        "# x = Dense(1000, activation='relu')(x)\n",
        "prediction = Dense(1, activation='sigmoid')(x)\n",
        "\n",
        "# create a model object\n",
        "model3 = Model(inputs=vgg19.input, outputs=prediction)\n",
        "\n",
        "# view the structure of the model\n",
        "model3.summary()\n",
        "\n",
        "# tell the model what cost and optimization method to use\n",
        "model3.compile(\n",
        "    loss='binary_crossentropy',\n",
        "    optimizer=RMSprop(lr=0.0001),\n",
        "    metrics=['accuracy']\n",
        ")"
      ],
      "execution_count": 43,
      "outputs": [
        {
          "output_type": "stream",
          "text": [
            "Downloading data from https://storage.googleapis.com/tensorflow/keras-applications/vgg19/vgg19_weights_tf_dim_ordering_tf_kernels_notop.h5\n",
            "80142336/80134624 [==============================] - 1s 0us/step\n",
            "Model: \"functional_5\"\n",
            "_________________________________________________________________\n",
            "Layer (type)                 Output Shape              Param #   \n",
            "=================================================================\n",
            "input_3 (InputLayer)         [(None, 224, 224, 3)]     0         \n",
            "_________________________________________________________________\n",
            "block1_conv1 (Conv2D)        (None, 224, 224, 64)      1792      \n",
            "_________________________________________________________________\n",
            "block1_conv2 (Conv2D)        (None, 224, 224, 64)      36928     \n",
            "_________________________________________________________________\n",
            "block1_pool (MaxPooling2D)   (None, 112, 112, 64)      0         \n",
            "_________________________________________________________________\n",
            "block2_conv1 (Conv2D)        (None, 112, 112, 128)     73856     \n",
            "_________________________________________________________________\n",
            "block2_conv2 (Conv2D)        (None, 112, 112, 128)     147584    \n",
            "_________________________________________________________________\n",
            "block2_pool (MaxPooling2D)   (None, 56, 56, 128)       0         \n",
            "_________________________________________________________________\n",
            "block3_conv1 (Conv2D)        (None, 56, 56, 256)       295168    \n",
            "_________________________________________________________________\n",
            "block3_conv2 (Conv2D)        (None, 56, 56, 256)       590080    \n",
            "_________________________________________________________________\n",
            "block3_conv3 (Conv2D)        (None, 56, 56, 256)       590080    \n",
            "_________________________________________________________________\n",
            "block3_conv4 (Conv2D)        (None, 56, 56, 256)       590080    \n",
            "_________________________________________________________________\n",
            "block3_pool (MaxPooling2D)   (None, 28, 28, 256)       0         \n",
            "_________________________________________________________________\n",
            "block4_conv1 (Conv2D)        (None, 28, 28, 512)       1180160   \n",
            "_________________________________________________________________\n",
            "block4_conv2 (Conv2D)        (None, 28, 28, 512)       2359808   \n",
            "_________________________________________________________________\n",
            "block4_conv3 (Conv2D)        (None, 28, 28, 512)       2359808   \n",
            "_________________________________________________________________\n",
            "block4_conv4 (Conv2D)        (None, 28, 28, 512)       2359808   \n",
            "_________________________________________________________________\n",
            "block4_pool (MaxPooling2D)   (None, 14, 14, 512)       0         \n",
            "_________________________________________________________________\n",
            "block5_conv1 (Conv2D)        (None, 14, 14, 512)       2359808   \n",
            "_________________________________________________________________\n",
            "block5_conv2 (Conv2D)        (None, 14, 14, 512)       2359808   \n",
            "_________________________________________________________________\n",
            "block5_conv3 (Conv2D)        (None, 14, 14, 512)       2359808   \n",
            "_________________________________________________________________\n",
            "block5_conv4 (Conv2D)        (None, 14, 14, 512)       2359808   \n",
            "_________________________________________________________________\n",
            "block5_pool (MaxPooling2D)   (None, 7, 7, 512)         0         \n",
            "_________________________________________________________________\n",
            "flatten_2 (Flatten)          (None, 25088)             0         \n",
            "_________________________________________________________________\n",
            "dense_2 (Dense)              (None, 1)                 25089     \n",
            "=================================================================\n",
            "Total params: 20,049,473\n",
            "Trainable params: 25,089\n",
            "Non-trainable params: 20,024,384\n",
            "_________________________________________________________________\n"
          ],
          "name": "stdout"
        }
      ]
    },
    {
      "cell_type": "code",
      "metadata": {
        "id": "UDqUzv91SXfo"
      },
      "source": [
        "from tensorflow.keras.callbacks import ModelCheckpoint, EarlyStopping\n",
        "\n",
        "def get_checkpoint_every_epoch():\n",
        "    \"\"\"\n",
        "    This function should return a ModelCheckpoint object that:\n",
        "    - saves the weights only at the end of every epoch\n",
        "    - saves into a directory called 'checkpoints_every_epoch' inside the current working directory\n",
        "    - generates filenames in that directory like 'checkpoint_XXX' where\n",
        "      XXX is the epoch number formatted to have three digits, e.g. 001, 002, 003, etc.\n",
        "    \"\"\"\n",
        "    checkpoints_every_epoch = '/content/drive/MyDrive/covid_image_data/checkpoints_every_epoch_vgg19/checkpoint_{epoch:03d}'\n",
        "    checkpoint1 = ModelCheckpoint(filepath=checkpoints_every_epoch,\n",
        "                             frequency='epoch',\n",
        "                             save_weights_only=True,\n",
        "                             verbose=1)\n",
        "    checkpoint2 = EarlyStopping(monitor='val_accuracy', patience=3, restore_best_weights=True)\n",
        "    \n",
        "    return checkpoint1, checkpoint2\n",
        "\n",
        "checkpoint_every_epoch = list(get_checkpoint_every_epoch())"
      ],
      "execution_count": 44,
      "outputs": []
    },
    {
      "cell_type": "code",
      "metadata": {
        "colab": {
          "base_uri": "https://localhost:8080/"
        },
        "id": "Vu5-nlnmPTrn",
        "outputId": "f9c43dab-78e9-476d-bfad-e3c96c60493a"
      },
      "source": [
        "from keras.preprocessing.image import ImageDataGenerator\n",
        "\n",
        "train_datagen = ImageDataGenerator(rescale = 1./255,\n",
        "                                   rotation_range=20,\n",
        "                                   width_shift_range=0.1,\n",
        "                                   height_shift_range=0.1,\n",
        "                                   horizontal_flip = True,\n",
        "                                   vertical_flip=True)\n",
        "\n",
        "test_datagen = ImageDataGenerator(rescale = 1./255,\n",
        "                                   rotation_range=20,\n",
        "                                   width_shift_range=0.1,\n",
        "                                   height_shift_range=0.1,\n",
        "                                   horizontal_flip = True,\n",
        "                                   vertical_flip=True)\n",
        "\n",
        "training_set = train_datagen.flow_from_directory('/content/drive/MyDrive/covid_image_data/output/train',\n",
        "                                                 target_size = (224, 224),\n",
        "                                                 batch_size = 16,\n",
        "                                                 class_mode = 'binary'\n",
        "                                                 )\n",
        "\n",
        "val_set = test_datagen.flow_from_directory('/content/drive/MyDrive/covid_image_data/output/val',\n",
        "                                            target_size = (224, 224),\n",
        "                                            batch_size = 16,\n",
        "                                            class_mode = 'binary'\n",
        "                                            )\n",
        "\n",
        "'''r=model.fit_generator(training_set,\n",
        "                         samples_per_epoch = 8000,\n",
        "                         nb_epoch = 5,\n",
        "                         validation_data = test_set,\n",
        "                         nb_val_samples = 2000)\n",
        "\n",
        "\n",
        "es_callback = tf.keras.callbacks.EarlyStopping(monitor='val_loss', patience=2, \n",
        "                                               restore_best_weights=True,\n",
        "                                               verbose=1)'''\n",
        "\n",
        "\n",
        "\n",
        "\n",
        "\n",
        "# fit the model\n",
        "history = model3.fit_generator(\n",
        "  training_set,\n",
        "  validation_data=val_set,\n",
        "  epochs=50,\n",
        "  steps_per_epoch=len(training_set),\n",
        "  validation_steps=len(val_set),\n",
        "  callbacks=checkpoint_every_epoch\n",
        ")\n",
        "\n",
        "\n"
      ],
      "execution_count": 45,
      "outputs": [
        {
          "output_type": "stream",
          "text": [
            "Found 2334 images belonging to 2 classes.\n",
            "Found 291 images belonging to 2 classes.\n",
            "Epoch 1/50\n",
            "146/146 [==============================] - ETA: 0s - loss: 0.4738 - accuracy: 0.7853\n",
            "Epoch 00001: saving model to /content/drive/MyDrive/covid_image_data/checkpoints_every_epoch_vgg19/checkpoint_001\n",
            "146/146 [==============================] - 66s 450ms/step - loss: 0.4738 - accuracy: 0.7853 - val_loss: 0.4113 - val_accuracy: 0.8110\n",
            "Epoch 2/50\n",
            "146/146 [==============================] - ETA: 0s - loss: 0.3954 - accuracy: 0.8363\n",
            "Epoch 00002: saving model to /content/drive/MyDrive/covid_image_data/checkpoints_every_epoch_vgg19/checkpoint_002\n",
            "146/146 [==============================] - 65s 446ms/step - loss: 0.3954 - accuracy: 0.8363 - val_loss: 0.3719 - val_accuracy: 0.8419\n",
            "Epoch 3/50\n",
            "146/146 [==============================] - ETA: 0s - loss: 0.3623 - accuracy: 0.8505\n",
            "Epoch 00003: saving model to /content/drive/MyDrive/covid_image_data/checkpoints_every_epoch_vgg19/checkpoint_003\n",
            "146/146 [==============================] - 65s 444ms/step - loss: 0.3623 - accuracy: 0.8505 - val_loss: 0.3615 - val_accuracy: 0.8419\n",
            "Epoch 4/50\n",
            "146/146 [==============================] - ETA: 0s - loss: 0.3489 - accuracy: 0.8513\n",
            "Epoch 00004: saving model to /content/drive/MyDrive/covid_image_data/checkpoints_every_epoch_vgg19/checkpoint_004\n",
            "146/146 [==============================] - 65s 443ms/step - loss: 0.3489 - accuracy: 0.8513 - val_loss: 0.3145 - val_accuracy: 0.8694\n",
            "Epoch 5/50\n",
            "146/146 [==============================] - ETA: 0s - loss: 0.3387 - accuracy: 0.8629\n",
            "Epoch 00005: saving model to /content/drive/MyDrive/covid_image_data/checkpoints_every_epoch_vgg19/checkpoint_005\n",
            "146/146 [==============================] - 66s 449ms/step - loss: 0.3387 - accuracy: 0.8629 - val_loss: 0.3187 - val_accuracy: 0.8729\n",
            "Epoch 6/50\n",
            "146/146 [==============================] - ETA: 0s - loss: 0.3149 - accuracy: 0.8728\n",
            "Epoch 00006: saving model to /content/drive/MyDrive/covid_image_data/checkpoints_every_epoch_vgg19/checkpoint_006\n",
            "146/146 [==============================] - 65s 444ms/step - loss: 0.3149 - accuracy: 0.8728 - val_loss: 0.2771 - val_accuracy: 0.8832\n",
            "Epoch 7/50\n",
            "146/146 [==============================] - ETA: 0s - loss: 0.3114 - accuracy: 0.8783\n",
            "Epoch 00007: saving model to /content/drive/MyDrive/covid_image_data/checkpoints_every_epoch_vgg19/checkpoint_007\n",
            "146/146 [==============================] - 65s 446ms/step - loss: 0.3114 - accuracy: 0.8783 - val_loss: 0.2928 - val_accuracy: 0.8763\n",
            "Epoch 8/50\n",
            "146/146 [==============================] - ETA: 0s - loss: 0.3009 - accuracy: 0.8822\n",
            "Epoch 00008: saving model to /content/drive/MyDrive/covid_image_data/checkpoints_every_epoch_vgg19/checkpoint_008\n",
            "146/146 [==============================] - 65s 447ms/step - loss: 0.3009 - accuracy: 0.8822 - val_loss: 0.2716 - val_accuracy: 0.8866\n",
            "Epoch 9/50\n",
            "146/146 [==============================] - ETA: 0s - loss: 0.2906 - accuracy: 0.8873\n",
            "Epoch 00009: saving model to /content/drive/MyDrive/covid_image_data/checkpoints_every_epoch_vgg19/checkpoint_009\n",
            "146/146 [==============================] - 65s 444ms/step - loss: 0.2906 - accuracy: 0.8873 - val_loss: 0.3050 - val_accuracy: 0.8660\n",
            "Epoch 10/50\n",
            "146/146 [==============================] - ETA: 0s - loss: 0.2881 - accuracy: 0.8967\n",
            "Epoch 00010: saving model to /content/drive/MyDrive/covid_image_data/checkpoints_every_epoch_vgg19/checkpoint_010\n",
            "146/146 [==============================] - 65s 444ms/step - loss: 0.2881 - accuracy: 0.8967 - val_loss: 0.2927 - val_accuracy: 0.8729\n",
            "Epoch 11/50\n",
            "146/146 [==============================] - ETA: 0s - loss: 0.2809 - accuracy: 0.8942\n",
            "Epoch 00011: saving model to /content/drive/MyDrive/covid_image_data/checkpoints_every_epoch_vgg19/checkpoint_011\n",
            "146/146 [==============================] - 65s 445ms/step - loss: 0.2809 - accuracy: 0.8942 - val_loss: 0.2449 - val_accuracy: 0.9107\n",
            "Epoch 12/50\n",
            "146/146 [==============================] - ETA: 0s - loss: 0.2855 - accuracy: 0.8912\n",
            "Epoch 00012: saving model to /content/drive/MyDrive/covid_image_data/checkpoints_every_epoch_vgg19/checkpoint_012\n",
            "146/146 [==============================] - 65s 444ms/step - loss: 0.2855 - accuracy: 0.8912 - val_loss: 0.2693 - val_accuracy: 0.8900\n",
            "Epoch 13/50\n",
            "146/146 [==============================] - ETA: 0s - loss: 0.2681 - accuracy: 0.8972\n",
            "Epoch 00013: saving model to /content/drive/MyDrive/covid_image_data/checkpoints_every_epoch_vgg19/checkpoint_013\n",
            "146/146 [==============================] - 65s 443ms/step - loss: 0.2681 - accuracy: 0.8972 - val_loss: 0.2516 - val_accuracy: 0.8969\n",
            "Epoch 14/50\n",
            "146/146 [==============================] - ETA: 0s - loss: 0.2694 - accuracy: 0.9045\n",
            "Epoch 00014: saving model to /content/drive/MyDrive/covid_image_data/checkpoints_every_epoch_vgg19/checkpoint_014\n",
            "146/146 [==============================] - 65s 446ms/step - loss: 0.2694 - accuracy: 0.9045 - val_loss: 0.2840 - val_accuracy: 0.8729\n"
          ],
          "name": "stdout"
        }
      ]
    },
    {
      "cell_type": "code",
      "metadata": {
        "id": "CYVa0PWWBFhh"
      },
      "source": [
        ""
      ],
      "execution_count": null,
      "outputs": []
    },
    {
      "cell_type": "code",
      "metadata": {
        "id": "1qPBhLJ0BGBJ",
        "outputId": "96708b2e-3ada-4634-b766-8749de8257e9",
        "colab": {
          "base_uri": "https://localhost:8080/"
        }
      },
      "source": [
        "test_set = test_datagen.flow_from_directory('/content/drive/MyDrive/covid_image_data/output/test',\n",
        "                                            target_size = (224, 224),\n",
        "                                            batch_size = 16,\n",
        "                                            class_mode = 'binary',\n",
        "                                            shuffle = False)\n",
        "predictions = model3.predict_generator(test_set, workers=0,verbose=0)\n",
        "predictedClass = np.argmax(predictions, axis=1)\n",
        "score = model3.evaluate_generator(test_set, verbose=0)\n",
        "print(\"loss: %.3f - acc: %.3f\" % (score[0], score[1]))"
      ],
      "execution_count": 46,
      "outputs": [
        {
          "output_type": "stream",
          "text": [
            "Found 293 images belonging to 2 classes.\n",
            "loss: 0.281 - acc: 0.908\n"
          ],
          "name": "stdout"
        }
      ]
    },
    {
      "cell_type": "code",
      "metadata": {
        "id": "PX-tMOFkBGBJ"
      },
      "source": [
        "trueClass = test_set.classes[test_set.index_array]\n",
        "classLabels = list(test_set.class_indices.keys())\n",
        "from sklearn.metrics import confusion_matrix\n",
        "confusionMatrix = (confusion_matrix(trueClass,predictedClass))\n",
        "precision = (confusionMatrix[0][0])/(confusionMatrix[0][0] +confusionMatrix[1][0])\n",
        "Recall = (confusionMatrix[0][0])/(confusionMatrix[0][0] +confusionMatrix[1][1])\n",
        "F1 = (2*precision*Recall)/(precision+Recall)"
      ],
      "execution_count": 47,
      "outputs": []
    },
    {
      "cell_type": "code",
      "metadata": {
        "id": "xt3FyTgpBGBJ",
        "outputId": "b3dad1be-c50b-47fd-a177-ad909e58c22a",
        "colab": {
          "base_uri": "https://localhost:8080/"
        }
      },
      "source": [
        "print(\"F1 Score : \", (F1))\n",
        "print(\"precision\",precision)\n",
        "print(\"recall\",Recall)"
      ],
      "execution_count": 48,
      "outputs": [
        {
          "output_type": "stream",
          "text": [
            "F1 Score :  0.7558386411889596\n",
            "precision 0.6075085324232082\n",
            "recall 1.0\n"
          ],
          "name": "stdout"
        }
      ]
    },
    {
      "cell_type": "code",
      "metadata": {
        "id": "oaFqSsEvBGBJ",
        "outputId": "624585fc-f55b-40ca-c12c-871b668120d2",
        "colab": {
          "base_uri": "https://localhost:8080/"
        }
      },
      "source": [
        "result = model3.evaluate(test_set, verbose=0)\n",
        "print(\"Accuracy = \",result[1])\n",
        "print(\"Loss = \",result[0])"
      ],
      "execution_count": 49,
      "outputs": [
        {
          "output_type": "stream",
          "text": [
            "Accuracy =  0.8907849788665771\n",
            "Loss =  0.28610700368881226\n"
          ],
          "name": "stdout"
        }
      ]
    },
    {
      "cell_type": "code",
      "metadata": {
        "colab": {
          "base_uri": "https://localhost:8080/",
          "height": 295
        },
        "id": "IWGcndW3PAYL",
        "outputId": "02b162d6-8199-4fdc-a0c9-784726924417"
      },
      "source": [
        "try:\n",
        "    plt.plot(history.history['accuracy'])\n",
        "    plt.plot(history.history['val_accuracy'])\n",
        "except KeyError:\n",
        "    plt.plot(history.history['acc'])\n",
        "    plt.plot(history.history['val_acc'])\n",
        "plt.title('Accuracy vs. epochs')\n",
        "plt.ylabel('Loss')\n",
        "plt.xlabel('Epoch')\n",
        "plt.legend(['Training', 'Validation'], loc='lower right')\n",
        "plt.show()"
      ],
      "execution_count": 50,
      "outputs": [
        {
          "output_type": "display_data",
          "data": {
            "image/png": "[encoded data removed]",
            "text/plain": [
              "<Figure size 432x288 with 1 Axes>"
            ]
          },
          "metadata": {
            "tags": [],
            "needs_background": "light"
          }
        }
      ]
    },
    {
      "cell_type": "code",
      "metadata": {
        "colab": {
          "base_uri": "https://localhost:8080/",
          "height": 295
        },
        "id": "uOm3rY_3PDF4",
        "outputId": "c733a9d9-89b0-4840-e450-bdaa8cccc389"
      },
      "source": [
        "#Run this cell to plot the epoch vs loss graph\n",
        "plt.plot(history.history['loss'])\n",
        "plt.plot(history.history['val_loss'])\n",
        "plt.title('Loss vs. epochs')\n",
        "plt.ylabel('Loss')\n",
        "plt.xlabel('Epoch')\n",
        "plt.legend(['Training', 'Validation'], loc='upper right')\n",
        "plt.show() "
      ],
      "execution_count": 51,
      "outputs": [
        {
          "output_type": "display_data",
          "data": {
            "image/png": "[encoded data removed]",
            "text/plain": [
              "<Figure size 432x288 with 1 Axes>"
            ]
          },
          "metadata": {
            "tags": [],
            "needs_background": "light"
          }
        }
      ]
    },
    {
      "cell_type": "markdown",
      "metadata": {
        "id": "39OFT5oKoLbm"
      },
      "source": [
        "## Testing"
      ]
    },
    {
      "cell_type": "code",
      "metadata": {
        "colab": {
          "base_uri": "https://localhost:8080/",
          "height": 195
        },
        "id": "vORRR7ASmmcb",
        "outputId": "4f3d87f3-a86c-49e4-d498-496ac587327e"
      },
      "source": [
        "df_testing = pd.read_csv('/content/drive/MyDrive/covid_image_data/Testing_set_covid.csv')\n",
        "df_testing.head()"
      ],
      "execution_count": null,
      "outputs": [
        {
          "output_type": "execute_result",
          "data": {
            "text/html": [
              "<div>\n",
              "<style scoped>\n",
              "    .dataframe tbody tr th:only-of-type {\n",
              "        vertical-align: middle;\n",
              "    }\n",
              "\n",
              "    .dataframe tbody tr th {\n",
              "        vertical-align: top;\n",
              "    }\n",
              "\n",
              "    .dataframe thead th {\n",
              "        text-align: right;\n",
              "    }\n",
              "</style>\n",
              "<table border=\"1\" class=\"dataframe\">\n",
              "  <thead>\n",
              "    <tr style=\"text-align: right;\">\n",
              "      <th></th>\n",
              "      <th>filename</th>\n",
              "    </tr>\n",
              "  </thead>\n",
              "  <tbody>\n",
              "    <tr>\n",
              "      <th>0</th>\n",
              "      <td>Image_1.jpg</td>\n",
              "    </tr>\n",
              "    <tr>\n",
              "      <th>1</th>\n",
              "      <td>Image_2.jpg</td>\n",
              "    </tr>\n",
              "    <tr>\n",
              "      <th>2</th>\n",
              "      <td>Image_3.jpg</td>\n",
              "    </tr>\n",
              "    <tr>\n",
              "      <th>3</th>\n",
              "      <td>Image_4.jpg</td>\n",
              "    </tr>\n",
              "    <tr>\n",
              "      <th>4</th>\n",
              "      <td>Image_5.jpg</td>\n",
              "    </tr>\n",
              "  </tbody>\n",
              "</table>\n",
              "</div>"
            ],
            "text/plain": [
              "      filename\n",
              "0  Image_1.jpg\n",
              "1  Image_2.jpg\n",
              "2  Image_3.jpg\n",
              "3  Image_4.jpg\n",
              "4  Image_5.jpg"
            ]
          },
          "metadata": {
            "tags": []
          },
          "execution_count": 41
        }
      ]
    },
    {
      "cell_type": "code",
      "metadata": {
        "colab": {
          "base_uri": "https://localhost:8080/",
          "height": 402
        },
        "id": "bBWbIbLjhLy9",
        "outputId": "c1bbfb60-4984-45e5-8197-28201e392a9c"
      },
      "source": [
        "images_testing = [[fname, '/content/drive/MyDrive/covid_image_data/test/' + fname[:-4] + '.jpg'] for fname in df_testing['filename']]\n",
        "images_testing = pd.DataFrame(images_testing)\n",
        "images_testing.columns = ['filename', 'file']\n",
        "images_testing"
      ],
      "execution_count": null,
      "outputs": [
        {
          "output_type": "execute_result",
          "data": {
            "text/html": [
              "<div>\n",
              "<style scoped>\n",
              "    .dataframe tbody tr th:only-of-type {\n",
              "        vertical-align: middle;\n",
              "    }\n",
              "\n",
              "    .dataframe tbody tr th {\n",
              "        vertical-align: top;\n",
              "    }\n",
              "\n",
              "    .dataframe thead th {\n",
              "        text-align: right;\n",
              "    }\n",
              "</style>\n",
              "<table border=\"1\" class=\"dataframe\">\n",
              "  <thead>\n",
              "    <tr style=\"text-align: right;\">\n",
              "      <th></th>\n",
              "      <th>filename</th>\n",
              "      <th>file</th>\n",
              "    </tr>\n",
              "  </thead>\n",
              "  <tbody>\n",
              "    <tr>\n",
              "      <th>0</th>\n",
              "      <td>Image_1.jpg</td>\n",
              "      <td>/content/drive/MyDrive/covid_image_data/test/I...</td>\n",
              "    </tr>\n",
              "    <tr>\n",
              "      <th>1</th>\n",
              "      <td>Image_2.jpg</td>\n",
              "      <td>/content/drive/MyDrive/covid_image_data/test/I...</td>\n",
              "    </tr>\n",
              "    <tr>\n",
              "      <th>2</th>\n",
              "      <td>Image_3.jpg</td>\n",
              "      <td>/content/drive/MyDrive/covid_image_data/test/I...</td>\n",
              "    </tr>\n",
              "    <tr>\n",
              "      <th>3</th>\n",
              "      <td>Image_4.jpg</td>\n",
              "      <td>/content/drive/MyDrive/covid_image_data/test/I...</td>\n",
              "    </tr>\n",
              "    <tr>\n",
              "      <th>4</th>\n",
              "      <td>Image_5.jpg</td>\n",
              "      <td>/content/drive/MyDrive/covid_image_data/test/I...</td>\n",
              "    </tr>\n",
              "    <tr>\n",
              "      <th>...</th>\n",
              "      <td>...</td>\n",
              "      <td>...</td>\n",
              "    </tr>\n",
              "    <tr>\n",
              "      <th>865</th>\n",
              "      <td>Image_866.jpg</td>\n",
              "      <td>/content/drive/MyDrive/covid_image_data/test/I...</td>\n",
              "    </tr>\n",
              "    <tr>\n",
              "      <th>866</th>\n",
              "      <td>Image_867.jpg</td>\n",
              "      <td>/content/drive/MyDrive/covid_image_data/test/I...</td>\n",
              "    </tr>\n",
              "    <tr>\n",
              "      <th>867</th>\n",
              "      <td>Image_868.jpg</td>\n",
              "      <td>/content/drive/MyDrive/covid_image_data/test/I...</td>\n",
              "    </tr>\n",
              "    <tr>\n",
              "      <th>868</th>\n",
              "      <td>Image_869.jpg</td>\n",
              "      <td>/content/drive/MyDrive/covid_image_data/test/I...</td>\n",
              "    </tr>\n",
              "    <tr>\n",
              "      <th>869</th>\n",
              "      <td>Image_870.jpg</td>\n",
              "      <td>/content/drive/MyDrive/covid_image_data/test/I...</td>\n",
              "    </tr>\n",
              "  </tbody>\n",
              "</table>\n",
              "<p>870 rows × 2 columns</p>\n",
              "</div>"
            ],
            "text/plain": [
              "          filename                                               file\n",
              "0      Image_1.jpg  /content/drive/MyDrive/covid_image_data/test/I...\n",
              "1      Image_2.jpg  /content/drive/MyDrive/covid_image_data/test/I...\n",
              "2      Image_3.jpg  /content/drive/MyDrive/covid_image_data/test/I...\n",
              "3      Image_4.jpg  /content/drive/MyDrive/covid_image_data/test/I...\n",
              "4      Image_5.jpg  /content/drive/MyDrive/covid_image_data/test/I...\n",
              "..             ...                                                ...\n",
              "865  Image_866.jpg  /content/drive/MyDrive/covid_image_data/test/I...\n",
              "866  Image_867.jpg  /content/drive/MyDrive/covid_image_data/test/I...\n",
              "867  Image_868.jpg  /content/drive/MyDrive/covid_image_data/test/I...\n",
              "868  Image_869.jpg  /content/drive/MyDrive/covid_image_data/test/I...\n",
              "869  Image_870.jpg  /content/drive/MyDrive/covid_image_data/test/I...\n",
              "\n",
              "[870 rows x 2 columns]"
            ]
          },
          "metadata": {
            "tags": []
          },
          "execution_count": 42
        }
      ]
    },
    {
      "cell_type": "code",
      "metadata": {
        "colab": {
          "base_uri": "https://localhost:8080/"
        },
        "id": "mytCnodUnUj1",
        "outputId": "4c8904bb-e06d-4dd8-ce1b-4ae5d7ddff7e"
      },
      "source": [
        "from tqdm import tqdm\n",
        "from keras.preprocessing.image import ImageDataGenerator, load_img, img_to_array\n",
        "test_image = []\n",
        "for i in tqdm(range(images_testing.shape[0])):\n",
        "    img = load_img(images_testing['file'][i], target_size=(224, 224, 3), grayscale=False)\n",
        "    img = img_to_array(img)\n",
        "    img = img/255\n",
        "    test_image.append(img)\n",
        "X = np.array(test_image)"
      ],
      "execution_count": null,
      "outputs": [
        {
          "output_type": "stream",
          "text": [
            "100%|██████████| 870/870 [07:16<00:00,  1.99it/s]\n"
          ],
          "name": "stderr"
        }
      ]
    },
    {
      "cell_type": "code",
      "metadata": {
        "id": "yJqJ7T_8nZwU"
      },
      "source": [
        "prediction = model.predict(X)"
      ],
      "execution_count": null,
      "outputs": []
    },
    {
      "cell_type": "code",
      "metadata": {
        "id": "RqsqwFbIpjXK"
      },
      "source": [
        "K = pd.DataFrame(prediction)"
      ],
      "execution_count": null,
      "outputs": []
    },
    {
      "cell_type": "code",
      "metadata": {
        "colab": {
          "base_uri": "https://localhost:8080/",
          "height": 195
        },
        "id": "lPO7RHvFHjhb",
        "outputId": "f8b38603-9a78-4d23-cb29-0bc4bbee5ac2"
      },
      "source": [
        "K.head()"
      ],
      "execution_count": null,
      "outputs": [
        {
          "output_type": "execute_result",
          "data": {
            "text/html": [
              "<div>\n",
              "<style scoped>\n",
              "    .dataframe tbody tr th:only-of-type {\n",
              "        vertical-align: middle;\n",
              "    }\n",
              "\n",
              "    .dataframe tbody tr th {\n",
              "        vertical-align: top;\n",
              "    }\n",
              "\n",
              "    .dataframe thead th {\n",
              "        text-align: right;\n",
              "    }\n",
              "</style>\n",
              "<table border=\"1\" class=\"dataframe\">\n",
              "  <thead>\n",
              "    <tr style=\"text-align: right;\">\n",
              "      <th></th>\n",
              "      <th>0</th>\n",
              "    </tr>\n",
              "  </thead>\n",
              "  <tbody>\n",
              "    <tr>\n",
              "      <th>0</th>\n",
              "      <td>0.075002</td>\n",
              "    </tr>\n",
              "    <tr>\n",
              "      <th>1</th>\n",
              "      <td>0.006712</td>\n",
              "    </tr>\n",
              "    <tr>\n",
              "      <th>2</th>\n",
              "      <td>0.975476</td>\n",
              "    </tr>\n",
              "    <tr>\n",
              "      <th>3</th>\n",
              "      <td>0.047779</td>\n",
              "    </tr>\n",
              "    <tr>\n",
              "      <th>4</th>\n",
              "      <td>0.752774</td>\n",
              "    </tr>\n",
              "  </tbody>\n",
              "</table>\n",
              "</div>"
            ],
            "text/plain": [
              "          0\n",
              "0  0.075002\n",
              "1  0.006712\n",
              "2  0.975476\n",
              "3  0.047779\n",
              "4  0.752774"
            ]
          },
          "metadata": {
            "tags": []
          },
          "execution_count": 196
        }
      ]
    },
    {
      "cell_type": "code",
      "metadata": {
        "id": "Tq0ZRZEBHcG1"
      },
      "source": [
        "L = []\n",
        "for i in range(len(K[0])):\n",
        "  if K[0][i] > 0.5:\n",
        "    L.append(1)\n",
        "  else:\n",
        "    L.append(0) "
      ],
      "execution_count": null,
      "outputs": []
    },
    {
      "cell_type": "code",
      "metadata": {
        "id": "jwY6ZF15H1U8"
      },
      "source": [
        ""
      ],
      "execution_count": null,
      "outputs": []
    },
    {
      "cell_type": "code",
      "metadata": {
        "colab": {
          "base_uri": "https://localhost:8080/",
          "height": 17
        },
        "id": "6sSKyGF0HsaY",
        "outputId": "4c0e32cb-184a-461c-f546-95e690d5ce91"
      },
      "source": [
        "# To download the csv file locally\n",
        "from google.colab import files\n",
        "res = pd.DataFrame(L) \n",
        "res.columns = [\"prediction\"]\n",
        "res.to_csv('prediction_results_vgg19.csv',index=False)         \n",
        "files.download('prediction_results_vgg19.csv')"
      ],
      "execution_count": null,
      "outputs": [
        {
          "output_type": "display_data",
          "data": {
            "application/javascript": [
              "\n",
              "    async function download(id, filename, size) {\n",
              "      if (!google.colab.kernel.accessAllowed) {\n",
              "        return;\n",
              "      }\n",
              "      const div = document.createElement('div');\n",
              "      const label = document.createElement('label');\n",
              "      label.textContent = `Downloading \"${filename}\": `;\n",
              "      div.appendChild(label);\n",
              "      const progress = document.createElement('progress');\n",
              "      progress.max = size;\n",
              "      div.appendChild(progress);\n",
              "      document.body.appendChild(div);\n",
              "\n",
              "      const buffers = [];\n",
              "      let downloaded = 0;\n",
              "\n",
              "      const channel = await google.colab.kernel.comms.open(id);\n",
              "      // Send a message to notify the kernel that we're ready.\n",
              "      channel.send({})\n",
              "\n",
              "      for await (const message of channel.messages) {\n",
              "        // Send a message to notify the kernel that we're ready.\n",
              "        channel.send({})\n",
              "        if (message.buffers) {\n",
              "          for (const buffer of message.buffers) {\n",
              "            buffers.push(buffer);\n",
              "            downloaded += buffer.byteLength;\n",
              "            progress.value = downloaded;\n",
              "          }\n",
              "        }\n",
              "      }\n",
              "      const blob = new Blob(buffers, {type: 'application/binary'});\n",
              "      const a = document.createElement('a');\n",
              "      a.href = window.URL.createObjectURL(blob);\n",
              "      a.download = filename;\n",
              "      div.appendChild(a);\n",
              "      a.click();\n",
              "      div.remove();\n",
              "    }\n",
              "  "
            ],
            "text/plain": [
              "<IPython.core.display.Javascript object>"
            ]
          },
          "metadata": {
            "tags": []
          }
        },
        {
          "output_type": "display_data",
          "data": {
            "application/javascript": [
              "download(\"download_59d15ae5-b430-4f86-b8dc-014139eff4a0\", \"prediction_results_vgg19.csv\", 1751)"
            ],
            "text/plain": [
              "<IPython.core.display.Javascript object>"
            ]
          },
          "metadata": {
            "tags": []
          }
        }
      ]
    }
  ]
}
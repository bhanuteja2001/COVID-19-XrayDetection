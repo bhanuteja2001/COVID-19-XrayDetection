{
 "cells": [
  {
   "cell_type": "code",
   "execution_count": 1,
   "id": "e3717519",
   "metadata": {},
   "outputs": [],
   "source": [
    "import pandas as pd # Data analysis and manipultion tool\n",
    "import numpy as np # Fundamental package for linear algebra and multidimensional arrays\n",
    "import tensorflow as tf # Deep Learning Tool\n",
    "import os # OS module in Python provides a way of using operating system dependent functionality\n",
    "import cv2 # Library for image processing\n",
    "from sklearn.model_selection import train_test_split # For splitting the data into train and validation set\n",
    "from sklearn.metrics import f1_score\n",
    "import matplotlib.pyplot as plt\n",
    "import seaborn as sns"
   ]
  },
  {
   "cell_type": "code",
   "execution_count": 2,
   "id": "8b8b084c",
   "metadata": {},
   "outputs": [],
   "source": [
    "from imutils import build_montages\n",
    "from imutils import paths\n",
    "import random\n",
    "import cv2"
   ]
  },
  {
   "cell_type": "code",
   "execution_count": 3,
   "id": "031389d0",
   "metadata": {},
   "outputs": [],
   "source": [
    "imagePaths = list(paths.list_images(\"G:\\PYTHON\\Final year project\\Final\\covid_image_data\\covid_image_data\\train\"))\n",
    "random.shuffle(imagePaths)\n",
    "imagePaths = imagePaths[:21]"
   ]
  },
  {
   "cell_type": "code",
   "execution_count": 4,
   "id": "178128f7",
   "metadata": {},
   "outputs": [],
   "source": [
    "# initialize the list of images\n",
    "images = []\n",
    "# loop over the list of image paths\n",
    "for imagePath in imagePaths:\n",
    "    image = cv2.imread(imagePath)\n",
    "    images.append(image)\n",
    "# load the image and update the list of images\n",
    "# construct the montages for the images\n",
    "montages = build_montages(images, (128, 196), (7, 3))"
   ]
  },
  {
   "cell_type": "code",
   "execution_count": 5,
   "id": "2671442f",
   "metadata": {},
   "outputs": [
    {
     "name": "stdout",
     "output_type": "stream",
     "text": [
      "Number of labels i.e.  3479 matches the number of filenames i.e.  3479\n"
     ]
    },
    {
     "data": {
      "text/html": [
       "<div>\n",
       "<style scoped>\n",
       "    .dataframe tbody tr th:only-of-type {\n",
       "        vertical-align: middle;\n",
       "    }\n",
       "\n",
       "    .dataframe tbody tr th {\n",
       "        vertical-align: top;\n",
       "    }\n",
       "\n",
       "    .dataframe thead th {\n",
       "        text-align: right;\n",
       "    }\n",
       "</style>\n",
       "<table border=\"1\" class=\"dataframe\">\n",
       "  <thead>\n",
       "    <tr style=\"text-align: right;\">\n",
       "      <th></th>\n",
       "      <th>filename</th>\n",
       "      <th>filepaths</th>\n",
       "      <th>label</th>\n",
       "    </tr>\n",
       "  </thead>\n",
       "  <tbody>\n",
       "    <tr>\n",
       "      <th>0</th>\n",
       "      <td>Image_1.jpg</td>\n",
       "      <td>G:/PYTHON/Final year project/Final/covid_image...</td>\n",
       "      <td>1</td>\n",
       "    </tr>\n",
       "    <tr>\n",
       "      <th>1</th>\n",
       "      <td>Image_2.jpg</td>\n",
       "      <td>G:/PYTHON/Final year project/Final/covid_image...</td>\n",
       "      <td>0</td>\n",
       "    </tr>\n",
       "    <tr>\n",
       "      <th>2</th>\n",
       "      <td>Image_3.jpg</td>\n",
       "      <td>G:/PYTHON/Final year project/Final/covid_image...</td>\n",
       "      <td>0</td>\n",
       "    </tr>\n",
       "    <tr>\n",
       "      <th>3</th>\n",
       "      <td>Image_4.jpg</td>\n",
       "      <td>G:/PYTHON/Final year project/Final/covid_image...</td>\n",
       "      <td>0</td>\n",
       "    </tr>\n",
       "    <tr>\n",
       "      <th>4</th>\n",
       "      <td>Image_5.jpg</td>\n",
       "      <td>G:/PYTHON/Final year project/Final/covid_image...</td>\n",
       "      <td>0</td>\n",
       "    </tr>\n",
       "  </tbody>\n",
       "</table>\n",
       "</div>"
      ],
      "text/plain": [
       "      filename                                          filepaths  label\n",
       "0  Image_1.jpg  G:/PYTHON/Final year project/Final/covid_image...      1\n",
       "1  Image_2.jpg  G:/PYTHON/Final year project/Final/covid_image...      0\n",
       "2  Image_3.jpg  G:/PYTHON/Final year project/Final/covid_image...      0\n",
       "3  Image_4.jpg  G:/PYTHON/Final year project/Final/covid_image...      0\n",
       "4  Image_5.jpg  G:/PYTHON/Final year project/Final/covid_image...      0"
      ]
     },
     "execution_count": 5,
     "metadata": {},
     "output_type": "execute_result"
    }
   ],
   "source": [
    "labels = pd.read_csv(\"G:\\PYTHON\\Final year project\\Final\\covid_image_data\\covid_image_data\\Training_set_covid.csv\")\n",
    "\n",
    "labels.head()\n",
    "file_paths = [[fname, 'G:/PYTHON/Final year project/Final/covid_image_data/covid_image_data/train/' + fname] for fname in labels['filename']]\n",
    "\n",
    "if len(labels) == len(file_paths):\n",
    "    print('Number of labels i.e. ', len(labels), 'matches the number of filenames i.e. ', len(file_paths))\n",
    "else:\n",
    "    print('Number of labels does not match the number of filenames')\n",
    "\n",
    "images = pd.DataFrame(file_paths, columns=['filename', 'filepaths'])\n",
    "images.head()\n",
    "\n",
    "\n",
    "train_data = pd.merge(images, labels, how = 'inner', on = 'filename')\n",
    "train_data.head()"
   ]
  },
  {
   "cell_type": "code",
   "execution_count": 6,
   "id": "dce5b8fa",
   "metadata": {},
   "outputs": [
    {
     "data": {
      "text/html": [
       "<div>\n",
       "<style scoped>\n",
       "    .dataframe tbody tr th:only-of-type {\n",
       "        vertical-align: middle;\n",
       "    }\n",
       "\n",
       "    .dataframe tbody tr th {\n",
       "        vertical-align: top;\n",
       "    }\n",
       "\n",
       "    .dataframe thead th {\n",
       "        text-align: right;\n",
       "    }\n",
       "</style>\n",
       "<table border=\"1\" class=\"dataframe\">\n",
       "  <thead>\n",
       "    <tr style=\"text-align: right;\">\n",
       "      <th></th>\n",
       "      <th>filename</th>\n",
       "      <th>filepaths</th>\n",
       "    </tr>\n",
       "  </thead>\n",
       "  <tbody>\n",
       "    <tr>\n",
       "      <th>0</th>\n",
       "      <td>Image_1.jpg</td>\n",
       "      <td>G:/PYTHON/Final year project/Final/covid_image...</td>\n",
       "    </tr>\n",
       "    <tr>\n",
       "      <th>1</th>\n",
       "      <td>Image_2.jpg</td>\n",
       "      <td>G:/PYTHON/Final year project/Final/covid_image...</td>\n",
       "    </tr>\n",
       "    <tr>\n",
       "      <th>2</th>\n",
       "      <td>Image_3.jpg</td>\n",
       "      <td>G:/PYTHON/Final year project/Final/covid_image...</td>\n",
       "    </tr>\n",
       "    <tr>\n",
       "      <th>3</th>\n",
       "      <td>Image_4.jpg</td>\n",
       "      <td>G:/PYTHON/Final year project/Final/covid_image...</td>\n",
       "    </tr>\n",
       "    <tr>\n",
       "      <th>4</th>\n",
       "      <td>Image_5.jpg</td>\n",
       "      <td>G:/PYTHON/Final year project/Final/covid_image...</td>\n",
       "    </tr>\n",
       "  </tbody>\n",
       "</table>\n",
       "</div>"
      ],
      "text/plain": [
       "      filename                                          filepaths\n",
       "0  Image_1.jpg  G:/PYTHON/Final year project/Final/covid_image...\n",
       "1  Image_2.jpg  G:/PYTHON/Final year project/Final/covid_image...\n",
       "2  Image_3.jpg  G:/PYTHON/Final year project/Final/covid_image...\n",
       "3  Image_4.jpg  G:/PYTHON/Final year project/Final/covid_image...\n",
       "4  Image_5.jpg  G:/PYTHON/Final year project/Final/covid_image..."
      ]
     },
     "execution_count": 6,
     "metadata": {},
     "output_type": "execute_result"
    }
   ],
   "source": [
    "test_image_order = pd.read_csv(\"G:\\PYTHON\\Final year project\\Final\\covid_image_data\\covid_image_data\\Testing_set_covid.csv\")\n",
    "test_image_order.head()\n",
    "\n",
    "file_paths_test = [[fname, 'G:/PYTHON/Final year project/Final/covid_image_data/covid_image_data/test/' + fname] for fname in test_image_order['filename']]\n",
    "\n",
    "test_images = pd.DataFrame(file_paths_test, columns=['filename', 'filepaths'])\n",
    "test_images.head()"
   ]
  },
  {
   "cell_type": "code",
   "execution_count": 23,
   "id": "6171bceb",
   "metadata": {},
   "outputs": [],
   "source": [
    "data = []\n",
    "image_size = 128\n",
    "test_pixel_data = []\n",
    "import matplotlib.pyplot as plt\n",
    "\n",
    "for i in range(len(train_data)):\n",
    "    img_array = plt.imread(train_data['filepaths'][i], cv2.COLOR_BGR2RGB)\n",
    "\n",
    "    new_img_array = cv2.resize(img_array, (image_size, image_size))\n",
    "    #new_img_array = cv2.GaussianBlur(new_img_array,(5,5),0)\n",
    "    data.append([new_img_array, train_data['label'][i]])\n"
   ]
  },
  {
   "cell_type": "code",
   "execution_count": 24,
   "id": "5e87eeda",
   "metadata": {},
   "outputs": [],
   "source": [
    "for i in range(len(test_images)):\n",
    "    img_array = cv2.imread(test_images['filepaths'][i], cv2.COLOR_BGR2RGB)\n",
    "    if img_array is None:\n",
    "        print('Wrong path:', test_images['filepaths'][i])\n",
    "    new_img_array = cv2.resize(img_array, (image_size, image_size))\n",
    "    #new_img_array = cv2.GaussianBlur(new_img_array,(5,5),0)\n",
    "    test_pixel_data.append(new_img_array)"
   ]
  },
  {
   "cell_type": "code",
   "execution_count": 25,
   "id": "a87ebedd",
   "metadata": {},
   "outputs": [],
   "source": [
    "np.random.shuffle(data)"
   ]
  },
  {
   "cell_type": "code",
   "execution_count": 26,
   "id": "daa264f4",
   "metadata": {},
   "outputs": [],
   "source": [
    "x = []\n",
    "y = []\n",
    "\n",
    "counter = 406\n",
    "\n",
    "for image in data:\n",
    "    x.append(image[0])\n",
    "    y.append(image[1])\n",
    "\n",
    "# converting x & y to numpy array as they are list\n",
    "x = np.array(x)\n",
    "y = np.array(y)"
   ]
  },
  {
   "cell_type": "code",
   "execution_count": 27,
   "id": "5216b103",
   "metadata": {},
   "outputs": [
    {
     "data": {
      "text/plain": [
       "(array([0, 1], dtype=int64), array([3073,  406], dtype=int64))"
      ]
     },
     "execution_count": 27,
     "metadata": {},
     "output_type": "execute_result"
    }
   ],
   "source": [
    "np.unique(y, return_counts=True)"
   ]
  },
  {
   "cell_type": "code",
   "execution_count": 28,
   "id": "9f912600",
   "metadata": {},
   "outputs": [
    {
     "data": {
      "text/plain": [
       "0    3073\n",
       "1     406\n",
       "dtype: int64"
      ]
     },
     "execution_count": 28,
     "metadata": {},
     "output_type": "execute_result"
    }
   ],
   "source": [
    "pd.Series(y).value_counts()"
   ]
  },
  {
   "cell_type": "code",
   "execution_count": 29,
   "id": "c7596759",
   "metadata": {},
   "outputs": [],
   "source": [
    "X_train, X_val, y_train, y_val = train_test_split(x,y,test_size=0.2, random_state = 42,stratify=y)"
   ]
  },
  {
   "cell_type": "code",
   "execution_count": 30,
   "id": "ce6f0a88",
   "metadata": {},
   "outputs": [
    {
     "name": "stdout",
     "output_type": "stream",
     "text": [
      "(2783, 128, 128, 3) (696, 128, 128, 3) (870, 128, 128, 3)\n"
     ]
    }
   ],
   "source": [
    "test_pixel_data = np.array(test_pixel_data)\n",
    "\n",
    "test_pixel_data = test_pixel_data/255\n",
    "\n",
    "print(X_train.shape,X_val.shape,test_pixel_data.shape)"
   ]
  },
  {
   "cell_type": "code",
   "execution_count": 31,
   "id": "397c62fc",
   "metadata": {},
   "outputs": [],
   "source": [
    "train_datagen = tf.keras.preprocessing.image.ImageDataGenerator(rescale=1.0/255.0)\n",
    "\n",
    "val_datagen = tf.keras.preprocessing.image.ImageDataGenerator(rescale=1.0/255.0)\n",
    "\n",
    "train_generator = train_datagen.flow(X_train,y_train,batch_size=8)\n",
    "\n",
    "val_generator = val_datagen.flow(X_val,y_val,batch_size=8)"
   ]
  },
  {
   "cell_type": "code",
   "execution_count": 32,
   "id": "36e5477f",
   "metadata": {},
   "outputs": [
    {
     "data": {
      "text/plain": [
       "0    0.883621\n",
       "1    0.116379\n",
       "dtype: float64"
      ]
     },
     "execution_count": 32,
     "metadata": {},
     "output_type": "execute_result"
    }
   ],
   "source": [
    "pd.Series(y_val).value_counts(normalize=True)"
   ]
  },
  {
   "cell_type": "code",
   "execution_count": 33,
   "id": "72c73e89",
   "metadata": {},
   "outputs": [
    {
     "name": "stdout",
     "output_type": "stream",
     "text": [
      "(2783, 128, 128, 3) (696, 128, 128, 3)\n"
     ]
    }
   ],
   "source": [
    "print(X_train.shape,X_val.shape)"
   ]
  },
  {
   "cell_type": "code",
   "execution_count": 5,
   "id": "f79b01da",
   "metadata": {},
   "outputs": [],
   "source": [
    "import keras.backend as K\n",
    "\n",
    "def get_f1(y_true, y_pred): #taken from old keras source code\n",
    "    true_positives = K.sum(K.round(K.clip(y_true * y_pred, 0, 1)))\n",
    "    possible_positives = K.sum(K.round(K.clip(y_true, 0, 1)))\n",
    "    predicted_positives = K.sum(K.round(K.clip(y_pred, 0, 1)))\n",
    "    precision = true_positives / (predicted_positives + K.epsilon())\n",
    "    recall = true_positives / (possible_positives + K.epsilon())\n",
    "    f1_val = 2*(precision*recall)/(precision+recall+K.epsilon())\n",
    "    return f1_val"
   ]
  },
  {
   "cell_type": "code",
   "execution_count": 34,
   "id": "12d6dd74",
   "metadata": {},
   "outputs": [],
   "source": [
    "cbs = [tf.keras.callbacks.ReduceLROnPlateau(monitor='val_loss', factor=0.5, patience=1, min_lr=1e-5, verbose=0),\n",
    "tf.keras.callbacks.EarlyStopping(monitor='val_loss', min_delta=1e-6, patience=10, verbose=1, mode='auto')]"
   ]
  },
  {
   "cell_type": "code",
   "execution_count": 19,
   "id": "4b90b5f1",
   "metadata": {},
   "outputs": [],
   "source": [
    "from tensorflow.keras.applications import VGG16,VGG19,NASNetMobile,DenseNet201\n",
    "from keras.layers import *\n",
    "from keras.models import Sequential\n",
    "from keras.regularizers import *\n",
    "from tensorflow.keras.optimizers import Adam"
   ]
  },
  {
   "cell_type": "code",
   "execution_count": 35,
   "id": "0e062b68",
   "metadata": {},
   "outputs": [],
   "source": [
    "def build_model():\n",
    "    model = Sequential()\n",
    "\n",
    "    conv_base = DenseNet201(input_shape=(128,128,3), include_top=False, pooling='max',weights='imagenet')\n",
    "    model.add(conv_base)\n",
    "    model.add(BatchNormalization())\n",
    "    model.add(Dense(2048, activation='relu', kernel_regularizer=l1_l2(0.01)))\n",
    "    model.add(BatchNormalization())\n",
    "  # model.add(Dense(2048, activation='relu', kernel_regularizer=l1_l2(0.01)))\n",
    "  # model.add(BatchNormalization())\n",
    "  # model.add(Dense(2048, activation='relu', kernel_regularizer=l1_l2(0.01)))\n",
    "  # model.add(BatchNormalization())\n",
    "  # model.add(Dense(1024, activation='relu', kernel_regularizer=l1_l2(0.01)))\n",
    "  # model.add(BatchNormalization())\n",
    "    model.add(Dense(1, activation='sigmoid'))\n",
    "    for layer in model.layers:\n",
    "        layer.trainable = True\n",
    " \n",
    "    model.compile(loss='binary_crossentropy', optimizer=Adam(lr=1e-4), metrics=['accuracy',\"Precision\",\"Recall\"])\n",
    "\n",
    "    return model"
   ]
  },
  {
   "cell_type": "code",
   "execution_count": null,
   "id": "656156f9",
   "metadata": {},
   "outputs": [],
   "source": []
  },
  {
   "cell_type": "code",
   "execution_count": 36,
   "id": "38e74ef0",
   "metadata": {},
   "outputs": [
    {
     "name": "stdout",
     "output_type": "stream",
     "text": [
      "Model: \"sequential_1\"\n",
      "_________________________________________________________________\n",
      "Layer (type)                 Output Shape              Param #   \n",
      "=================================================================\n",
      "densenet201 (Functional)     (None, 1920)              18321984  \n",
      "_________________________________________________________________\n",
      "batch_normalization_2 (Batch (None, 1920)              7680      \n",
      "_________________________________________________________________\n",
      "dense_2 (Dense)              (None, 2048)              3934208   \n",
      "_________________________________________________________________\n",
      "batch_normalization_3 (Batch (None, 2048)              8192      \n",
      "_________________________________________________________________\n",
      "dense_3 (Dense)              (None, 1)                 2049      \n",
      "=================================================================\n",
      "Total params: 22,274,113\n",
      "Trainable params: 22,037,121\n",
      "Non-trainable params: 236,992\n",
      "_________________________________________________________________\n"
     ]
    },
    {
     "name": "stderr",
     "output_type": "stream",
     "text": [
      "C:\\Users\\Charan Chandra\\anaconda3\\envs\\gputest\\lib\\site-packages\\keras\\optimizer_v2\\optimizer_v2.py:356: UserWarning: The `lr` argument is deprecated, use `learning_rate` instead.\n",
      "  \"The `lr` argument is deprecated, use `learning_rate` instead.\")\n"
     ]
    }
   ],
   "source": [
    "model = build_model()\n",
    "model.summary()"
   ]
  },
  {
   "cell_type": "code",
   "execution_count": 37,
   "id": "55cfd5de",
   "metadata": {},
   "outputs": [
    {
     "name": "stdout",
     "output_type": "stream",
     "text": [
      "Epoch 1/100\n",
      "87/87 [==============================] - 60s 336ms/step - loss: 642.2299 - accuracy: 0.6710 - precision: 0.2721 - recall: 0.8421 - val_loss: 506.5297 - val_accuracy: 0.5568 - val_precision: 0.2143 - val_recall: 0.9545\n",
      "Epoch 2/100\n",
      "87/87 [==============================] - 25s 287ms/step - loss: 396.0991 - accuracy: 0.7543 - precision: 0.2731 - recall: 0.9118 - val_loss: 294.3685 - val_accuracy: 0.5284 - val_precision: 0.2000 - val_recall: 0.8696\n",
      "Epoch 3/100\n",
      "87/87 [==============================] - 31s 363ms/step - loss: 216.0331 - accuracy: 0.8201 - precision: 0.4103 - recall: 0.8889 - val_loss: 147.1613 - val_accuracy: 0.8920 - val_precision: 0.5000 - val_recall: 0.3158\n",
      "Epoch 4/100\n",
      "87/87 [==============================] - 26s 295ms/step - loss: 101.2069 - accuracy: 0.8218 - precision: 0.3904 - recall: 0.8795 - val_loss: 64.5221 - val_accuracy: 0.8409 - val_precision: 0.3611 - val_recall: 0.7222\n",
      "Epoch 5/100\n",
      "87/87 [==============================] - 22s 250ms/step - loss: 47.3944 - accuracy: 0.7730 - precision: 0.2780 - recall: 0.8507 - val_loss: 35.2622 - val_accuracy: 0.9034 - val_precision: 0.5862 - val_recall: 0.7727\n",
      "Epoch 6/100\n",
      "87/87 [==============================] - 23s 260ms/step - loss: 28.9220 - accuracy: 0.7945 - precision: 0.3676 - recall: 0.8427 - val_loss: 22.3591 - val_accuracy: 0.8466 - val_precision: 0.3514 - val_recall: 0.8125\n",
      "Epoch 7/100\n",
      "87/87 [==============================] - 22s 248ms/step - loss: 18.0269 - accuracy: 0.8276 - precision: 0.3675 - recall: 0.8026 - val_loss: 13.4996 - val_accuracy: 0.9489 - val_precision: 0.9091 - val_recall: 0.7407\n",
      "Epoch 8/100\n",
      "87/87 [==============================] - 22s 258ms/step - loss: 10.7869 - accuracy: 0.8835 - precision: 0.5143 - recall: 0.8471 - val_loss: 8.2759 - val_accuracy: 0.8068 - val_precision: 0.2791 - val_recall: 0.8000\n",
      "Epoch 9/100\n",
      "87/87 [==============================] - 23s 263ms/step - loss: 6.8897 - accuracy: 0.8664 - precision: 0.4545 - recall: 0.8125 - val_loss: 5.9157 - val_accuracy: 0.7500 - val_precision: 0.2642 - val_recall: 0.7368\n",
      "Epoch 10/100\n",
      "87/87 [==============================] - 26s 295ms/step - loss: 4.9458 - accuracy: 0.8549 - precision: 0.4101 - recall: 0.7500 - val_loss: 4.3323 - val_accuracy: 0.7045 - val_precision: 0.2973 - val_recall: 1.0000\n",
      "Epoch 11/100\n",
      "87/87 [==============================] - 24s 281ms/step - loss: 3.5811 - accuracy: 0.8705 - precision: 0.5135 - recall: 0.8085 - val_loss: 3.4170 - val_accuracy: 0.9034 - val_precision: 0.5833 - val_recall: 0.9130\n",
      "Epoch 12/100\n",
      "87/87 [==============================] - 26s 295ms/step - loss: 2.8942 - accuracy: 0.9224 - precision: 0.6018 - recall: 0.8831 - val_loss: 2.1904 - val_accuracy: 0.9318 - val_precision: 0.6923 - val_recall: 0.5294\n",
      "Epoch 13/100\n",
      "87/87 [==============================] - 24s 281ms/step - loss: 3.2814 - accuracy: 0.8576 - precision: 0.4437 - recall: 0.7590 - val_loss: 3.4578 - val_accuracy: 0.8693 - val_precision: 0.4231 - val_recall: 0.5789\n",
      "Epoch 14/100\n",
      "87/87 [==============================] - 25s 283ms/step - loss: 2.4010 - accuracy: 0.8807 - precision: 0.5423 - recall: 0.8105 - val_loss: 1.4328 - val_accuracy: 0.9489 - val_precision: 0.7368 - val_recall: 0.7778\n",
      "Epoch 15/100\n",
      "87/87 [==============================] - 23s 259ms/step - loss: 1.3258 - accuracy: 0.9253 - precision: 0.6262 - recall: 0.8481 - val_loss: 1.1584 - val_accuracy: 0.9318 - val_precision: 0.7143 - val_recall: 0.8333\n",
      "Epoch 16/100\n",
      "87/87 [==============================] - 24s 271ms/step - loss: 1.2353 - accuracy: 0.9353 - precision: 0.6667 - recall: 0.8889 - val_loss: 1.6453 - val_accuracy: 0.8807 - val_precision: 0.5294 - val_recall: 0.4091\n",
      "Epoch 17/100\n",
      "87/87 [==============================] - 55s 635ms/step - loss: 0.9059 - accuracy: 0.9353 - precision: 0.7379 - recall: 0.8085 - val_loss: 0.6429 - val_accuracy: 0.9659 - val_precision: 0.8125 - val_recall: 0.8125\n",
      "Epoch 18/100\n",
      "87/87 [==============================] - 42s 477ms/step - loss: 0.6082 - accuracy: 0.9626 - precision: 0.8404 - recall: 0.8778 - val_loss: 0.5171 - val_accuracy: 0.9432 - val_precision: 0.8421 - val_recall: 0.6957\n",
      "Epoch 19/100\n",
      "87/87 [==============================] - 41s 475ms/step - loss: 0.5367 - accuracy: 0.9640 - precision: 0.8571 - recall: 0.8842 - val_loss: 0.5275 - val_accuracy: 0.9261 - val_precision: 0.6400 - val_recall: 0.8000\n",
      "Epoch 20/100\n",
      "87/87 [==============================] - 42s 484ms/step - loss: 0.3183 - accuracy: 0.9784 - precision: 0.8611 - recall: 0.9254 - val_loss: 0.3408 - val_accuracy: 0.9432 - val_precision: 0.8571 - val_recall: 0.7200\n",
      "Epoch 21/100\n",
      "87/87 [==============================] - 46s 530ms/step - loss: 0.2954 - accuracy: 0.9828 - precision: 0.9277 - recall: 0.9277 - val_loss: 0.3352 - val_accuracy: 0.9545 - val_precision: 0.7692 - val_recall: 0.9091\n",
      "Epoch 22/100\n",
      "87/87 [==============================] - 43s 495ms/step - loss: 0.3188 - accuracy: 0.9713 - precision: 0.8571 - recall: 0.9000 - val_loss: 0.2670 - val_accuracy: 0.9602 - val_precision: 0.8000 - val_recall: 0.7500\n",
      "Epoch 23/100\n",
      "87/87 [==============================] - 42s 482ms/step - loss: 0.3273 - accuracy: 0.9784 - precision: 0.9070 - recall: 0.9176 - val_loss: 0.5229 - val_accuracy: 0.9489 - val_precision: 0.6667 - val_recall: 1.0000\n",
      "Epoch 24/100\n",
      "87/87 [==============================] - 42s 487ms/step - loss: 0.3638 - accuracy: 0.9626 - precision: 0.8193 - recall: 0.8608 - val_loss: 0.2913 - val_accuracy: 0.9602 - val_precision: 0.8500 - val_recall: 0.8095\n",
      "Epoch 25/100\n",
      "87/87 [==============================] - 42s 486ms/step - loss: 0.2890 - accuracy: 0.9770 - precision: 0.9114 - recall: 0.8889 - val_loss: 0.3780 - val_accuracy: 0.9545 - val_precision: 0.7857 - val_recall: 0.9167\n",
      "Epoch 26/100\n",
      "87/87 [==============================] - 42s 479ms/step - loss: 0.2923 - accuracy: 0.9770 - precision: 0.8778 - recall: 0.9405 - val_loss: 0.2849 - val_accuracy: 0.9659 - val_precision: 0.7391 - val_recall: 1.0000\n",
      "Epoch 27/100\n",
      "87/87 [==============================] - 43s 488ms/step - loss: 0.2601 - accuracy: 0.9856 - precision: 0.9383 - recall: 0.9383 - val_loss: 0.2898 - val_accuracy: 0.9659 - val_precision: 0.8182 - val_recall: 0.9000\n",
      "Epoch 28/100\n",
      "87/87 [==============================] - 42s 484ms/step - loss: 0.2808 - accuracy: 0.9784 - precision: 0.9091 - recall: 0.9195 - val_loss: 0.2499 - val_accuracy: 0.9602 - val_precision: 0.8333 - val_recall: 0.8696\n",
      "Epoch 29/100\n",
      "87/87 [==============================] - 43s 496ms/step - loss: 0.1930 - accuracy: 0.9943 - precision: 0.9565 - recall: 0.9851 - val_loss: 0.2406 - val_accuracy: 0.9375 - val_precision: 0.7619 - val_recall: 0.7273\n",
      "Epoch 30/100\n",
      "87/87 [==============================] - 43s 493ms/step - loss: 0.2142 - accuracy: 0.9885 - precision: 0.9481 - recall: 0.9481 - val_loss: 0.2380 - val_accuracy: 0.9716 - val_precision: 0.8947 - val_recall: 0.8500\n",
      "Epoch 31/100\n",
      "87/87 [==============================] - 47s 545ms/step - loss: 0.2327 - accuracy: 0.9842 - precision: 0.9231 - recall: 0.9697 - val_loss: 0.2229 - val_accuracy: 0.9545 - val_precision: 0.9333 - val_recall: 0.6667\n",
      "Epoch 32/100\n",
      "87/87 [==============================] - 44s 512ms/step - loss: 0.2815 - accuracy: 0.9713 - precision: 0.8791 - recall: 0.8989 - val_loss: 0.3506 - val_accuracy: 0.9091 - val_precision: 0.7308 - val_recall: 0.6786\n",
      "Epoch 33/100\n",
      "87/87 [==============================] - 42s 487ms/step - loss: 0.2122 - accuracy: 0.9914 - precision: 0.9714 - recall: 0.9444 - val_loss: 0.1984 - val_accuracy: 0.9659 - val_precision: 1.0000 - val_recall: 0.7000\n",
      "Epoch 34/100\n",
      "87/87 [==============================] - 43s 497ms/step - loss: 0.2421 - accuracy: 0.9856 - precision: 0.9351 - recall: 0.9351 - val_loss: 0.2430 - val_accuracy: 0.9602 - val_precision: 0.8000 - val_recall: 0.8421\n",
      "Epoch 35/100\n",
      "87/87 [==============================] - 43s 492ms/step - loss: 0.2378 - accuracy: 0.9899 - precision: 0.9770 - recall: 0.9444 - val_loss: 0.2416 - val_accuracy: 0.9886 - val_precision: 0.8947 - val_recall: 1.0000\n",
      "Epoch 36/100\n",
      "87/87 [==============================] - 43s 496ms/step - loss: 0.1929 - accuracy: 0.9957 - precision: 0.9706 - recall: 0.9851 - val_loss: 0.2442 - val_accuracy: 0.9205 - val_precision: 0.8000 - val_recall: 0.6154\n",
      "Epoch 37/100\n"
     ]
    },
    {
     "name": "stdout",
     "output_type": "stream",
     "text": [
      "87/87 [==============================] - 41s 477ms/step - loss: 0.1779 - accuracy: 0.9899 - precision: 0.9663 - recall: 0.9556 - val_loss: 0.2269 - val_accuracy: 0.9602 - val_precision: 0.9333 - val_recall: 0.7000\n",
      "Epoch 38/100\n",
      "87/87 [==============================] - 42s 479ms/step - loss: 0.2165 - accuracy: 0.9856 - precision: 0.9294 - recall: 0.9518 - val_loss: 0.2290 - val_accuracy: 0.9489 - val_precision: 0.9091 - val_recall: 0.7407\n",
      "Epoch 39/100\n",
      "87/87 [==============================] - 43s 496ms/step - loss: 0.2226 - accuracy: 0.9828 - precision: 0.9157 - recall: 0.9383 - val_loss: 0.2704 - val_accuracy: 0.9489 - val_precision: 0.9167 - val_recall: 0.5789\n",
      "Epoch 40/100\n",
      "87/87 [==============================] - 41s 476ms/step - loss: 0.1956 - accuracy: 0.9943 - precision: 0.9756 - recall: 0.9756 - val_loss: 0.2135 - val_accuracy: 0.9602 - val_precision: 0.9231 - val_recall: 0.6667\n",
      "Epoch 41/100\n",
      "87/87 [==============================] - 42s 483ms/step - loss: 0.2583 - accuracy: 0.9799 - precision: 0.9130 - recall: 0.9333 - val_loss: 0.2842 - val_accuracy: 0.9659 - val_precision: 0.8000 - val_recall: 0.8889\n",
      "Epoch 42/100\n",
      "87/87 [==============================] - 41s 470ms/step - loss: 0.2063 - accuracy: 0.9943 - precision: 0.9647 - recall: 0.9880 - val_loss: 0.2957 - val_accuracy: 0.9261 - val_precision: 0.7895 - val_recall: 0.6250\n",
      "Epoch 43/100\n",
      "87/87 [==============================] - 42s 482ms/step - loss: 0.1826 - accuracy: 0.9971 - precision: 0.9877 - recall: 0.9877 - val_loss: 0.2418 - val_accuracy: 0.9716 - val_precision: 0.8333 - val_recall: 0.8824\n",
      "Epoch 00043: early stopping\n"
     ]
    }
   ],
   "source": [
    "with tf.device(\"GPU\"):\n",
    "    model.fit(train_generator,steps_per_epoch=87,epochs=100,validation_data=val_generator,validation_steps=22,callbacks=[cbs],class_weight={0:1,1:2})"
   ]
  },
  {
   "cell_type": "code",
   "execution_count": 136,
   "id": "3f5186f9",
   "metadata": {},
   "outputs": [
    {
     "data": {
      "text/plain": [
       "'1'"
      ]
     },
     "execution_count": 136,
     "metadata": {},
     "output_type": "execute_result"
    }
   ],
   "source": [
    "import os\n",
    "os.environ['CUDA_VISIBLE_DEVICES'] = '1'\n"
   ]
  },
  {
   "cell_type": "code",
   "execution_count": 42,
   "id": "dbf46234",
   "metadata": {},
   "outputs": [],
   "source": [
    "model.save(\"G:\\\\PYTHON\\\\Final year project\\\\Final\\\\covid_image_data\\\\covid_image_data\\\\dense_NET.h5\")"
   ]
  },
  {
   "cell_type": "code",
   "execution_count": 38,
   "id": "79d642e5",
   "metadata": {},
   "outputs": [],
   "source": [
    "preds = model.predict(X_val/255.0)\n",
    "predictions = []\n",
    "for i in preds:\n",
    "    if i[0] > 0.5:\n",
    "        predictions.append(1)\n",
    "    else:\n",
    "        predictions.append(0)"
   ]
  },
  {
   "cell_type": "code",
   "execution_count": 39,
   "id": "1d08a59f",
   "metadata": {},
   "outputs": [
    {
     "name": "stdout",
     "output_type": "stream",
     "text": [
      "0.8433734939759034\n",
      "[[600  15]\n",
      " [ 11  70]]\n"
     ]
    }
   ],
   "source": [
    "from sklearn.metrics import f1_score,confusion_matrix\n",
    "print(f1_score(y_val,predictions))\n",
    "print(confusion_matrix(y_val,predictions))"
   ]
  },
  {
   "cell_type": "code",
   "execution_count": 40,
   "id": "1c35f48f",
   "metadata": {},
   "outputs": [
    {
     "name": "stdout",
     "output_type": "stream",
     "text": [
      "              precision    recall  f1-score   support\n",
      "\n",
      "       COVID       0.98      0.98      0.98       615\n",
      "      Normal       0.82      0.86      0.84        81\n",
      "\n",
      "    accuracy                           0.96       696\n",
      "   macro avg       0.90      0.92      0.91       696\n",
      "weighted avg       0.96      0.96      0.96       696\n",
      "\n"
     ]
    }
   ],
   "source": [
    "from sklearn.metrics import confusion_matrix,classification_report\n",
    "target_names = [\"COVID\",\"Normal\"]\n",
    "print(classification_report(y_val,predictions, target_names=target_names))"
   ]
  },
  {
   "cell_type": "code",
   "execution_count": 41,
   "id": "6026c9fa",
   "metadata": {},
   "outputs": [
    {
     "data": {
      "image/png": "[encoded data removed]",
      "text/plain": [
       "<Figure size 540x540 with 1 Axes>"
      ]
     },
     "metadata": {
      "needs_background": "light"
     },
     "output_type": "display_data"
    }
   ],
   "source": [
    "conf_matrix = confusion_matrix(y_val,predictions)\n",
    "fig, ax = plt.subplots(figsize=(7.5, 7.5))\n",
    "ax.matshow(conf_matrix, cmap=plt.cm.Blues, alpha=0.3)\n",
    "for i in range(conf_matrix.shape[0]):\n",
    "    for j in range(conf_matrix.shape[1]):\n",
    "        ax.text(x=j, y=i,s=conf_matrix[i, j], va='center', ha='center', size='xx-large')\n",
    "\n",
    "plt.xlabel('Predictions', fontsize=18)\n",
    "plt.ylabel('Actuals', fontsize=18)\n",
    "plt.title('Confusion Matrix', fontsize=18)\n",
    "plt.show()"
   ]
  },
  {
   "cell_type": "code",
   "execution_count": 21,
   "id": "a434c197",
   "metadata": {},
   "outputs": [],
   "source": [
    "predictions = []\n",
    "for i in preds:\n",
    "    if i[0] > 0.8:\n",
    "        predictions.append(1)\n",
    "    else:\n",
    "        predictions.append(0)"
   ]
  },
  {
   "cell_type": "code",
   "execution_count": 51,
   "id": "2a4fb393",
   "metadata": {},
   "outputs": [
    {
     "data": {
      "text/plain": [
       "0    837\n",
       "1     33\n",
       "dtype: int64"
      ]
     },
     "execution_count": 51,
     "metadata": {},
     "output_type": "execute_result"
    }
   ],
   "source": [
    "pd.Series(predictions).value_counts()"
   ]
  },
  {
   "cell_type": "code",
   "execution_count": null,
   "id": "18905fc9",
   "metadata": {},
   "outputs": [],
   "source": [
    "#print(\"Confidence : \",round(val[0][0]*100,2),\"%\")\n",
    "#print(val)"
   ]
  },
  {
   "cell_type": "code",
   "execution_count": 53,
   "id": "214b6263",
   "metadata": {},
   "outputs": [
    {
     "data": {
      "text/plain": [
       "prediction\n",
       "0             837\n",
       "1              33\n",
       "dtype: int64"
      ]
     },
     "execution_count": 53,
     "metadata": {},
     "output_type": "execute_result"
    }
   ],
   "source": [
    "result = pd.DataFrame(predictions,columns=['prediction'])\n",
    "\n",
    "result.value_counts()"
   ]
  },
  {
   "cell_type": "code",
   "execution_count": null,
   "id": "df93a8bc",
   "metadata": {},
   "outputs": [],
   "source": []
  },
  {
   "cell_type": "code",
   "execution_count": 1,
   "id": "812b4ea5",
   "metadata": {},
   "outputs": [],
   "source": [
    "from keras.models import load_model\n",
    "model = load_model(\"G:\\\\PYTHON\\\\Final year project\\\\Final\\\\covid_image_data\\\\covid_image_data\\\\dense_NET.h5\",\n",
    "                  )"
   ]
  },
  {
   "cell_type": "code",
   "execution_count": 6,
   "id": "702a1a72",
   "metadata": {},
   "outputs": [
    {
     "data": {
      "image/png": "[encoded data removed]",
      "text/plain": [
       "<Figure size 432x288 with 1 Axes>"
      ]
     },
     "metadata": {
      "needs_background": "light"
     },
     "output_type": "display_data"
    },
    {
     "name": "stdout",
     "output_type": "stream",
     "text": [
      "NORMAL\n"
     ]
    }
   ],
   "source": [
    "%matplotlib inline\n",
    "# get sample image to test.\n",
    "import numpy as np\n",
    "import cv2\n",
    "import matplotlib.pyplot as plt\n",
    "\n",
    "img_covid = 'G:\\\\PYTHON\\\\Final year project\\\\Dataset\\\\COVID-19_Radiography_Dataset\\\\COVID\\\\COVID-145.png'\n",
    "img_normal = 'G:\\\\PYTHON\\\\Final year project\\\\Dataset\\\\COVID-19_Radiography_Dataset\\\\Normal\\\\Normal-111.png'\n",
    "\n",
    "\n",
    "img_array = cv2.imread(img_normal)\n",
    "plt.imshow(img_array)\n",
    "#plt.imshow(image)\n",
    "plt.show()\n",
    "new_img_array = cv2.resize(img_array, (128, 128))\n",
    "dt = []\n",
    "dt.append(new_img_array)\n",
    "X = np.array(dt)\n",
    "X = X/255\n",
    "val = model.predict(X)\n",
    "\n",
    "if val > 0.5:\n",
    "    print(\"COVID\")\n",
    "else:\n",
    "    print(\"NORMAL\")"
   ]
  },
  {
   "cell_type": "code",
   "execution_count": null,
   "id": "6dfb9f02",
   "metadata": {},
   "outputs": [],
   "source": []
  }
 ],
 "metadata": {
  "kernelspec": {
   "display_name": "gputest",
   "language": "python",
   "name": "gputest"
  },
  "language_info": {
   "codemirror_mode": {
    "name": "ipython",
    "version": 3
   },
   "file_extension": ".py",
   "mimetype": "text/x-python",
   "name": "python",
   "nbconvert_exporter": "python",
   "pygments_lexer": "ipython3",
   "version": "3.6.13"
  }
 },
 "nbformat": 4,
 "nbformat_minor": 5
}

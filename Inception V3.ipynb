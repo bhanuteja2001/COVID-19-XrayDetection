{
 "cells": [
  {
   "cell_type": "code",
   "execution_count": 1,
   "id": "e3717519",
   "metadata": {},
   "outputs": [],
   "source": [
    "import pandas as pd # Data analysis and manipultion tool\n",
    "import numpy as np # Fundamental package for linear algebra and multidimensional arrays\n",
    "import tensorflow as tf # Deep Learning Tool\n",
    "import os # OS module in Python provides a way of using operating system dependent functionality\n",
    "import cv2 # Library for image processing\n",
    "from sklearn.model_selection import train_test_split # For splitting the data into train and validation set\n",
    "from sklearn.metrics import f1_score\n",
    "import matplotlib.pyplot as plt\n",
    "import seaborn as sns"
   ]
  },
  {
   "cell_type": "code",
   "execution_count": 2,
   "id": "8b8b084c",
   "metadata": {},
   "outputs": [],
   "source": [
    "from imutils import build_montages\n",
    "from imutils import paths\n",
    "import random\n",
    "import cv2"
   ]
  },
  {
   "cell_type": "code",
   "execution_count": 3,
   "id": "031389d0",
   "metadata": {},
   "outputs": [],
   "source": [
    "imagePaths = list(paths.list_images(\"G:\\PYTHON\\Final year project\\Final\\covid_image_data\\covid_image_data\\train\"))\n",
    "random.shuffle(imagePaths)\n",
    "imagePaths = imagePaths[:21]"
   ]
  },
  {
   "cell_type": "code",
   "execution_count": 4,
   "id": "178128f7",
   "metadata": {},
   "outputs": [],
   "source": [
    "# initialize the list of images\n",
    "images = []\n",
    "# loop over the list of image paths\n",
    "for imagePath in imagePaths:\n",
    "    image = cv2.imread(imagePath)\n",
    "    images.append(image)\n",
    "# load the image and update the list of images\n",
    "# construct the montages for the images\n",
    "montages = build_montages(images, (128, 196), (7, 3))"
   ]
  },
  {
   "cell_type": "code",
   "execution_count": 5,
   "id": "2671442f",
   "metadata": {},
   "outputs": [
    {
     "name": "stdout",
     "output_type": "stream",
     "text": [
      "Number of labels i.e.  3479 matches the number of filenames i.e.  3479\n"
     ]
    },
    {
     "data": {
      "text/html": [
       "<div>\n",
       "<style scoped>\n",
       "    .dataframe tbody tr th:only-of-type {\n",
       "        vertical-align: middle;\n",
       "    }\n",
       "\n",
       "    .dataframe tbody tr th {\n",
       "        vertical-align: top;\n",
       "    }\n",
       "\n",
       "    .dataframe thead th {\n",
       "        text-align: right;\n",
       "    }\n",
       "</style>\n",
       "<table border=\"1\" class=\"dataframe\">\n",
       "  <thead>\n",
       "    <tr style=\"text-align: right;\">\n",
       "      <th></th>\n",
       "      <th>filename</th>\n",
       "      <th>filepaths</th>\n",
       "      <th>label</th>\n",
       "    </tr>\n",
       "  </thead>\n",
       "  <tbody>\n",
       "    <tr>\n",
       "      <th>0</th>\n",
       "      <td>Image_1.jpg</td>\n",
       "      <td>G:/PYTHON/Final year project/Final/covid_image...</td>\n",
       "      <td>1</td>\n",
       "    </tr>\n",
       "    <tr>\n",
       "      <th>1</th>\n",
       "      <td>Image_2.jpg</td>\n",
       "      <td>G:/PYTHON/Final year project/Final/covid_image...</td>\n",
       "      <td>0</td>\n",
       "    </tr>\n",
       "    <tr>\n",
       "      <th>2</th>\n",
       "      <td>Image_3.jpg</td>\n",
       "      <td>G:/PYTHON/Final year project/Final/covid_image...</td>\n",
       "      <td>0</td>\n",
       "    </tr>\n",
       "    <tr>\n",
       "      <th>3</th>\n",
       "      <td>Image_4.jpg</td>\n",
       "      <td>G:/PYTHON/Final year project/Final/covid_image...</td>\n",
       "      <td>0</td>\n",
       "    </tr>\n",
       "    <tr>\n",
       "      <th>4</th>\n",
       "      <td>Image_5.jpg</td>\n",
       "      <td>G:/PYTHON/Final year project/Final/covid_image...</td>\n",
       "      <td>0</td>\n",
       "    </tr>\n",
       "  </tbody>\n",
       "</table>\n",
       "</div>"
      ],
      "text/plain": [
       "      filename                                          filepaths  label\n",
       "0  Image_1.jpg  G:/PYTHON/Final year project/Final/covid_image...      1\n",
       "1  Image_2.jpg  G:/PYTHON/Final year project/Final/covid_image...      0\n",
       "2  Image_3.jpg  G:/PYTHON/Final year project/Final/covid_image...      0\n",
       "3  Image_4.jpg  G:/PYTHON/Final year project/Final/covid_image...      0\n",
       "4  Image_5.jpg  G:/PYTHON/Final year project/Final/covid_image...      0"
      ]
     },
     "execution_count": 5,
     "metadata": {},
     "output_type": "execute_result"
    }
   ],
   "source": [
    "labels = pd.read_csv(\"G:\\PYTHON\\Final year project\\Final\\covid_image_data\\covid_image_data\\Training_set_covid.csv\")\n",
    "\n",
    "labels.head()\n",
    "file_paths = [[fname, 'G:/PYTHON/Final year project/Final/covid_image_data/covid_image_data/train/' + fname] for fname in labels['filename']]\n",
    "\n",
    "if len(labels) == len(file_paths):\n",
    "    print('Number of labels i.e. ', len(labels), 'matches the number of filenames i.e. ', len(file_paths))\n",
    "else:\n",
    "    print('Number of labels does not match the number of filenames')\n",
    "\n",
    "images = pd.DataFrame(file_paths, columns=['filename', 'filepaths'])\n",
    "images.head()\n",
    "\n",
    "\n",
    "train_data = pd.merge(images, labels, how = 'inner', on = 'filename')\n",
    "train_data.head()"
   ]
  },
  {
   "cell_type": "code",
   "execution_count": 6,
   "id": "dce5b8fa",
   "metadata": {},
   "outputs": [
    {
     "data": {
      "text/html": [
       "<div>\n",
       "<style scoped>\n",
       "    .dataframe tbody tr th:only-of-type {\n",
       "        vertical-align: middle;\n",
       "    }\n",
       "\n",
       "    .dataframe tbody tr th {\n",
       "        vertical-align: top;\n",
       "    }\n",
       "\n",
       "    .dataframe thead th {\n",
       "        text-align: right;\n",
       "    }\n",
       "</style>\n",
       "<table border=\"1\" class=\"dataframe\">\n",
       "  <thead>\n",
       "    <tr style=\"text-align: right;\">\n",
       "      <th></th>\n",
       "      <th>filename</th>\n",
       "      <th>filepaths</th>\n",
       "    </tr>\n",
       "  </thead>\n",
       "  <tbody>\n",
       "    <tr>\n",
       "      <th>0</th>\n",
       "      <td>Image_1.jpg</td>\n",
       "      <td>G:/PYTHON/Final year project/Final/covid_image...</td>\n",
       "    </tr>\n",
       "    <tr>\n",
       "      <th>1</th>\n",
       "      <td>Image_2.jpg</td>\n",
       "      <td>G:/PYTHON/Final year project/Final/covid_image...</td>\n",
       "    </tr>\n",
       "    <tr>\n",
       "      <th>2</th>\n",
       "      <td>Image_3.jpg</td>\n",
       "      <td>G:/PYTHON/Final year project/Final/covid_image...</td>\n",
       "    </tr>\n",
       "    <tr>\n",
       "      <th>3</th>\n",
       "      <td>Image_4.jpg</td>\n",
       "      <td>G:/PYTHON/Final year project/Final/covid_image...</td>\n",
       "    </tr>\n",
       "    <tr>\n",
       "      <th>4</th>\n",
       "      <td>Image_5.jpg</td>\n",
       "      <td>G:/PYTHON/Final year project/Final/covid_image...</td>\n",
       "    </tr>\n",
       "  </tbody>\n",
       "</table>\n",
       "</div>"
      ],
      "text/plain": [
       "      filename                                          filepaths\n",
       "0  Image_1.jpg  G:/PYTHON/Final year project/Final/covid_image...\n",
       "1  Image_2.jpg  G:/PYTHON/Final year project/Final/covid_image...\n",
       "2  Image_3.jpg  G:/PYTHON/Final year project/Final/covid_image...\n",
       "3  Image_4.jpg  G:/PYTHON/Final year project/Final/covid_image...\n",
       "4  Image_5.jpg  G:/PYTHON/Final year project/Final/covid_image..."
      ]
     },
     "execution_count": 6,
     "metadata": {},
     "output_type": "execute_result"
    }
   ],
   "source": [
    "test_image_order = pd.read_csv(\"G:\\PYTHON\\Final year project\\Final\\covid_image_data\\covid_image_data\\Testing_set_covid.csv\")\n",
    "test_image_order.head()\n",
    "\n",
    "file_paths_test = [[fname, 'G:/PYTHON/Final year project/Final/covid_image_data/covid_image_data/test/' + fname] for fname in test_image_order['filename']]\n",
    "\n",
    "test_images = pd.DataFrame(file_paths_test, columns=['filename', 'filepaths'])\n",
    "test_images.head()"
   ]
  },
  {
   "cell_type": "code",
   "execution_count": 7,
   "id": "6171bceb",
   "metadata": {},
   "outputs": [],
   "source": [
    "data = []\n",
    "image_size = 224\n",
    "test_pixel_data = []\n",
    "import matplotlib.pyplot as plt\n",
    "\n",
    "for i in range(len(train_data)):\n",
    "    img_array = plt.imread(train_data['filepaths'][i], cv2.COLOR_BGR2RGB)\n",
    "\n",
    "    new_img_array = cv2.resize(img_array, (image_size, image_size))\n",
    "    #new_img_array = cv2.GaussianBlur(new_img_array,(5,5),0)\n",
    "    data.append([new_img_array, train_data['label'][i]])\n"
   ]
  },
  {
   "cell_type": "code",
   "execution_count": 8,
   "id": "5e87eeda",
   "metadata": {},
   "outputs": [],
   "source": [
    "for i in range(len(test_images)):\n",
    "    img_array = cv2.imread(test_images['filepaths'][i], cv2.COLOR_BGR2RGB)\n",
    "    if img_array is None:\n",
    "        print('Wrong path:', test_images['filepaths'][i])\n",
    "    new_img_array = cv2.resize(img_array, (image_size, image_size))\n",
    "    #new_img_array = cv2.GaussianBlur(new_img_array,(5,5),0)\n",
    "    test_pixel_data.append(new_img_array)"
   ]
  },
  {
   "cell_type": "code",
   "execution_count": 9,
   "id": "a87ebedd",
   "metadata": {},
   "outputs": [],
   "source": [
    "np.random.shuffle(data)"
   ]
  },
  {
   "cell_type": "code",
   "execution_count": 10,
   "id": "daa264f4",
   "metadata": {},
   "outputs": [],
   "source": [
    "x = []\n",
    "y = []\n",
    "\n",
    "counter = 406\n",
    "\n",
    "for image in data:\n",
    "    x.append(image[0])\n",
    "    y.append(image[1])\n",
    "\n",
    "# converting x & y to numpy array as they are list\n",
    "x = np.array(x)\n",
    "y = np.array(y)"
   ]
  },
  {
   "cell_type": "code",
   "execution_count": 11,
   "id": "5216b103",
   "metadata": {},
   "outputs": [
    {
     "data": {
      "text/plain": [
       "(array([0, 1], dtype=int64), array([3073,  406], dtype=int64))"
      ]
     },
     "execution_count": 11,
     "metadata": {},
     "output_type": "execute_result"
    }
   ],
   "source": [
    "np.unique(y, return_counts=True)"
   ]
  },
  {
   "cell_type": "code",
   "execution_count": 12,
   "id": "9f912600",
   "metadata": {},
   "outputs": [
    {
     "data": {
      "text/plain": [
       "0    3073\n",
       "1     406\n",
       "dtype: int64"
      ]
     },
     "execution_count": 12,
     "metadata": {},
     "output_type": "execute_result"
    }
   ],
   "source": [
    "pd.Series(y).value_counts()"
   ]
  },
  {
   "cell_type": "code",
   "execution_count": 13,
   "id": "c7596759",
   "metadata": {},
   "outputs": [],
   "source": [
    "X_train, X_val, y_train, y_val = train_test_split(x,y,test_size=0.2, random_state = 42,stratify=y)"
   ]
  },
  {
   "cell_type": "code",
   "execution_count": 14,
   "id": "ce6f0a88",
   "metadata": {},
   "outputs": [
    {
     "name": "stdout",
     "output_type": "stream",
     "text": [
      "(2783, 224, 224, 3) (696, 224, 224, 3) (870, 224, 224, 3)\n"
     ]
    }
   ],
   "source": [
    "test_pixel_data = np.array(test_pixel_data)\n",
    "\n",
    "test_pixel_data = test_pixel_data/255\n",
    "\n",
    "print(X_train.shape,X_val.shape,test_pixel_data.shape)"
   ]
  },
  {
   "cell_type": "code",
   "execution_count": 15,
   "id": "397c62fc",
   "metadata": {},
   "outputs": [],
   "source": [
    "train_datagen = tf.keras.preprocessing.image.ImageDataGenerator(rescale=1.0/255.0)\n",
    "\n",
    "val_datagen = tf.keras.preprocessing.image.ImageDataGenerator(rescale=1.0/255.0)\n",
    "\n",
    "train_generator = train_datagen.flow(X_train,y_train,batch_size=8)\n",
    "\n",
    "val_generator = val_datagen.flow(X_val,y_val,batch_size=8)"
   ]
  },
  {
   "cell_type": "code",
   "execution_count": 16,
   "id": "36e5477f",
   "metadata": {},
   "outputs": [
    {
     "data": {
      "text/plain": [
       "0    0.883621\n",
       "1    0.116379\n",
       "dtype: float64"
      ]
     },
     "execution_count": 16,
     "metadata": {},
     "output_type": "execute_result"
    }
   ],
   "source": [
    "pd.Series(y_val).value_counts(normalize=True)"
   ]
  },
  {
   "cell_type": "code",
   "execution_count": 17,
   "id": "72c73e89",
   "metadata": {},
   "outputs": [
    {
     "name": "stdout",
     "output_type": "stream",
     "text": [
      "(2783, 224, 224, 3) (696, 224, 224, 3)\n"
     ]
    }
   ],
   "source": [
    "print(X_train.shape,X_val.shape)"
   ]
  },
  {
   "cell_type": "code",
   "execution_count": 5,
   "id": "f79b01da",
   "metadata": {},
   "outputs": [],
   "source": [
    "import keras.backend as K\n",
    "\n",
    "def get_f1(y_true, y_pred): #taken from old keras source code\n",
    "    true_positives = K.sum(K.round(K.clip(y_true * y_pred, 0, 1)))\n",
    "    possible_positives = K.sum(K.round(K.clip(y_true, 0, 1)))\n",
    "    predicted_positives = K.sum(K.round(K.clip(y_pred, 0, 1)))\n",
    "    precision = true_positives / (predicted_positives + K.epsilon())\n",
    "    recall = true_positives / (possible_positives + K.epsilon())\n",
    "    f1_val = 2*(precision*recall)/(precision+recall+K.epsilon())\n",
    "    return f1_val"
   ]
  },
  {
   "cell_type": "code",
   "execution_count": 18,
   "id": "12d6dd74",
   "metadata": {},
   "outputs": [],
   "source": [
    "cbs = [tf.keras.callbacks.ReduceLROnPlateau(monitor='val_loss', factor=0.5, patience=1, min_lr=1e-5, verbose=0),\n",
    "tf.keras.callbacks.EarlyStopping(monitor='val_loss', min_delta=1e-6, patience=10, verbose=1, mode='auto')]"
   ]
  },
  {
   "cell_type": "code",
   "execution_count": 20,
   "id": "4b90b5f1",
   "metadata": {},
   "outputs": [],
   "source": [
    "from tensorflow.keras.applications import VGG16,InceptionV3,NASNetMobile,DenseNet201\n",
    "from keras.layers import *\n",
    "from keras.models import Sequential\n",
    "from keras.regularizers import *\n",
    "from tensorflow.keras.optimizers import Adam"
   ]
  },
  {
   "cell_type": "code",
   "execution_count": 21,
   "id": "0e062b68",
   "metadata": {},
   "outputs": [],
   "source": [
    "def build_model():\n",
    "    model = Sequential()\n",
    "\n",
    "    conv_base = InceptionV3(input_shape=(224,224,3), include_top=False, pooling='max',weights='imagenet')\n",
    "    model.add(conv_base)\n",
    "    model.add(BatchNormalization())\n",
    "    model.add(Dense(2048, activation='relu', kernel_regularizer=l1_l2(0.01)))\n",
    "    model.add(BatchNormalization())\n",
    "  # model.add(Dense(2048, activation='relu', kernel_regularizer=l1_l2(0.01)))\n",
    "  # model.add(BatchNormalization())\n",
    "  # model.add(Dense(2048, activation='relu', kernel_regularizer=l1_l2(0.01)))\n",
    "  # model.add(BatchNormalization())\n",
    "  # model.add(Dense(1024, activation='relu', kernel_regularizer=l1_l2(0.01)))\n",
    "  # model.add(BatchNormalization())\n",
    "    model.add(Dense(1, activation='sigmoid'))\n",
    "    for layer in model.layers:\n",
    "        layer.trainable = True\n",
    " \n",
    "    model.compile(loss='binary_crossentropy', optimizer=Adam(lr=1e-4), metrics=['accuracy',\"Precision\",\"Recall\"])\n",
    "\n",
    "    return model"
   ]
  },
  {
   "cell_type": "code",
   "execution_count": null,
   "id": "656156f9",
   "metadata": {},
   "outputs": [],
   "source": []
  },
  {
   "cell_type": "code",
   "execution_count": 22,
   "id": "38e74ef0",
   "metadata": {},
   "outputs": [
    {
     "name": "stdout",
     "output_type": "stream",
     "text": [
      "Model: \"sequential\"\n",
      "_________________________________________________________________\n",
      "Layer (type)                 Output Shape              Param #   \n",
      "=================================================================\n",
      "inception_v3 (Functional)    (None, 2048)              21802784  \n",
      "_________________________________________________________________\n",
      "batch_normalization_94 (Batc (None, 2048)              8192      \n",
      "_________________________________________________________________\n",
      "dense (Dense)                (None, 2048)              4196352   \n",
      "_________________________________________________________________\n",
      "batch_normalization_95 (Batc (None, 2048)              8192      \n",
      "_________________________________________________________________\n",
      "dense_1 (Dense)              (None, 1)                 2049      \n",
      "=================================================================\n",
      "Total params: 26,017,569\n",
      "Trainable params: 25,974,945\n",
      "Non-trainable params: 42,624\n",
      "_________________________________________________________________\n"
     ]
    },
    {
     "name": "stderr",
     "output_type": "stream",
     "text": [
      "C:\\Users\\Charan Chandra\\anaconda3\\envs\\gputest\\lib\\site-packages\\keras\\optimizer_v2\\optimizer_v2.py:356: UserWarning: The `lr` argument is deprecated, use `learning_rate` instead.\n",
      "  \"The `lr` argument is deprecated, use `learning_rate` instead.\")\n"
     ]
    }
   ],
   "source": [
    "model = build_model()\n",
    "model.summary()"
   ]
  },
  {
   "cell_type": "code",
   "execution_count": 23,
   "id": "b7c8111d",
   "metadata": {},
   "outputs": [],
   "source": [
    "from tensorflow.python.keras.callbacks import TensorBoard\n",
    "from time import time\n",
    "Tensorboard = TensorBoard(log_dir=\"G:\\\\PYTHON\\\\Final year project\\\\Final\\\\covid_image_data\\\\covid_image_data\\\\weights\\\\{}\".format(time()))"
   ]
  },
  {
   "cell_type": "code",
   "execution_count": 24,
   "id": "55cfd5de",
   "metadata": {},
   "outputs": [
    {
     "name": "stdout",
     "output_type": "stream",
     "text": [
      "Epoch 1/100\n",
      "87/87 [==============================] - 50s 305ms/step - loss: 678.1524 - accuracy: 0.6307 - precision: 0.2020 - recall: 0.7922 - val_loss: 540.3730 - val_accuracy: 0.7216 - val_precision: 0.2000 - val_recall: 0.6875\n",
      "Epoch 2/100\n",
      "87/87 [==============================] - 27s 313ms/step - loss: 429.2823 - accuracy: 0.7209 - precision: 0.2583 - recall: 0.7949 - val_loss: 327.7918 - val_accuracy: 0.4489 - val_precision: 0.1579 - val_recall: 0.9474\n",
      "Epoch 3/100\n",
      "87/87 [==============================] - 22s 249ms/step - loss: 249.4298 - accuracy: 0.7511 - precision: 0.3160 - recall: 0.8295 - val_loss: 180.5670 - val_accuracy: 0.6364 - val_precision: 0.2651 - val_recall: 0.8800\n",
      "Epoch 4/100\n",
      "87/87 [==============================] - 22s 250ms/step - loss: 131.7677 - accuracy: 0.7615 - precision: 0.2913 - recall: 0.7500 - val_loss: 90.9332 - val_accuracy: 0.8523 - val_precision: 0.4474 - val_recall: 0.7727\n",
      "Epoch 5/100\n",
      "87/87 [==============================] - 20s 233ms/step - loss: 64.7350 - accuracy: 0.8218 - precision: 0.4064 - recall: 0.8539 - val_loss: 45.1708 - val_accuracy: 0.8580 - val_precision: 0.4737 - val_recall: 0.7826\n",
      "Epoch 6/100\n",
      "87/87 [==============================] - 21s 247ms/step - loss: 32.4650 - accuracy: 0.7730 - precision: 0.3502 - recall: 0.8172 - val_loss: 22.3868 - val_accuracy: 0.7841 - val_precision: 0.3529 - val_recall: 0.7826\n",
      "Epoch 7/100\n",
      "87/87 [==============================] - 21s 245ms/step - loss: 15.7400 - accuracy: 0.8175 - precision: 0.3925 - recall: 0.8391 - val_loss: 11.5136 - val_accuracy: 0.9432 - val_precision: 0.7857 - val_recall: 0.6111\n",
      "Epoch 8/100\n",
      "87/87 [==============================] - 22s 256ms/step - loss: 9.1913 - accuracy: 0.8089 - precision: 0.3352 - recall: 0.8108 - val_loss: 5.7585 - val_accuracy: 0.8295 - val_precision: 0.4048 - val_recall: 0.7727\n",
      "Epoch 9/100\n",
      "87/87 [==============================] - 20s 228ms/step - loss: 7.1571 - accuracy: 0.8362 - precision: 0.4491 - recall: 0.7732 - val_loss: 4.6345 - val_accuracy: 0.8068 - val_precision: 0.2143 - val_recall: 0.9000\n",
      "Epoch 10/100\n",
      "87/87 [==============================] - 23s 261ms/step - loss: 5.0102 - accuracy: 0.8549 - precision: 0.4444 - recall: 0.8095 - val_loss: 3.8858 - val_accuracy: 0.9716 - val_precision: 0.9500 - val_recall: 0.8261\n",
      "Epoch 11/100\n",
      "87/87 [==============================] - 22s 254ms/step - loss: 4.8060 - accuracy: 0.8750 - precision: 0.4769 - recall: 0.7654 - val_loss: 4.9257 - val_accuracy: 0.5966 - val_precision: 0.2360 - val_recall: 0.8750\n",
      "Epoch 12/100\n",
      "87/87 [==============================] - 23s 264ms/step - loss: 3.1664 - accuracy: 0.8822 - precision: 0.5000 - recall: 0.7805 - val_loss: 3.2168 - val_accuracy: 0.6534 - val_precision: 0.2208 - val_recall: 0.9444\n",
      "Epoch 13/100\n",
      "87/87 [==============================] - 22s 253ms/step - loss: 2.6179 - accuracy: 0.8807 - precision: 0.4928 - recall: 0.8395 - val_loss: 3.0006 - val_accuracy: 0.4489 - val_precision: 0.1389 - val_recall: 0.7895\n",
      "Epoch 14/100\n",
      "87/87 [==============================] - 22s 255ms/step - loss: 2.3979 - accuracy: 0.8951 - precision: 0.5041 - recall: 0.8243 - val_loss: 1.8216 - val_accuracy: 0.9545 - val_precision: 0.9286 - val_recall: 0.6500\n",
      "Epoch 15/100\n",
      "87/87 [==============================] - 22s 251ms/step - loss: 2.0781 - accuracy: 0.8894 - precision: 0.5655 - recall: 0.8542 - val_loss: 4.8368 - val_accuracy: 0.5284 - val_precision: 0.1800 - val_recall: 0.9474\n",
      "Epoch 16/100\n",
      "87/87 [==============================] - 22s 256ms/step - loss: 1.7375 - accuracy: 0.9095 - precision: 0.6167 - recall: 0.8132 - val_loss: 2.7533 - val_accuracy: 0.6477 - val_precision: 0.2530 - val_recall: 1.0000\n",
      "Epoch 17/100\n",
      "87/87 [==============================] - 23s 264ms/step - loss: 1.1665 - accuracy: 0.9368 - precision: 0.6857 - recall: 0.8675 - val_loss: 0.5429 - val_accuracy: 0.9773 - val_precision: 0.9545 - val_recall: 0.8750\n",
      "Epoch 18/100\n",
      "87/87 [==============================] - 22s 255ms/step - loss: 0.7074 - accuracy: 0.9325 - precision: 0.6783 - recall: 0.8864 - val_loss: 0.5745 - val_accuracy: 0.9886 - val_precision: 0.9444 - val_recall: 0.9444\n",
      "Epoch 19/100\n",
      "87/87 [==============================] - 22s 259ms/step - loss: 0.7254 - accuracy: 0.9194 - precision: 0.6306 - recall: 0.8235 - val_loss: 0.4581 - val_accuracy: 0.9602 - val_precision: 0.8095 - val_recall: 0.8500\n",
      "Epoch 20/100\n",
      "87/87 [==============================] - 23s 260ms/step - loss: 0.5394 - accuracy: 0.9468 - precision: 0.7434 - recall: 0.9130 - val_loss: 0.5995 - val_accuracy: 0.9261 - val_precision: 0.7188 - val_recall: 0.8519\n",
      "Epoch 21/100\n",
      "87/87 [==============================] - 23s 268ms/step - loss: 0.4479 - accuracy: 0.9655 - precision: 0.7831 - recall: 0.9155 - val_loss: 0.3190 - val_accuracy: 0.9659 - val_precision: 0.8636 - val_recall: 0.8636\n",
      "Epoch 22/100\n",
      "87/87 [==============================] - 22s 250ms/step - loss: 0.4308 - accuracy: 0.9626 - precision: 0.8043 - recall: 0.9024 - val_loss: 0.5570 - val_accuracy: 0.9432 - val_precision: 0.7714 - val_recall: 0.9310\n",
      "Epoch 23/100\n",
      "87/87 [==============================] - 22s 255ms/step - loss: 0.3901 - accuracy: 0.9698 - precision: 0.8072 - recall: 0.9306 - val_loss: 0.2702 - val_accuracy: 0.9773 - val_precision: 0.8889 - val_recall: 0.8889\n",
      "Epoch 24/100\n",
      "87/87 [==============================] - 22s 255ms/step - loss: 0.4366 - accuracy: 0.9382 - precision: 0.7027 - recall: 0.8864 - val_loss: 0.3728 - val_accuracy: 0.9716 - val_precision: 0.8462 - val_recall: 0.7857\n",
      "Epoch 25/100\n",
      "87/87 [==============================] - 23s 262ms/step - loss: 0.3888 - accuracy: 0.9713 - precision: 0.8587 - recall: 0.9186 - val_loss: 0.4560 - val_accuracy: 0.9602 - val_precision: 1.0000 - val_recall: 0.7308\n",
      "Epoch 26/100\n",
      "87/87 [==============================] - 22s 256ms/step - loss: 0.3794 - accuracy: 0.9756 - precision: 0.8706 - recall: 0.9250 - val_loss: 0.3922 - val_accuracy: 0.9545 - val_precision: 0.7742 - val_recall: 0.9600\n",
      "Epoch 27/100\n",
      "87/87 [==============================] - 23s 267ms/step - loss: 0.3796 - accuracy: 0.9641 - precision: 0.8046 - recall: 0.8974 - val_loss: 0.4232 - val_accuracy: 0.9318 - val_precision: 0.6522 - val_recall: 0.7895\n",
      "Epoch 28/100\n",
      "87/87 [==============================] - 24s 271ms/step - loss: 0.3656 - accuracy: 0.9698 - precision: 0.8485 - recall: 0.9333 - val_loss: 0.4656 - val_accuracy: 0.9261 - val_precision: 0.6667 - val_recall: 0.9600\n",
      "Epoch 29/100\n",
      "87/87 [==============================] - 23s 264ms/step - loss: 0.3495 - accuracy: 0.9713 - precision: 0.8312 - recall: 0.9014 - val_loss: 0.4216 - val_accuracy: 0.9602 - val_precision: 0.8333 - val_recall: 0.9259\n",
      "Epoch 30/100\n",
      "87/87 [==============================] - 23s 265ms/step - loss: 0.3388 - accuracy: 0.9799 - precision: 0.8810 - recall: 0.9487 - val_loss: 0.2838 - val_accuracy: 0.9716 - val_precision: 0.8276 - val_recall: 1.0000\n",
      "Epoch 31/100\n",
      "87/87 [==============================] - 23s 262ms/step - loss: 0.3356 - accuracy: 0.9727 - precision: 0.8427 - recall: 0.9375 - val_loss: 0.2795 - val_accuracy: 0.9716 - val_precision: 0.7778 - val_recall: 0.9333\n",
      "Epoch 32/100\n",
      "87/87 [==============================] - 24s 271ms/step - loss: 0.3613 - accuracy: 0.9727 - precision: 0.8588 - recall: 0.9125 - val_loss: 0.3286 - val_accuracy: 0.9545 - val_precision: 0.6957 - val_recall: 0.9412\n",
      "Epoch 33/100\n",
      "87/87 [==============================] - 22s 254ms/step - loss: 0.3054 - accuracy: 0.9712 - precision: 0.8485 - recall: 0.8485 - val_loss: 0.6081 - val_accuracy: 0.8750 - val_precision: 0.5532 - val_recall: 0.9630\n",
      "Epoch 00033: early stopping\n",
      "14min 8s ± 0 ns per loop (mean ± std. dev. of 1 run, 1 loop each)\n"
     ]
    }
   ],
   "source": [
    "%%timeit -n1 -r1 \n",
    "with tf.device(\"GPU\"):\n",
    "    model.fit(train_generator,steps_per_epoch=87,epochs=100,validation_data=val_generator,validation_steps=22,callbacks=[cbs,Tensorboard],class_weight={0:1,1:2})"
   ]
  },
  {
   "cell_type": "code",
   "execution_count": 136,
   "id": "3f5186f9",
   "metadata": {},
   "outputs": [
    {
     "data": {
      "text/plain": [
       "'1'"
      ]
     },
     "execution_count": 136,
     "metadata": {},
     "output_type": "execute_result"
    }
   ],
   "source": [
    "import os\n",
    "os.environ['CUDA_VISIBLE_DEVICES'] = '1'\n"
   ]
  },
  {
   "cell_type": "code",
   "execution_count": 29,
   "id": "dbf46234",
   "metadata": {},
   "outputs": [],
   "source": [
    "model.save(\"G:\\\\PYTHON\\\\Final year project\\\\Final\\\\covid_image_data\\\\covid_image_data\\\\incpetion_v3.h5\")"
   ]
  },
  {
   "cell_type": "code",
   "execution_count": 25,
   "id": "79d642e5",
   "metadata": {},
   "outputs": [],
   "source": [
    "preds = model.predict(X_val/255.0)\n",
    "predictions = []\n",
    "for i in preds:\n",
    "    if i[0] > 0.5:\n",
    "        predictions.append(1)\n",
    "    else:\n",
    "        predictions.append(0)"
   ]
  },
  {
   "cell_type": "code",
   "execution_count": 26,
   "id": "1d08a59f",
   "metadata": {},
   "outputs": [
    {
     "name": "stdout",
     "output_type": "stream",
     "text": [
      "0.6872246696035242\n",
      "[[547  68]\n",
      " [  3  78]]\n"
     ]
    }
   ],
   "source": [
    "from sklearn.metrics import f1_score,confusion_matrix\n",
    "print(f1_score(y_val,predictions))\n",
    "print(confusion_matrix(y_val,predictions))"
   ]
  },
  {
   "cell_type": "code",
   "execution_count": 27,
   "id": "1c35f48f",
   "metadata": {},
   "outputs": [
    {
     "name": "stdout",
     "output_type": "stream",
     "text": [
      "              precision    recall  f1-score   support\n",
      "\n",
      "       COVID       0.99      0.89      0.94       615\n",
      "      Normal       0.53      0.96      0.69        81\n",
      "\n",
      "    accuracy                           0.90       696\n",
      "   macro avg       0.76      0.93      0.81       696\n",
      "weighted avg       0.94      0.90      0.91       696\n",
      "\n"
     ]
    }
   ],
   "source": [
    "from sklearn.metrics import confusion_matrix,classification_report\n",
    "target_names = [\"COVID\",\"Normal\"]\n",
    "print(classification_report(y_val,predictions, target_names=target_names))"
   ]
  },
  {
   "cell_type": "code",
   "execution_count": 28,
   "id": "6026c9fa",
   "metadata": {},
   "outputs": [
    {
     "data": {
      "image/png": "[encoded data removed]",
      "text/plain": [
       "<Figure size 540x540 with 1 Axes>"
      ]
     },
     "metadata": {
      "needs_background": "light"
     },
     "output_type": "display_data"
    }
   ],
   "source": [
    "conf_matrix = confusion_matrix(y_val,predictions)\n",
    "fig, ax = plt.subplots(figsize=(7.5, 7.5))\n",
    "ax.matshow(conf_matrix, cmap=plt.cm.Blues, alpha=0.3)\n",
    "for i in range(conf_matrix.shape[0]):\n",
    "    for j in range(conf_matrix.shape[1]):\n",
    "        ax.text(x=j, y=i,s=conf_matrix[i, j], va='center', ha='center', size='xx-large')\n",
    "\n",
    "plt.xlabel('Predictions', fontsize=18)\n",
    "plt.ylabel('Actuals', fontsize=18)\n",
    "plt.title('Confusion Matrix', fontsize=18)\n",
    "plt.show()"
   ]
  },
  {
   "cell_type": "code",
   "execution_count": 21,
   "id": "a434c197",
   "metadata": {},
   "outputs": [],
   "source": [
    "predictions = []\n",
    "for i in preds:\n",
    "    if i[0] > 0.8:\n",
    "        predictions.append(1)\n",
    "    else:\n",
    "        predictions.append(0)"
   ]
  },
  {
   "cell_type": "code",
   "execution_count": 51,
   "id": "2a4fb393",
   "metadata": {},
   "outputs": [
    {
     "data": {
      "text/plain": [
       "0    837\n",
       "1     33\n",
       "dtype: int64"
      ]
     },
     "execution_count": 51,
     "metadata": {},
     "output_type": "execute_result"
    }
   ],
   "source": [
    "pd.Series(predictions).value_counts()"
   ]
  },
  {
   "cell_type": "code",
   "execution_count": null,
   "id": "18905fc9",
   "metadata": {},
   "outputs": [],
   "source": []
  },
  {
   "cell_type": "code",
   "execution_count": 53,
   "id": "214b6263",
   "metadata": {},
   "outputs": [
    {
     "data": {
      "text/plain": [
       "prediction\n",
       "0             837\n",
       "1              33\n",
       "dtype: int64"
      ]
     },
     "execution_count": 53,
     "metadata": {},
     "output_type": "execute_result"
    }
   ],
   "source": [
    "result = pd.DataFrame(predictions,columns=['prediction'])\n",
    "\n",
    "result.value_counts()"
   ]
  },
  {
   "cell_type": "code",
   "execution_count": null,
   "id": "df93a8bc",
   "metadata": {},
   "outputs": [],
   "source": []
  },
  {
   "cell_type": "code",
   "execution_count": 1,
   "id": "812b4ea5",
   "metadata": {},
   "outputs": [],
   "source": [
    "from keras.models import load_model\n",
    "model = load_model(\"G:\\\\PYTHON\\\\Final year project\\\\Final\\\\covid_image_data\\\\covid_image_data\\\\vgg_16_1.h5\",\n",
    "                  )"
   ]
  },
  {
   "cell_type": "code",
   "execution_count": 2,
   "id": "702a1a72",
   "metadata": {},
   "outputs": [
    {
     "data": {
      "image/png": "[encoded data removed]",
      "text/plain": [
       "<Figure size 432x288 with 1 Axes>"
      ]
     },
     "metadata": {
      "needs_background": "light"
     },
     "output_type": "display_data"
    },
    {
     "name": "stdout",
     "output_type": "stream",
     "text": [
      "COVID\n"
     ]
    }
   ],
   "source": [
    "%matplotlib inline\n",
    "# get sample image to test.\n",
    "import numpy as np\n",
    "import cv2\n",
    "import matplotlib.pyplot as plt\n",
    "\n",
    "img_covid = 'G:\\\\PYTHON\\\\Final year project\\\\Dataset\\\\COVID-19_Radiography_Dataset\\\\COVID\\\\COVID-289.png'\n",
    "img_normal = 'G:\\\\PYTHON\\\\Final year project\\\\Dataset\\\\COVID-19_Radiography_Dataset\\\\Normal\\\\Normal-69.png'\n",
    "\n",
    "\n",
    "img_array = cv2.imread(img_covid)\n",
    "plt.imshow(img_array)\n",
    "#plt.imshow(image)\n",
    "plt.show()\n",
    "new_img_array = cv2.resize(img_array, (224, 224))\n",
    "dt = []\n",
    "dt.append(new_img_array)\n",
    "X = np.array(dt)\n",
    "X = X/255\n",
    "val = model.predict(X)\n",
    "#print(\"Confidence : \",round(val[0][0]*100,2),\"%\")\n",
    "#print(val)\n",
    "if val > 0.5:\n",
    "    print(\"COVID\")\n",
    "else:\n",
    "    print(\"NORMAL\")"
   ]
  },
  {
   "cell_type": "code",
   "execution_count": null,
   "id": "6dfb9f02",
   "metadata": {},
   "outputs": [],
   "source": []
  }
 ],
 "metadata": {
  "kernelspec": {
   "display_name": "gputest",
   "language": "python",
   "name": "gputest"
  },
  "language_info": {
   "codemirror_mode": {
    "name": "ipython",
    "version": 3
   },
   "file_extension": ".py",
   "mimetype": "text/x-python",
   "name": "python",
   "nbconvert_exporter": "python",
   "pygments_lexer": "ipython3",
   "version": "3.6.13"
  }
 },
 "nbformat": 4,
 "nbformat_minor": 5
}

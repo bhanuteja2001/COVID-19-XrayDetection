{
 "cells": [
  {
   "cell_type": "code",
   "execution_count": 1,
   "id": "778c77fe",
   "metadata": {},
   "outputs": [],
   "source": [
    "import tensorflow as tf\n",
    "from keras.models import load_model\n",
    "import numpy as np\n",
    "from keras.preprocessing import image\n",
    "from sklearn.metrics import accuracy_score,r2_score"
   ]
  },
  {
   "cell_type": "code",
   "execution_count": 2,
   "id": "fbbc264f",
   "metadata": {},
   "outputs": [],
   "source": [
    "# 224\n",
    "model_den = load_model(\"G:\\\\PYTHON\\\\Final year project\\\\Final\\\\covid_image_data\\\\covid_image_data\\\\dense_nET_co.h5\") "
   ]
  },
  {
   "cell_type": "code",
   "execution_count": 3,
   "id": "8139501b",
   "metadata": {},
   "outputs": [],
   "source": [
    "# 224\n",
    "model_res = load_model(\"G:\\\\PYTHON\\\\Final year project\\\\Final\\\\covid_image_data\\\\covid_image_data\\\\resnet50.h5\")\n",
    "model_inc = load_model(\"G:\\\\PYTHON\\\\Final year project\\\\Final\\\\covid_image_data\\\\covid_image_data\\\\inception_v3.h5\")\n",
    "model_eff = load_model(\"G:\\\\PYTHON\\\\Final year project\\\\Final\\\\covid_image_data\\\\covid_image_data\\\\efficientnetb0.h5\")\n",
    "model_vg16 = load_model(\"G:\\\\PYTHON\\\\Final year project\\\\Final\\\\covid_image_data\\\\covid_image_data\\\\vgg_16_1.h5\")"
   ]
  },
  {
   "cell_type": "code",
   "execution_count": null,
   "id": "2151dbe9",
   "metadata": {},
   "outputs": [],
   "source": []
  },
  {
   "cell_type": "code",
   "execution_count": null,
   "id": "a41fcb51",
   "metadata": {},
   "outputs": [],
   "source": []
  },
  {
   "cell_type": "code",
   "execution_count": 4,
   "id": "72403cdb",
   "metadata": {},
   "outputs": [],
   "source": [
    "def Img(test):\n",
    "    img = image.load_img(test,target_size=(224,224))\n",
    "    img = np.asarray(img)\n",
    "    img = np.expand_dims(img,axis=0)\n",
    "    img = img/255\n",
    "    return img\n",
    "\n",
    "def Img2(test):\n",
    "    img = image.load_img(test,target_size=(128,128))\n",
    "    img = np.asarray(img)\n",
    "    img = np.expand_dims(img,axis=0)\n",
    "    img = img/255\n",
    "    return img"
   ]
  },
  {
   "cell_type": "code",
   "execution_count": 25,
   "id": "a0a179c4",
   "metadata": {},
   "outputs": [
    {
     "name": "stdout",
     "output_type": "stream",
     "text": [
      "COVID\n",
      "2 Non - COVID\n",
      "COVID\n",
      "COVID\n",
      "COVID\n",
      "COVID\n",
      "7 Non - COVID\n",
      "COVID\n",
      "COVID\n"
     ]
    }
   ],
   "source": [
    "for i in range(1,10):\n",
    "    img_covid = 'G:\\\\PYTHON\\\\Final year project\\\\Dataset\\\\COVID-19_Radiography_Dataset\\\\TEMp\\\\COVID-{}.png'.format(i)\n",
    "\n",
    "    preds = [model_den.predict(Img(img_covid)), model_res.predict(Img(img_covid))]\n",
    "    #print(preds)\n",
    "    weights = [0.5,0.5]\n",
    "    weighted_preds = np.tensordot(preds, weights, axes=((0),(0)))\n",
    "    #print(weighted_preds)\n",
    "    if weighted_preds > 0.5:\n",
    "        print(\"COVID\")\n",
    "    else:\n",
    "        print(i,\"Non - COVID\")"
   ]
  },
  {
   "cell_type": "code",
   "execution_count": 26,
   "id": "0ebd6266",
   "metadata": {},
   "outputs": [
    {
     "name": "stdout",
     "output_type": "stream",
     "text": [
      "COVID\n"
     ]
    }
   ],
   "source": [
    "def Img(test):\n",
    "    img = image.load_img(test,target_size=(224,224))\n",
    "    img = np.asarray(img)\n",
    "    img = np.expand_dims(img,axis=0)\n",
    "    img = img/255\n",
    "    return img\n",
    "\n",
    "#model_den = Dense NET model weights\n",
    "#model_inc = Inception model weights\n",
    "\n",
    "preds = [model_den.predict(Img(img_covid)), model_inc.predict(Img(img_covid))]\n",
    "weights = [0.5,0.5]\n",
    "weighted_preds = np.tensordot(preds, weights, axes=((0),(0)))\n",
    "\n",
    "if weighted_preds > 0.5:\n",
    "    print(\"COVID\")\n",
    "else:\n",
    "    print(i,\"Non - COVID\")"
   ]
  },
  {
   "cell_type": "code",
   "execution_count": 8,
   "id": "d6802cab",
   "metadata": {},
   "outputs": [],
   "source": [
    "def ensemble_model(IMG):\n",
    "    preds = [model_res.predict(Img(img_covid)), model_den.predict(Img2(img_covid))]\n",
    "    weights = [0.5,0.5]\n",
    "    weighted_preds = np.tensordot(preds, weights, axes=((0),(0)))\n",
    "    if weighted_preds > 0.8:\n",
    "        return 1\n",
    "    else:\n",
    "        return 0"
   ]
  },
  {
   "cell_type": "code",
   "execution_count": null,
   "id": "78001822",
   "metadata": {},
   "outputs": [],
   "source": [
    "### WAY FORWARD FOR ENSEMBLE TESTING\n",
    "\n",
    "## 1. FROM TRAIN AND TEST MAKE A VAL DATASET FOR MODEL EVALUATION (COVID : NON-COVID == 45:55)\n",
    "## 2. TRY ENSEMBLING VARIOUS MODELS and check the score\n",
    "## 3. SELECT THE PLAN (PLAN - A)\n",
    "## 4. DENSENET INCEPTION\n",
    "## 5. DENSENET RESNET\n",
    "### Going aheead with DENSENET INCEPTION"
   ]
  },
  {
   "cell_type": "code",
   "execution_count": null,
   "id": "3f8b5b75",
   "metadata": {},
   "outputs": [],
   "source": [
    "from sklearn.metrics import confusion_matrix,classification_report\n",
    "target_names = [\"COVID\",\"Normal\"]\n",
    "print(classification_report(y_val,predictions, target_names=target_names))"
   ]
  }
 ],
 "metadata": {
  "kernelspec": {
   "display_name": "gputest",
   "language": "python",
   "name": "gputest"
  },
  "language_info": {
   "codemirror_mode": {
    "name": "ipython",
    "version": 3
   },
   "file_extension": ".py",
   "mimetype": "text/x-python",
   "name": "python",
   "nbconvert_exporter": "python",
   "pygments_lexer": "ipython3",
   "version": "3.6.13"
  }
 },
 "nbformat": 4,
 "nbformat_minor": 5
}

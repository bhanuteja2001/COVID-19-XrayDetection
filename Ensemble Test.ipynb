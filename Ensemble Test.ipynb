{
 "cells": [
  {
   "cell_type": "code",
   "execution_count": 1,
   "id": "e3717519",
   "metadata": {},
   "outputs": [],
   "source": [
    "import pandas as pd # Data analysis and manipultion tool\n",
    "import numpy as np # Fundamental package for linear algebra and multidimensional arrays\n",
    "import tensorflow as tf # Deep Learning Tool\n",
    "import os # OS module in Python provides a way of using operating system dependent functionality\n",
    "import cv2 # Library for image processing\n",
    "from sklearn.model_selection import train_test_split # For splitting the data into train and validation set\n",
    "from sklearn.metrics import f1_score\n",
    "import matplotlib.pyplot as plt\n",
    "import seaborn as sns"
   ]
  },
  {
   "cell_type": "code",
   "execution_count": 2,
   "id": "8b8b084c",
   "metadata": {},
   "outputs": [],
   "source": [
    "from imutils import build_montages\n",
    "from imutils import paths\n",
    "import random\n",
    "import cv2"
   ]
  },
  {
   "cell_type": "code",
   "execution_count": 3,
   "id": "031389d0",
   "metadata": {},
   "outputs": [],
   "source": [
    "imagePaths = list(paths.list_images(\"G:\\PYTHON\\Final year project\\Final\\covid_image_data\\covid_image_data\\train\"))\n",
    "random.shuffle(imagePaths)\n",
    "imagePaths = imagePaths[:21]"
   ]
  },
  {
   "cell_type": "code",
   "execution_count": 4,
   "id": "178128f7",
   "metadata": {},
   "outputs": [],
   "source": [
    "# initialize the list of images\n",
    "images = []\n",
    "# loop over the list of image paths\n",
    "for imagePath in imagePaths:\n",
    "    image = cv2.imread(imagePath)\n",
    "    images.append(image)\n",
    "# load the image and update the list of images\n",
    "# construct the montages for the images\n",
    "montages = build_montages(images, (128, 196), (7, 3))"
   ]
  },
  {
   "cell_type": "code",
   "execution_count": 5,
   "id": "2671442f",
   "metadata": {},
   "outputs": [
    {
     "name": "stdout",
     "output_type": "stream",
     "text": [
      "Number of labels i.e.  3479 matches the number of filenames i.e.  3479\n"
     ]
    },
    {
     "data": {
      "text/html": [
       "<div>\n",
       "<style scoped>\n",
       "    .dataframe tbody tr th:only-of-type {\n",
       "        vertical-align: middle;\n",
       "    }\n",
       "\n",
       "    .dataframe tbody tr th {\n",
       "        vertical-align: top;\n",
       "    }\n",
       "\n",
       "    .dataframe thead th {\n",
       "        text-align: right;\n",
       "    }\n",
       "</style>\n",
       "<table border=\"1\" class=\"dataframe\">\n",
       "  <thead>\n",
       "    <tr style=\"text-align: right;\">\n",
       "      <th></th>\n",
       "      <th>filename</th>\n",
       "      <th>filepaths</th>\n",
       "      <th>label</th>\n",
       "    </tr>\n",
       "  </thead>\n",
       "  <tbody>\n",
       "    <tr>\n",
       "      <th>0</th>\n",
       "      <td>Image_1.jpg</td>\n",
       "      <td>G:/PYTHON/Final year project/Final/covid_image...</td>\n",
       "      <td>1</td>\n",
       "    </tr>\n",
       "    <tr>\n",
       "      <th>1</th>\n",
       "      <td>Image_2.jpg</td>\n",
       "      <td>G:/PYTHON/Final year project/Final/covid_image...</td>\n",
       "      <td>0</td>\n",
       "    </tr>\n",
       "    <tr>\n",
       "      <th>2</th>\n",
       "      <td>Image_3.jpg</td>\n",
       "      <td>G:/PYTHON/Final year project/Final/covid_image...</td>\n",
       "      <td>0</td>\n",
       "    </tr>\n",
       "    <tr>\n",
       "      <th>3</th>\n",
       "      <td>Image_4.jpg</td>\n",
       "      <td>G:/PYTHON/Final year project/Final/covid_image...</td>\n",
       "      <td>0</td>\n",
       "    </tr>\n",
       "    <tr>\n",
       "      <th>4</th>\n",
       "      <td>Image_5.jpg</td>\n",
       "      <td>G:/PYTHON/Final year project/Final/covid_image...</td>\n",
       "      <td>0</td>\n",
       "    </tr>\n",
       "  </tbody>\n",
       "</table>\n",
       "</div>"
      ],
      "text/plain": [
       "      filename                                          filepaths  label\n",
       "0  Image_1.jpg  G:/PYTHON/Final year project/Final/covid_image...      1\n",
       "1  Image_2.jpg  G:/PYTHON/Final year project/Final/covid_image...      0\n",
       "2  Image_3.jpg  G:/PYTHON/Final year project/Final/covid_image...      0\n",
       "3  Image_4.jpg  G:/PYTHON/Final year project/Final/covid_image...      0\n",
       "4  Image_5.jpg  G:/PYTHON/Final year project/Final/covid_image...      0"
      ]
     },
     "execution_count": 5,
     "metadata": {},
     "output_type": "execute_result"
    }
   ],
   "source": [
    "labels = pd.read_csv(\"G:\\PYTHON\\Final year project\\Final\\covid_image_data\\covid_image_data\\Training_set_covid.csv\")\n",
    "\n",
    "labels.head()\n",
    "file_paths = [[fname, 'G:/PYTHON/Final year project/Final/covid_image_data/covid_image_data/train/' + fname] for fname in labels['filename']]\n",
    "\n",
    "if len(labels) == len(file_paths):\n",
    "    print('Number of labels i.e. ', len(labels), 'matches the number of filenames i.e. ', len(file_paths))\n",
    "else:\n",
    "    print('Number of labels does not match the number of filenames')\n",
    "\n",
    "images = pd.DataFrame(file_paths, columns=['filename', 'filepaths'])\n",
    "images.head()\n",
    "\n",
    "\n",
    "train_data = pd.merge(images, labels, how = 'inner', on = 'filename')\n",
    "train_data.head()"
   ]
  },
  {
   "cell_type": "code",
   "execution_count": 6,
   "id": "dce5b8fa",
   "metadata": {},
   "outputs": [
    {
     "data": {
      "text/html": [
       "<div>\n",
       "<style scoped>\n",
       "    .dataframe tbody tr th:only-of-type {\n",
       "        vertical-align: middle;\n",
       "    }\n",
       "\n",
       "    .dataframe tbody tr th {\n",
       "        vertical-align: top;\n",
       "    }\n",
       "\n",
       "    .dataframe thead th {\n",
       "        text-align: right;\n",
       "    }\n",
       "</style>\n",
       "<table border=\"1\" class=\"dataframe\">\n",
       "  <thead>\n",
       "    <tr style=\"text-align: right;\">\n",
       "      <th></th>\n",
       "      <th>filename</th>\n",
       "      <th>filepaths</th>\n",
       "    </tr>\n",
       "  </thead>\n",
       "  <tbody>\n",
       "    <tr>\n",
       "      <th>0</th>\n",
       "      <td>Image_1.jpg</td>\n",
       "      <td>G:/PYTHON/Final year project/Final/covid_image...</td>\n",
       "    </tr>\n",
       "    <tr>\n",
       "      <th>1</th>\n",
       "      <td>Image_2.jpg</td>\n",
       "      <td>G:/PYTHON/Final year project/Final/covid_image...</td>\n",
       "    </tr>\n",
       "    <tr>\n",
       "      <th>2</th>\n",
       "      <td>Image_3.jpg</td>\n",
       "      <td>G:/PYTHON/Final year project/Final/covid_image...</td>\n",
       "    </tr>\n",
       "    <tr>\n",
       "      <th>3</th>\n",
       "      <td>Image_4.jpg</td>\n",
       "      <td>G:/PYTHON/Final year project/Final/covid_image...</td>\n",
       "    </tr>\n",
       "    <tr>\n",
       "      <th>4</th>\n",
       "      <td>Image_5.jpg</td>\n",
       "      <td>G:/PYTHON/Final year project/Final/covid_image...</td>\n",
       "    </tr>\n",
       "  </tbody>\n",
       "</table>\n",
       "</div>"
      ],
      "text/plain": [
       "      filename                                          filepaths\n",
       "0  Image_1.jpg  G:/PYTHON/Final year project/Final/covid_image...\n",
       "1  Image_2.jpg  G:/PYTHON/Final year project/Final/covid_image...\n",
       "2  Image_3.jpg  G:/PYTHON/Final year project/Final/covid_image...\n",
       "3  Image_4.jpg  G:/PYTHON/Final year project/Final/covid_image...\n",
       "4  Image_5.jpg  G:/PYTHON/Final year project/Final/covid_image..."
      ]
     },
     "execution_count": 6,
     "metadata": {},
     "output_type": "execute_result"
    }
   ],
   "source": [
    "test_image_order = pd.read_csv(\"G:\\PYTHON\\Final year project\\Final\\covid_image_data\\covid_image_data\\Testing_set_covid.csv\")\n",
    "test_image_order.head()\n",
    "\n",
    "file_paths_test = [[fname, 'G:/PYTHON/Final year project/Final/covid_image_data/covid_image_data/test/' + fname] for fname in test_image_order['filename']]\n",
    "\n",
    "test_images = pd.DataFrame(file_paths_test, columns=['filename', 'filepaths'])\n",
    "test_images.head()"
   ]
  },
  {
   "cell_type": "code",
   "execution_count": 7,
   "id": "6171bceb",
   "metadata": {},
   "outputs": [],
   "source": [
    "data = []\n",
    "image_size = 224\n",
    "test_pixel_data = []\n",
    "import matplotlib.pyplot as plt\n",
    "\n",
    "for i in range(len(train_data)):\n",
    "    img_array = plt.imread(train_data['filepaths'][i], cv2.COLOR_BGR2RGB)\n",
    "\n",
    "    new_img_array = cv2.resize(img_array, (image_size, image_size))\n",
    "    #new_img_array = cv2.GaussianBlur(new_img_array,(5,5),0)\n",
    "    data.append([new_img_array, train_data['label'][i]])\n"
   ]
  },
  {
   "cell_type": "code",
   "execution_count": 8,
   "id": "5e87eeda",
   "metadata": {},
   "outputs": [],
   "source": [
    "for i in range(len(test_images)):\n",
    "    img_array = cv2.imread(test_images['filepaths'][i], cv2.COLOR_BGR2RGB)\n",
    "    if img_array is None:\n",
    "        print('Wrong path:', test_images['filepaths'][i])\n",
    "    new_img_array = cv2.resize(img_array, (image_size, image_size))\n",
    "    #new_img_array = cv2.GaussianBlur(new_img_array,(5,5),0)\n",
    "    test_pixel_data.append(new_img_array)"
   ]
  },
  {
   "cell_type": "code",
   "execution_count": 9,
   "id": "a87ebedd",
   "metadata": {},
   "outputs": [],
   "source": [
    "np.random.shuffle(data)"
   ]
  },
  {
   "cell_type": "code",
   "execution_count": 10,
   "id": "daa264f4",
   "metadata": {},
   "outputs": [],
   "source": [
    "x = []\n",
    "y = []\n",
    "\n",
    "counter = 406\n",
    "\n",
    "for image in data:\n",
    "    x.append(image[0])\n",
    "    y.append(image[1])\n",
    "\n",
    "# converting x & y to numpy array as they are list\n",
    "x = np.array(x)\n",
    "y = np.array(y)"
   ]
  },
  {
   "cell_type": "code",
   "execution_count": 11,
   "id": "5216b103",
   "metadata": {},
   "outputs": [
    {
     "data": {
      "text/plain": [
       "(array([0, 1], dtype=int64), array([3073,  406], dtype=int64))"
      ]
     },
     "execution_count": 11,
     "metadata": {},
     "output_type": "execute_result"
    }
   ],
   "source": [
    "np.unique(y, return_counts=True)"
   ]
  },
  {
   "cell_type": "code",
   "execution_count": 12,
   "id": "9f912600",
   "metadata": {},
   "outputs": [
    {
     "data": {
      "text/plain": [
       "0    3073\n",
       "1     406\n",
       "dtype: int64"
      ]
     },
     "execution_count": 12,
     "metadata": {},
     "output_type": "execute_result"
    }
   ],
   "source": [
    "pd.Series(y).value_counts()"
   ]
  },
  {
   "cell_type": "code",
   "execution_count": 13,
   "id": "c7596759",
   "metadata": {},
   "outputs": [],
   "source": [
    "X_train, X_val, y_train, y_val = train_test_split(x,y,test_size=0.2, random_state = 42,stratify=y)"
   ]
  },
  {
   "cell_type": "code",
   "execution_count": 14,
   "id": "ce6f0a88",
   "metadata": {},
   "outputs": [
    {
     "name": "stdout",
     "output_type": "stream",
     "text": [
      "(2783, 224, 224, 3) (696, 224, 224, 3) (870, 224, 224, 3)\n"
     ]
    }
   ],
   "source": [
    "test_pixel_data = np.array(test_pixel_data)\n",
    "\n",
    "test_pixel_data = test_pixel_data/255\n",
    "\n",
    "print(X_train.shape,X_val.shape,test_pixel_data.shape)"
   ]
  },
  {
   "cell_type": "code",
   "execution_count": 15,
   "id": "397c62fc",
   "metadata": {},
   "outputs": [],
   "source": [
    "train_datagen = tf.keras.preprocessing.image.ImageDataGenerator(rescale=1.0/255.0)\n",
    "\n",
    "val_datagen = tf.keras.preprocessing.image.ImageDataGenerator(rescale=1.0/255.0)\n",
    "\n",
    "train_generator = train_datagen.flow(X_train,y_train,batch_size=8)\n",
    "\n",
    "val_generator = val_datagen.flow(X_val,y_val,batch_size=8)"
   ]
  },
  {
   "cell_type": "code",
   "execution_count": 16,
   "id": "36e5477f",
   "metadata": {},
   "outputs": [
    {
     "data": {
      "text/plain": [
       "0    0.883621\n",
       "1    0.116379\n",
       "dtype: float64"
      ]
     },
     "execution_count": 16,
     "metadata": {},
     "output_type": "execute_result"
    }
   ],
   "source": [
    "pd.Series(y_val).value_counts(normalize=True)"
   ]
  },
  {
   "cell_type": "code",
   "execution_count": 17,
   "id": "72c73e89",
   "metadata": {},
   "outputs": [
    {
     "name": "stdout",
     "output_type": "stream",
     "text": [
      "(2783, 224, 224, 3) (696, 224, 224, 3)\n"
     ]
    }
   ],
   "source": [
    "print(X_train.shape,X_val.shape)"
   ]
  },
  {
   "cell_type": "code",
   "execution_count": 18,
   "id": "c88e099b",
   "metadata": {},
   "outputs": [],
   "source": [
    "import tensorflow as tf\n",
    "from keras.models import load_model\n",
    "import numpy as np\n",
    "from keras.preprocessing import image\n",
    "from sklearn.metrics import accuracy_score,r2_score"
   ]
  },
  {
   "cell_type": "code",
   "execution_count": 19,
   "id": "51622747",
   "metadata": {},
   "outputs": [],
   "source": [
    "# 224\n",
    "model_den = load_model(\"G:\\\\PYTHON\\\\Final year project\\\\Final\\\\covid_image_data\\\\covid_image_data\\\\dense_nET_co.h5\")\n",
    "model_res = load_model(\"G:\\\\PYTHON\\\\Final year project\\\\Final\\\\covid_image_data\\\\covid_image_data\\\\resnet50.h5\")\n",
    "model_inc = load_model(\"G:\\\\PYTHON\\\\Final year project\\\\Final\\\\covid_image_data\\\\covid_image_data\\\\inception_v3.h5\")\n",
    "model_eff = load_model(\"G:\\\\PYTHON\\\\Final year project\\\\Final\\\\covid_image_data\\\\covid_image_data\\\\efficientnetb0.h5\")\n",
    "model_vg16 = load_model(\"G:\\\\PYTHON\\\\Final year project\\\\Final\\\\covid_image_data\\\\covid_image_data\\\\vgg_16_1.h5\")"
   ]
  },
  {
   "cell_type": "code",
   "execution_count": 20,
   "id": "f79b01da",
   "metadata": {},
   "outputs": [],
   "source": [
    "model_store = {\n",
    "    \"DenseNet\": model_den,\n",
    "    \"ResNet\" : model_res,\n",
    "    \"Inception\" : model_inc,\n",
    "    \"Efficient Net\":model_eff,\n",
    "    \"VGG16\":model_vg16\n",
    "}\n",
    "model_store_name = [\"DenseNet\",\"ResNet\",\"Inception\",\"Efficient Net\",\"VGG16\"]"
   ]
  },
  {
   "cell_type": "code",
   "execution_count": null,
   "id": "79d642e5",
   "metadata": {},
   "outputs": [],
   "source": []
  },
  {
   "cell_type": "code",
   "execution_count": 21,
   "id": "12d6dd74",
   "metadata": {},
   "outputs": [],
   "source": [
    "from sklearn.metrics import confusion_matrix,classification_report"
   ]
  },
  {
   "cell_type": "code",
   "execution_count": 22,
   "id": "f3292157",
   "metadata": {},
   "outputs": [],
   "source": [
    "from tqdm import tqdm\n",
    "import time"
   ]
  },
  {
   "cell_type": "code",
   "execution_count": 26,
   "id": "32e7508f",
   "metadata": {},
   "outputs": [
    {
     "name": "stderr",
     "output_type": "stream",
     "text": [
      "\r",
      "  0%|                                                                                            | 0/4 [00:00<?, ?it/s]"
     ]
    },
    {
     "name": "stdout",
     "output_type": "stream",
     "text": [
      "DenseNet ResNet\n",
      "\n",
      "[[612   3]\n",
      " [  1  80]]\n",
      "              precision    recall  f1-score   support\n",
      "\n",
      "       COVID       1.00      1.00      1.00       615\n",
      "      Normal       0.96      0.99      0.98        81\n",
      "\n",
      "    accuracy                           0.99       696\n",
      "   macro avg       0.98      0.99      0.99       696\n",
      "weighted avg       0.99      0.99      0.99       696\n",
      "\n",
      "DenseNet Inception\n",
      "\n",
      "[[612   3]\n",
      " [  0  81]]\n",
      "              precision    recall  f1-score   support\n",
      "\n",
      "       COVID       1.00      1.00      1.00       615\n",
      "      Normal       0.96      1.00      0.98        81\n",
      "\n",
      "    accuracy                           1.00       696\n",
      "   macro avg       0.98      1.00      0.99       696\n",
      "weighted avg       1.00      1.00      1.00       696\n",
      "\n",
      "DenseNet Efficient Net\n",
      "\n",
      "[[615   0]\n",
      " [ 81   0]]\n",
      "              precision    recall  f1-score   support\n",
      "\n",
      "       COVID       0.88      1.00      0.94       615\n",
      "      Normal       0.00      0.00      0.00        81\n",
      "\n",
      "    accuracy                           0.88       696\n",
      "   macro avg       0.44      0.50      0.47       696\n",
      "weighted avg       0.78      0.88      0.83       696\n",
      "\n",
      "DenseNet VGG16\n",
      "\n"
     ]
    },
    {
     "name": "stderr",
     "output_type": "stream",
     "text": [
      "C:\\Users\\Charan Chandra\\anaconda3\\envs\\gputest\\lib\\site-packages\\sklearn\\metrics\\_classification.py:1248: UndefinedMetricWarning: Precision and F-score are ill-defined and being set to 0.0 in labels with no predicted samples. Use `zero_division` parameter to control this behavior.\n",
      "  _warn_prf(average, modifier, msg_start, len(result))\n",
      "C:\\Users\\Charan Chandra\\anaconda3\\envs\\gputest\\lib\\site-packages\\sklearn\\metrics\\_classification.py:1248: UndefinedMetricWarning: Precision and F-score are ill-defined and being set to 0.0 in labels with no predicted samples. Use `zero_division` parameter to control this behavior.\n",
      "  _warn_prf(average, modifier, msg_start, len(result))\n",
      "C:\\Users\\Charan Chandra\\anaconda3\\envs\\gputest\\lib\\site-packages\\sklearn\\metrics\\_classification.py:1248: UndefinedMetricWarning: Precision and F-score are ill-defined and being set to 0.0 in labels with no predicted samples. Use `zero_division` parameter to control this behavior.\n",
      "  _warn_prf(average, modifier, msg_start, len(result))\n",
      " 25%|████████████████████▊                                                              | 1/4 [07:16<21:49, 436.56s/it]"
     ]
    },
    {
     "name": "stdout",
     "output_type": "stream",
     "text": [
      "[[614   1]\n",
      " [  4  77]]\n",
      "              precision    recall  f1-score   support\n",
      "\n",
      "       COVID       0.99      1.00      1.00       615\n",
      "      Normal       0.99      0.95      0.97        81\n",
      "\n",
      "    accuracy                           0.99       696\n",
      "   macro avg       0.99      0.97      0.98       696\n",
      "weighted avg       0.99      0.99      0.99       696\n",
      "\n",
      "ResNet Inception\n",
      "\n",
      "[[591  24]\n",
      " [  1  80]]\n",
      "              precision    recall  f1-score   support\n",
      "\n",
      "       COVID       1.00      0.96      0.98       615\n",
      "      Normal       0.77      0.99      0.86        81\n",
      "\n",
      "    accuracy                           0.96       696\n",
      "   macro avg       0.88      0.97      0.92       696\n",
      "weighted avg       0.97      0.96      0.97       696\n",
      "\n",
      "ResNet Efficient Net\n",
      "\n",
      "[[615   0]\n",
      " [ 81   0]]\n",
      "              precision    recall  f1-score   support\n",
      "\n",
      "       COVID       0.88      1.00      0.94       615\n",
      "      Normal       0.00      0.00      0.00        81\n",
      "\n",
      "    accuracy                           0.88       696\n",
      "   macro avg       0.44      0.50      0.47       696\n",
      "weighted avg       0.78      0.88      0.83       696\n",
      "\n",
      "ResNet VGG16\n",
      "\n"
     ]
    },
    {
     "name": "stderr",
     "output_type": "stream",
     "text": [
      "C:\\Users\\Charan Chandra\\anaconda3\\envs\\gputest\\lib\\site-packages\\sklearn\\metrics\\_classification.py:1248: UndefinedMetricWarning: Precision and F-score are ill-defined and being set to 0.0 in labels with no predicted samples. Use `zero_division` parameter to control this behavior.\n",
      "  _warn_prf(average, modifier, msg_start, len(result))\n",
      "C:\\Users\\Charan Chandra\\anaconda3\\envs\\gputest\\lib\\site-packages\\sklearn\\metrics\\_classification.py:1248: UndefinedMetricWarning: Precision and F-score are ill-defined and being set to 0.0 in labels with no predicted samples. Use `zero_division` parameter to control this behavior.\n",
      "  _warn_prf(average, modifier, msg_start, len(result))\n",
      "C:\\Users\\Charan Chandra\\anaconda3\\envs\\gputest\\lib\\site-packages\\sklearn\\metrics\\_classification.py:1248: UndefinedMetricWarning: Precision and F-score are ill-defined and being set to 0.0 in labels with no predicted samples. Use `zero_division` parameter to control this behavior.\n",
      "  _warn_prf(average, modifier, msg_start, len(result))\n",
      " 50%|█████████████████████████████████████████▌                                         | 2/4 [11:32<11:00, 330.40s/it]"
     ]
    },
    {
     "name": "stdout",
     "output_type": "stream",
     "text": [
      "[[605  10]\n",
      " [  2  79]]\n",
      "              precision    recall  f1-score   support\n",
      "\n",
      "       COVID       1.00      0.98      0.99       615\n",
      "      Normal       0.89      0.98      0.93        81\n",
      "\n",
      "    accuracy                           0.98       696\n",
      "   macro avg       0.94      0.98      0.96       696\n",
      "weighted avg       0.98      0.98      0.98       696\n",
      "\n",
      "Inception Efficient Net\n",
      "\n",
      "[[615   0]\n",
      " [ 81   0]]\n",
      "              precision    recall  f1-score   support\n",
      "\n",
      "       COVID       0.88      1.00      0.94       615\n",
      "      Normal       0.00      0.00      0.00        81\n",
      "\n",
      "    accuracy                           0.88       696\n",
      "   macro avg       0.44      0.50      0.47       696\n",
      "weighted avg       0.78      0.88      0.83       696\n",
      "\n",
      "Inception VGG16\n",
      "\n"
     ]
    },
    {
     "name": "stderr",
     "output_type": "stream",
     "text": [
      "C:\\Users\\Charan Chandra\\anaconda3\\envs\\gputest\\lib\\site-packages\\sklearn\\metrics\\_classification.py:1248: UndefinedMetricWarning: Precision and F-score are ill-defined and being set to 0.0 in labels with no predicted samples. Use `zero_division` parameter to control this behavior.\n",
      "  _warn_prf(average, modifier, msg_start, len(result))\n",
      "C:\\Users\\Charan Chandra\\anaconda3\\envs\\gputest\\lib\\site-packages\\sklearn\\metrics\\_classification.py:1248: UndefinedMetricWarning: Precision and F-score are ill-defined and being set to 0.0 in labels with no predicted samples. Use `zero_division` parameter to control this behavior.\n",
      "  _warn_prf(average, modifier, msg_start, len(result))\n",
      "C:\\Users\\Charan Chandra\\anaconda3\\envs\\gputest\\lib\\site-packages\\sklearn\\metrics\\_classification.py:1248: UndefinedMetricWarning: Precision and F-score are ill-defined and being set to 0.0 in labels with no predicted samples. Use `zero_division` parameter to control this behavior.\n",
      "  _warn_prf(average, modifier, msg_start, len(result))\n",
      " 75%|██████████████████████████████████████████████████████████████▎                    | 3/4 [14:24<04:17, 257.80s/it]"
     ]
    },
    {
     "name": "stdout",
     "output_type": "stream",
     "text": [
      "[[604  11]\n",
      " [  1  80]]\n",
      "              precision    recall  f1-score   support\n",
      "\n",
      "       COVID       1.00      0.98      0.99       615\n",
      "      Normal       0.88      0.99      0.93        81\n",
      "\n",
      "    accuracy                           0.98       696\n",
      "   macro avg       0.94      0.98      0.96       696\n",
      "weighted avg       0.98      0.98      0.98       696\n",
      "\n",
      "Efficient Net VGG16\n",
      "\n"
     ]
    },
    {
     "name": "stderr",
     "output_type": "stream",
     "text": [
      "C:\\Users\\Charan Chandra\\anaconda3\\envs\\gputest\\lib\\site-packages\\sklearn\\metrics\\_classification.py:1248: UndefinedMetricWarning: Precision and F-score are ill-defined and being set to 0.0 in labels with no predicted samples. Use `zero_division` parameter to control this behavior.\n",
      "  _warn_prf(average, modifier, msg_start, len(result))\n",
      "C:\\Users\\Charan Chandra\\anaconda3\\envs\\gputest\\lib\\site-packages\\sklearn\\metrics\\_classification.py:1248: UndefinedMetricWarning: Precision and F-score are ill-defined and being set to 0.0 in labels with no predicted samples. Use `zero_division` parameter to control this behavior.\n",
      "  _warn_prf(average, modifier, msg_start, len(result))\n",
      "C:\\Users\\Charan Chandra\\anaconda3\\envs\\gputest\\lib\\site-packages\\sklearn\\metrics\\_classification.py:1248: UndefinedMetricWarning: Precision and F-score are ill-defined and being set to 0.0 in labels with no predicted samples. Use `zero_division` parameter to control this behavior.\n",
      "  _warn_prf(average, modifier, msg_start, len(result))\n",
      "100%|███████████████████████████████████████████████████████████████████████████████████| 4/4 [15:51<00:00, 237.89s/it]"
     ]
    },
    {
     "name": "stdout",
     "output_type": "stream",
     "text": [
      "[[615   0]\n",
      " [ 81   0]]\n",
      "              precision    recall  f1-score   support\n",
      "\n",
      "       COVID       0.88      1.00      0.94       615\n",
      "      Normal       0.00      0.00      0.00        81\n",
      "\n",
      "    accuracy                           0.88       696\n",
      "   macro avg       0.44      0.50      0.47       696\n",
      "weighted avg       0.78      0.88      0.83       696\n",
      "\n"
     ]
    },
    {
     "name": "stderr",
     "output_type": "stream",
     "text": [
      "\n"
     ]
    }
   ],
   "source": [
    "for ptr1 in tqdm(range(len(model_store_name)-1)):\n",
    "    for ptr2 in range(ptr1+1,len(model_store_name)):\n",
    "        print(model_store_name[ptr1],model_store_name[ptr2])\n",
    "        print()\n",
    "        model1 = model_store[model_store_name[ptr1]]\n",
    "        model2 = model_store[model_store_name[ptr2]]\n",
    "        store = []\n",
    "        for img in X_val:\n",
    "            dt = []\n",
    "            dt.append(img)\n",
    "            X = np.array(dt)\n",
    "            X = X/255\n",
    "            preds = [model1.predict(X), model2.predict(X)]\n",
    "            weights = [0.5,0.5]\n",
    "            weighted_preds = np.tensordot(preds, weights, axes=((0),(0)))\n",
    "            if weighted_preds > 0.5:\n",
    "                store.append(1)\n",
    "            else:\n",
    "                store.append(0)\n",
    "        print(confusion_matrix(y_val,store))\n",
    "        target_names = [\"COVID\",\"Normal\"]\n",
    "        print(classification_report(y_val,store, target_names=target_names))"
   ]
  },
  {
   "cell_type": "code",
   "execution_count": 25,
   "id": "dbf46234",
   "metadata": {},
   "outputs": [
    {
     "name": "stderr",
     "output_type": "stream",
     "text": [
      "\r",
      "  0%|                                                                                            | 0/4 [00:00<?, ?it/s]"
     ]
    },
    {
     "name": "stdout",
     "output_type": "stream",
     "text": [
      "DenseNet ResNet Inception\n",
      "\n",
      "[[608   7]\n",
      " [  0  81]]\n",
      "              precision    recall  f1-score   support\n",
      "\n",
      "       COVID       1.00      0.99      0.99       615\n",
      "      Normal       0.92      1.00      0.96        81\n",
      "\n",
      "    accuracy                           0.99       696\n",
      "   macro avg       0.96      0.99      0.98       696\n",
      "weighted avg       0.99      0.99      0.99       696\n",
      "\n",
      "DenseNet ResNet Efficient Net\n",
      "\n",
      "[[613   2]\n",
      " [  3  78]]\n",
      "              precision    recall  f1-score   support\n",
      "\n",
      "       COVID       1.00      1.00      1.00       615\n",
      "      Normal       0.97      0.96      0.97        81\n",
      "\n",
      "    accuracy                           0.99       696\n",
      "   macro avg       0.99      0.98      0.98       696\n",
      "weighted avg       0.99      0.99      0.99       696\n",
      "\n",
      "DenseNet ResNet VGG16\n",
      "\n",
      "[[611   4]\n",
      " [  2  79]]\n",
      "              precision    recall  f1-score   support\n",
      "\n",
      "       COVID       1.00      0.99      1.00       615\n",
      "      Normal       0.95      0.98      0.96        81\n",
      "\n",
      "    accuracy                           0.99       696\n",
      "   macro avg       0.97      0.98      0.98       696\n",
      "weighted avg       0.99      0.99      0.99       696\n",
      "\n",
      "DenseNet Inception Efficient Net\n",
      "\n",
      "[[613   2]\n",
      " [  3  78]]\n",
      "              precision    recall  f1-score   support\n",
      "\n",
      "       COVID       1.00      1.00      1.00       615\n",
      "      Normal       0.97      0.96      0.97        81\n",
      "\n",
      "    accuracy                           0.99       696\n",
      "   macro avg       0.99      0.98      0.98       696\n",
      "weighted avg       0.99      0.99      0.99       696\n",
      "\n",
      "DenseNet Inception VGG16\n",
      "\n",
      "[[612   3]\n",
      " [  3  78]]\n",
      "              precision    recall  f1-score   support\n",
      "\n",
      "       COVID       1.00      1.00      1.00       615\n",
      "      Normal       0.96      0.96      0.96        81\n",
      "\n",
      "    accuracy                           0.99       696\n",
      "   macro avg       0.98      0.98      0.98       696\n",
      "weighted avg       0.99      0.99      0.99       696\n",
      "\n",
      "DenseNet Efficient Net VGG16\n",
      "\n"
     ]
    },
    {
     "name": "stderr",
     "output_type": "stream",
     "text": [
      "\r",
      " 25%|████████████████████▌                                                             | 1/4 [16:56<50:50, 1016.98s/it]"
     ]
    },
    {
     "name": "stdout",
     "output_type": "stream",
     "text": [
      "[[615   0]\n",
      " [ 38  43]]\n",
      "              precision    recall  f1-score   support\n",
      "\n",
      "       COVID       0.94      1.00      0.97       615\n",
      "      Normal       1.00      0.53      0.69        81\n",
      "\n",
      "    accuracy                           0.95       696\n",
      "   macro avg       0.97      0.77      0.83       696\n",
      "weighted avg       0.95      0.95      0.94       696\n",
      "\n",
      "ResNet Inception Efficient Net\n",
      "\n",
      "[[609   6]\n",
      " [  3  78]]\n",
      "              precision    recall  f1-score   support\n",
      "\n",
      "       COVID       1.00      0.99      0.99       615\n",
      "      Normal       0.93      0.96      0.95        81\n",
      "\n",
      "    accuracy                           0.99       696\n",
      "   macro avg       0.96      0.98      0.97       696\n",
      "weighted avg       0.99      0.99      0.99       696\n",
      "\n",
      "ResNet Inception VGG16\n",
      "\n",
      "[[608   7]\n",
      " [  3  78]]\n",
      "              precision    recall  f1-score   support\n",
      "\n",
      "       COVID       1.00      0.99      0.99       615\n",
      "      Normal       0.92      0.96      0.94        81\n",
      "\n",
      "    accuracy                           0.99       696\n",
      "   macro avg       0.96      0.98      0.97       696\n",
      "weighted avg       0.99      0.99      0.99       696\n",
      "\n",
      "ResNet Efficient Net VGG16\n",
      "\n"
     ]
    },
    {
     "name": "stderr",
     "output_type": "stream",
     "text": [
      "\r",
      " 50%|█████████████████████████████████████████▌                                         | 2/4 [23:44<21:57, 658.63s/it]"
     ]
    },
    {
     "name": "stdout",
     "output_type": "stream",
     "text": [
      "[[614   1]\n",
      " [ 38  43]]\n",
      "              precision    recall  f1-score   support\n",
      "\n",
      "       COVID       0.94      1.00      0.97       615\n",
      "      Normal       0.98      0.53      0.69        81\n",
      "\n",
      "    accuracy                           0.94       696\n",
      "   macro avg       0.96      0.76      0.83       696\n",
      "weighted avg       0.95      0.94      0.94       696\n",
      "\n",
      "Inception Efficient Net VGG16\n",
      "\n"
     ]
    },
    {
     "name": "stderr",
     "output_type": "stream",
     "text": [
      "100%|███████████████████████████████████████████████████████████████████████████████████| 4/4 [25:57<00:00, 389.40s/it]"
     ]
    },
    {
     "name": "stdout",
     "output_type": "stream",
     "text": [
      "[[614   1]\n",
      " [ 38  43]]\n",
      "              precision    recall  f1-score   support\n",
      "\n",
      "       COVID       0.94      1.00      0.97       615\n",
      "      Normal       0.98      0.53      0.69        81\n",
      "\n",
      "    accuracy                           0.94       696\n",
      "   macro avg       0.96      0.76      0.83       696\n",
      "weighted avg       0.95      0.94      0.94       696\n",
      "\n"
     ]
    },
    {
     "name": "stderr",
     "output_type": "stream",
     "text": [
      "\n"
     ]
    }
   ],
   "source": [
    "for ptr1 in tqdm(range(len(model_store_name)-1)):\n",
    "    for ptr2 in range(ptr1+1,len(model_store_name)):\n",
    "        for ptr3 in range(ptr2+1,len(model_store_name)):\n",
    "            print(model_store_name[ptr1],model_store_name[ptr2], model_store_name[ptr3])\n",
    "            print()\n",
    "            model1 = model_store[model_store_name[ptr1]]\n",
    "            model2 = model_store[model_store_name[ptr2]]\n",
    "            model3 = model_store[model_store_name[ptr3]]\n",
    "            store = []\n",
    "            for img in X_val:\n",
    "                dt = []\n",
    "                dt.append(img)\n",
    "                X = np.array(dt)\n",
    "                X = X/255\n",
    "                preds = [model1.predict(X), model2.predict(X), model3.predict(X)]\n",
    "                weights = [0.33,0.33,0.33]\n",
    "                weighted_preds = np.tensordot(preds, weights, axes=((0),(0)))\n",
    "                if weighted_preds > 0.5:\n",
    "                    store.append(1)\n",
    "                else:\n",
    "                    store.append(0)\n",
    "            print(confusion_matrix(y_val,store))\n",
    "            target_names = [\"COVID\",\"Normal\"]\n",
    "            print(classification_report(y_val,store, target_names=target_names))"
   ]
  },
  {
   "cell_type": "code",
   "execution_count": null,
   "id": "a434c197",
   "metadata": {},
   "outputs": [],
   "source": []
  },
  {
   "cell_type": "code",
   "execution_count": null,
   "id": "2a4fb393",
   "metadata": {},
   "outputs": [],
   "source": []
  },
  {
   "cell_type": "code",
   "execution_count": null,
   "id": "18905fc9",
   "metadata": {},
   "outputs": [],
   "source": []
  },
  {
   "cell_type": "code",
   "execution_count": null,
   "id": "214b6263",
   "metadata": {},
   "outputs": [],
   "source": []
  },
  {
   "cell_type": "code",
   "execution_count": null,
   "id": "df93a8bc",
   "metadata": {},
   "outputs": [],
   "source": []
  },
  {
   "cell_type": "code",
   "execution_count": null,
   "id": "812b4ea5",
   "metadata": {},
   "outputs": [],
   "source": []
  },
  {
   "cell_type": "code",
   "execution_count": null,
   "id": "702a1a72",
   "metadata": {},
   "outputs": [],
   "source": []
  },
  {
   "cell_type": "code",
   "execution_count": null,
   "id": "6dfb9f02",
   "metadata": {},
   "outputs": [],
   "source": []
  }
 ],
 "metadata": {
  "kernelspec": {
   "display_name": "gputest",
   "language": "python",
   "name": "gputest"
  },
  "language_info": {
   "codemirror_mode": {
    "name": "ipython",
    "version": 3
   },
   "file_extension": ".py",
   "mimetype": "text/x-python",
   "name": "python",
   "nbconvert_exporter": "python",
   "pygments_lexer": "ipython3",
   "version": "3.6.13"
  }
 },
 "nbformat": 4,
 "nbformat_minor": 5
}

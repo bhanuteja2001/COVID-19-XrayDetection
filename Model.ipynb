{
  "nbformat": 4,
  "nbformat_minor": 0,
  "metadata": {
    "colab": {
      "name": "Model.ipynb",
      "provenance": [],
      "authorship_tag": "ABX9TyMQiZB5zETICBS6+SOtFAkE",
      "include_colab_link": true
    },
    "kernelspec": {
      "name": "python3",
      "display_name": "Python 3"
    },
    "accelerator": "GPU"
  },
  "cells": [
    {
      "cell_type": "markdown",
      "metadata": {
        "id": "view-in-github",
        "colab_type": "text"
      },
      "source": [
        "<a href=\"https://colab.research.google.com/github/bhanuteja2001/COVID-19-XrayDetection/blob/main/Model.ipynb\" target=\"_parent\"><img src=\"https://colab.research.google.com/assets/colab-badge.svg\" alt=\"Open In Colab\"/></a>"
      ]
    },
    {
      "cell_type": "code",
      "metadata": {
        "colab": {
          "base_uri": "https://localhost:8080/"
        },
        "id": "pjcOkplXNEUC",
        "outputId": "25a2b707-79f5-4f6e-e50c-bcac82cace10"
      },
      "source": [
        "from google.colab import drive\n",
        "drive.mount('/content/drive')"
      ],
      "execution_count": 2,
      "outputs": [
        {
          "output_type": "stream",
          "text": [
            "Mounted at /content/drive\n"
          ],
          "name": "stdout"
        }
      ]
    },
    {
      "cell_type": "code",
      "metadata": {
        "colab": {
          "base_uri": "https://localhost:8080/"
        },
        "id": "7k18dexYNHAk",
        "outputId": "bd04ed17-256d-483e-bf45-d9e6bed5820a"
      },
      "source": [
        "import tensorflow as tf\n",
        "print(tf.__version__)"
      ],
      "execution_count": 56,
      "outputs": [
        {
          "output_type": "stream",
          "text": [
            "2.3.0\n"
          ],
          "name": "stdout"
        }
      ]
    },
    {
      "cell_type": "code",
      "metadata": {
        "id": "Imv21SDjNPgC"
      },
      "source": [
        "import pandas as pd\n",
        "import numpy as np"
      ],
      "execution_count": 3,
      "outputs": []
    },
    {
      "cell_type": "code",
      "metadata": {
        "colab": {
          "base_uri": "https://localhost:8080/"
        },
        "id": "_styRoHZyRb6",
        "outputId": "180824ac-0d61-4157-e0e2-53e2cee6612b"
      },
      "source": [
        "!pip install split-folders"
      ],
      "execution_count": 8,
      "outputs": [
        {
          "output_type": "stream",
          "text": [
            "Collecting split-folders\n",
            "  Downloading https://files.pythonhosted.org/packages/b8/5f/3c2b2f7ea5e047c8cdc3bb00ae582c5438fcdbbedcc23b3cc1c2c7aae642/split_folders-0.4.3-py3-none-any.whl\n",
            "Installing collected packages: split-folders\n",
            "Successfully installed split-folders-0.4.3\n"
          ],
          "name": "stdout"
        }
      ]
    },
    {
      "cell_type": "code",
      "metadata": {
        "colab": {
          "base_uri": "https://localhost:8080/"
        },
        "id": "NY2USnQxyRYx",
        "outputId": "7ef8a2f9-6cbc-4893-d13b-8c586860a026"
      },
      "source": [
        "\"\"\"import splitfolders\n",
        "splitfolders.ratio(train_path, output=\"output\", seed=1337, ratio=(.8, 0.1,0.1))\"\"\""
      ],
      "execution_count": 13,
      "outputs": [
        {
          "output_type": "stream",
          "text": [
            "Copying files: 2919 files [23:58,  2.03 files/s]\n"
          ],
          "name": "stderr"
        }
      ]
    },
    {
      "cell_type": "code",
      "metadata": {
        "colab": {
          "base_uri": "https://localhost:8080/",
          "height": 35
        },
        "id": "7GuyThieyQrm",
        "outputId": "46e27168-c6bc-41ff-efc8-a94ba112f8da"
      },
      "source": [
        "\"\"\"import shutil\n",
        "shutil.move(\"/content/output\", \"/content/drive/MyDrive/covid_image_data\")\"\"\""
      ],
      "execution_count": 53,
      "outputs": [
        {
          "output_type": "execute_result",
          "data": {
            "application/vnd.google.colaboratory.intrinsic+json": {
              "type": "string"
            },
            "text/plain": [
              "'/content/drive/MyDrive/covid_image_data/output'"
            ]
          },
          "metadata": {
            "tags": []
          },
          "execution_count": 53
        }
      ]
    },
    {
      "cell_type": "code",
      "metadata": {
        "id": "tvbysUfhvOwY"
      },
      "source": [
        "import os\n",
        "\n",
        "path, dirs, files = next(os.walk('/content/drive/MyDrive/covid_image_data/output/train/'))\n",
        "file_count = len(files)"
      ],
      "execution_count": 159,
      "outputs": []
    },
    {
      "cell_type": "code",
      "metadata": {
        "id": "_9f52MlRve5Q",
        "outputId": "f33ad0c2-a343-40f8-cd28-e07bef435140",
        "colab": {
          "base_uri": "https://localhost:8080/"
        }
      },
      "source": [
        "file_count"
      ],
      "execution_count": 160,
      "outputs": [
        {
          "output_type": "execute_result",
          "data": {
            "text/plain": [
              "0"
            ]
          },
          "metadata": {
            "tags": []
          },
          "execution_count": 160
        }
      ]
    },
    {
      "cell_type": "markdown",
      "metadata": {
        "id": "-DqBy5BqIqU4"
      },
      "source": [
        "## VGG 16"
      ]
    },
    {
      "cell_type": "code",
      "metadata": {
        "id": "nIxHNwrxeUI2"
      },
      "source": [
        "from keras.layers import Input, Lambda, Dense, Flatten\n",
        "from keras.models import Model\n",
        "from keras.applications.vgg16 import VGG16\n",
        "from keras.applications.vgg16 import preprocess_input\n",
        "from keras.preprocessing import image\n",
        "from keras.preprocessing.image import ImageDataGenerator\n",
        "from keras.models import Sequential\n",
        "import numpy as np\n",
        "from glob import glob\n",
        "import matplotlib.pyplot as plt"
      ],
      "execution_count": 4,
      "outputs": []
    },
    {
      "cell_type": "code",
      "metadata": {
        "colab": {
          "base_uri": "https://localhost:8080/"
        },
        "id": "S57iHeAjesw6",
        "outputId": "bfa7ee11-e095-47bb-de67-5f13c8f8d918"
      },
      "source": [
        "from tensorflow.keras.optimizers import RMSprop\n",
        "IMAGE_SIZE = [224, 224]\n",
        "\n",
        "train_path = '/content/drive/MyDrive/covid_image_data/output/train'\n",
        "valid_path = '/content/drive/MyDrive/covid_image_data/output/val'\n",
        "\n",
        "\n",
        "vgg = VGG16(input_shape=IMAGE_SIZE + [3], weights='imagenet', include_top=False)\n",
        "\n",
        "# don't train existing weights\n",
        "for layer in vgg.layers:\n",
        "  layer.trainable = False\n",
        "  \n",
        "\n",
        "  \n",
        "  # useful for getting number of classes\n",
        "folders = glob('/content/drive/MyDrive/covid_image_data/output/train/*')\n",
        "  \n",
        "\n",
        "# our layers - you can add more if you want\n",
        "x = Flatten()(vgg.output)\n",
        "# x = Dense(1000, activation='relu')(x)\n",
        "prediction = Dense(1, activation='sigmoid')(x)\n",
        "\n",
        "# create a model object\n",
        "model = Model(inputs=vgg.input, outputs=prediction)\n",
        "\n",
        "# view the structure of the model\n",
        "model.summary()\n",
        "\n",
        "# tell the model what cost and optimization method to use\n",
        "model.compile(\n",
        "  loss='binary_crossentropy',\n",
        "  optimizer=RMSprop(lr=0.0001),\n",
        "  metrics=['accuracy']\n",
        ")"
      ],
      "execution_count": 145,
      "outputs": [
        {
          "output_type": "stream",
          "text": [
            "Model: \"functional_27\"\n",
            "_________________________________________________________________\n",
            "Layer (type)                 Output Shape              Param #   \n",
            "=================================================================\n",
            "input_14 (InputLayer)        [(None, 224, 224, 3)]     0         \n",
            "_________________________________________________________________\n",
            "block1_conv1 (Conv2D)        (None, 224, 224, 64)      1792      \n",
            "_________________________________________________________________\n",
            "block1_conv2 (Conv2D)        (None, 224, 224, 64)      36928     \n",
            "_________________________________________________________________\n",
            "block1_pool (MaxPooling2D)   (None, 112, 112, 64)      0         \n",
            "_________________________________________________________________\n",
            "block2_conv1 (Conv2D)        (None, 112, 112, 128)     73856     \n",
            "_________________________________________________________________\n",
            "block2_conv2 (Conv2D)        (None, 112, 112, 128)     147584    \n",
            "_________________________________________________________________\n",
            "block2_pool (MaxPooling2D)   (None, 56, 56, 128)       0         \n",
            "_________________________________________________________________\n",
            "block3_conv1 (Conv2D)        (None, 56, 56, 256)       295168    \n",
            "_________________________________________________________________\n",
            "block3_conv2 (Conv2D)        (None, 56, 56, 256)       590080    \n",
            "_________________________________________________________________\n",
            "block3_conv3 (Conv2D)        (None, 56, 56, 256)       590080    \n",
            "_________________________________________________________________\n",
            "block3_pool (MaxPooling2D)   (None, 28, 28, 256)       0         \n",
            "_________________________________________________________________\n",
            "block4_conv1 (Conv2D)        (None, 28, 28, 512)       1180160   \n",
            "_________________________________________________________________\n",
            "block4_conv2 (Conv2D)        (None, 28, 28, 512)       2359808   \n",
            "_________________________________________________________________\n",
            "block4_conv3 (Conv2D)        (None, 28, 28, 512)       2359808   \n",
            "_________________________________________________________________\n",
            "block4_pool (MaxPooling2D)   (None, 14, 14, 512)       0         \n",
            "_________________________________________________________________\n",
            "block5_conv1 (Conv2D)        (None, 14, 14, 512)       2359808   \n",
            "_________________________________________________________________\n",
            "block5_conv2 (Conv2D)        (None, 14, 14, 512)       2359808   \n",
            "_________________________________________________________________\n",
            "block5_conv3 (Conv2D)        (None, 14, 14, 512)       2359808   \n",
            "_________________________________________________________________\n",
            "block5_pool (MaxPooling2D)   (None, 7, 7, 512)         0         \n",
            "_________________________________________________________________\n",
            "flatten_13 (Flatten)         (None, 25088)             0         \n",
            "_________________________________________________________________\n",
            "dense_13 (Dense)             (None, 1)                 25089     \n",
            "=================================================================\n",
            "Total params: 14,739,777\n",
            "Trainable params: 25,089\n",
            "Non-trainable params: 14,714,688\n",
            "_________________________________________________________________\n"
          ],
          "name": "stdout"
        }
      ]
    },
    {
      "cell_type": "code",
      "metadata": {
        "id": "BNB8Rb9t8rn5"
      },
      "source": [
        "from tensorflow.keras.callbacks import ModelCheckpoint, EarlyStopping\n",
        "\n",
        "def get_checkpoint_every_epoch():\n",
        "    \"\"\"\n",
        "    This function should return a ModelCheckpoint object that:\n",
        "    - saves the weights only at the end of every epoch\n",
        "    - saves into a directory called 'checkpoints_every_epoch' inside the current working directory\n",
        "    - generates filenames in that directory like 'checkpoint_XXX' where\n",
        "      XXX is the epoch number formatted to have three digits, e.g. 001, 002, 003, etc.\n",
        "    \"\"\"\n",
        "    checkpoints_every_epoch = '/content/drive/MyDrive/covid_image_data/checkpoints_every_epoch/checkpoint_{epoch:03d}'\n",
        "    checkpoint1 = ModelCheckpoint(filepath=checkpoints_every_epoch,\n",
        "                             frequency='epoch',\n",
        "                             save_weights_only=True,\n",
        "                             verbose=1)\n",
        "    checkpoint2 = EarlyStopping(monitor='val_accuracy', patience=3, restore_best_weights=True)\n",
        "    \n",
        "    return checkpoint1, checkpoint2\n",
        "\n",
        "checkpoint_every_epoch = list(get_checkpoint_every_epoch())"
      ],
      "execution_count": 146,
      "outputs": []
    },
    {
      "cell_type": "code",
      "metadata": {
        "colab": {
          "base_uri": "https://localhost:8080/"
        },
        "id": "vF57cJvPgpPI",
        "outputId": "9fe2a91f-24a6-4037-e77f-354d29dc2ebc"
      },
      "source": [
        "from keras.preprocessing.image import ImageDataGenerator\n",
        "\n",
        "train_datagen = ImageDataGenerator(rescale = 1./255,\n",
        "                                   horizontal_flip = True,\n",
        "                                   vertical_flip=True)\n",
        "\n",
        "test_datagen = ImageDataGenerator(rescale = 1./255)\n",
        "\n",
        "training_set = train_datagen.flow_from_directory('/content/drive/MyDrive/covid_image_data/output/train',\n",
        "                                                 target_size = (224, 224),\n",
        "                                                 batch_size = 16,\n",
        "                                                 class_mode = 'binary')\n",
        "\n",
        "test_set = test_datagen.flow_from_directory('/content/drive/MyDrive/covid_image_data/output/val',\n",
        "                                            target_size = (224, 224),\n",
        "                                            batch_size = 16,\n",
        "                                            class_mode = 'binary')\n",
        "\n",
        "'''r=model.fit_generator(training_set,\n",
        "                         samples_per_epoch = 8000,\n",
        "                         nb_epoch = 5,\n",
        "                         validation_data = test_set,\n",
        "                         nb_val_samples = 2000)\n",
        "\n",
        "\n",
        "es_callback = tf.keras.callbacks.EarlyStopping(monitor='val_loss', patience=2, \n",
        "                                               restore_best_weights=True,\n",
        "                                               verbose=1)'''\n",
        "\n",
        "\n",
        "\n",
        "\n",
        "\n",
        "# fit the model\n",
        "history = model.fit_generator(\n",
        "  training_set,\n",
        "  validation_data=test_set,\n",
        "  epochs=50,\n",
        "  #steps_per_epoch=len(training_set),\n",
        "  #validation_steps=len(test_set),\n",
        "  callbacks=checkpoint_every_epoch\n",
        ")\n",
        "\n",
        "\n"
      ],
      "execution_count": 147,
      "outputs": [
        {
          "output_type": "stream",
          "text": [
            "Found 2334 images belonging to 2 classes.\n",
            "Found 291 images belonging to 2 classes.\n",
            "Epoch 1/50\n",
            "146/146 [==============================] - ETA: 0s - loss: 0.4609 - accuracy: 0.8003\n",
            "Epoch 00001: saving model to /content/drive/MyDrive/covid_image_data/checkpoints_every_epoch/checkpoint_001\n",
            "146/146 [==============================] - 52s 358ms/step - loss: 0.4609 - accuracy: 0.8003 - val_loss: 0.3587 - val_accuracy: 0.8557\n",
            "Epoch 2/50\n",
            "146/146 [==============================] - ETA: 0s - loss: 0.3464 - accuracy: 0.8650\n",
            "Epoch 00002: saving model to /content/drive/MyDrive/covid_image_data/checkpoints_every_epoch/checkpoint_002\n",
            "146/146 [==============================] - 52s 354ms/step - loss: 0.3464 - accuracy: 0.8650 - val_loss: 0.2973 - val_accuracy: 0.8660\n",
            "Epoch 3/50\n",
            "146/146 [==============================] - ETA: 0s - loss: 0.3005 - accuracy: 0.8869\n",
            "Epoch 00003: saving model to /content/drive/MyDrive/covid_image_data/checkpoints_every_epoch/checkpoint_003\n",
            "146/146 [==============================] - 52s 355ms/step - loss: 0.3005 - accuracy: 0.8869 - val_loss: 0.2633 - val_accuracy: 0.8832\n",
            "Epoch 4/50\n",
            "146/146 [==============================] - ETA: 0s - loss: 0.2763 - accuracy: 0.8993\n",
            "Epoch 00004: saving model to /content/drive/MyDrive/covid_image_data/checkpoints_every_epoch/checkpoint_004\n",
            "146/146 [==============================] - 52s 358ms/step - loss: 0.2763 - accuracy: 0.8993 - val_loss: 0.2342 - val_accuracy: 0.9210\n",
            "Epoch 5/50\n",
            "146/146 [==============================] - ETA: 0s - loss: 0.2536 - accuracy: 0.9036\n",
            "Epoch 00005: saving model to /content/drive/MyDrive/covid_image_data/checkpoints_every_epoch/checkpoint_005\n",
            "146/146 [==============================] - 51s 352ms/step - loss: 0.2536 - accuracy: 0.9036 - val_loss: 0.2215 - val_accuracy: 0.9141\n",
            "Epoch 6/50\n",
            "146/146 [==============================] - ETA: 0s - loss: 0.2339 - accuracy: 0.9147\n",
            "Epoch 00006: saving model to /content/drive/MyDrive/covid_image_data/checkpoints_every_epoch/checkpoint_006\n",
            "146/146 [==============================] - 52s 359ms/step - loss: 0.2339 - accuracy: 0.9147 - val_loss: 0.1947 - val_accuracy: 0.9416\n",
            "Epoch 7/50\n",
            "146/146 [==============================] - ETA: 0s - loss: 0.2259 - accuracy: 0.9156\n",
            "Epoch 00007: saving model to /content/drive/MyDrive/covid_image_data/checkpoints_every_epoch/checkpoint_007\n",
            "146/146 [==============================] - 53s 360ms/step - loss: 0.2259 - accuracy: 0.9156 - val_loss: 0.2027 - val_accuracy: 0.9003\n",
            "Epoch 8/50\n",
            "146/146 [==============================] - ETA: 0s - loss: 0.2144 - accuracy: 0.9190\n",
            "Epoch 00008: saving model to /content/drive/MyDrive/covid_image_data/checkpoints_every_epoch/checkpoint_008\n",
            "146/146 [==============================] - 52s 357ms/step - loss: 0.2144 - accuracy: 0.9190 - val_loss: 0.1875 - val_accuracy: 0.9210\n",
            "Epoch 9/50\n",
            "146/146 [==============================] - ETA: 0s - loss: 0.2059 - accuracy: 0.9259\n",
            "Epoch 00009: saving model to /content/drive/MyDrive/covid_image_data/checkpoints_every_epoch/checkpoint_009\n",
            "146/146 [==============================] - 53s 362ms/step - loss: 0.2059 - accuracy: 0.9259 - val_loss: 0.1624 - val_accuracy: 0.9519\n",
            "Epoch 10/50\n",
            "146/146 [==============================] - ETA: 0s - loss: 0.1990 - accuracy: 0.9297\n",
            "Epoch 00010: saving model to /content/drive/MyDrive/covid_image_data/checkpoints_every_epoch/checkpoint_010\n",
            "146/146 [==============================] - 52s 358ms/step - loss: 0.1990 - accuracy: 0.9297 - val_loss: 0.1690 - val_accuracy: 0.9450\n",
            "Epoch 11/50\n",
            "146/146 [==============================] - ETA: 0s - loss: 0.1929 - accuracy: 0.9319\n",
            "Epoch 00011: saving model to /content/drive/MyDrive/covid_image_data/checkpoints_every_epoch/checkpoint_011\n",
            "146/146 [==============================] - 52s 360ms/step - loss: 0.1929 - accuracy: 0.9319 - val_loss: 0.1548 - val_accuracy: 0.9588\n",
            "Epoch 12/50\n",
            "146/146 [==============================] - ETA: 0s - loss: 0.1882 - accuracy: 0.9327\n",
            "Epoch 00012: saving model to /content/drive/MyDrive/covid_image_data/checkpoints_every_epoch/checkpoint_012\n",
            "146/146 [==============================] - 53s 362ms/step - loss: 0.1882 - accuracy: 0.9327 - val_loss: 0.1623 - val_accuracy: 0.9313\n",
            "Epoch 13/50\n",
            "146/146 [==============================] - ETA: 0s - loss: 0.1805 - accuracy: 0.9374\n",
            "Epoch 00013: saving model to /content/drive/MyDrive/covid_image_data/checkpoints_every_epoch/checkpoint_013\n",
            "146/146 [==============================] - 52s 357ms/step - loss: 0.1805 - accuracy: 0.9374 - val_loss: 0.1479 - val_accuracy: 0.9553\n",
            "Epoch 14/50\n",
            "146/146 [==============================] - ETA: 0s - loss: 0.1702 - accuracy: 0.9409\n",
            "Epoch 00014: saving model to /content/drive/MyDrive/covid_image_data/checkpoints_every_epoch/checkpoint_014\n",
            "146/146 [==============================] - 52s 356ms/step - loss: 0.1702 - accuracy: 0.9409 - val_loss: 0.1407 - val_accuracy: 0.9553\n"
          ],
          "name": "stdout"
        }
      ]
    },
    {
      "cell_type": "code",
      "metadata": {
        "colab": {
          "base_uri": "https://localhost:8080/",
          "height": 295
        },
        "id": "iWFJXXob7V1X",
        "outputId": "6d4602bb-b146-41e2-c758-194c2b8426e0"
      },
      "source": [
        "try:\n",
        "    plt.plot(history.history['accuracy'])\n",
        "    plt.plot(history.history['val_accuracy'])\n",
        "except KeyError:\n",
        "    plt.plot(history.history['acc'])\n",
        "    plt.plot(history.history['val_acc'])\n",
        "plt.title('Accuracy vs. epochs')\n",
        "plt.ylabel('Loss')\n",
        "plt.xlabel('Epoch')\n",
        "plt.legend(['Training', 'Validation'], loc='lower right')\n",
        "plt.show()"
      ],
      "execution_count": 161,
      "outputs": [
        {
          "output_type": "display_data",
          "data": {
            "image/png": "[encoded data removed]",
            "text/plain": [
              "<Figure size 432x288 with 1 Axes>"
            ]
          },
          "metadata": {
            "tags": [],
            "needs_background": "light"
          }
        }
      ]
    },
    {
      "cell_type": "code",
      "metadata": {
        "colab": {
          "base_uri": "https://localhost:8080/",
          "height": 295
        },
        "id": "QJwgkxhi7bbl",
        "outputId": "6fe5083f-e0d5-4ee5-b0d1-4349683bd820"
      },
      "source": [
        "#Run this cell to plot the epoch vs loss graph\n",
        "plt.plot(history.history['loss'])\n",
        "plt.plot(history.history['val_loss'])\n",
        "plt.title('Loss vs. epochs')\n",
        "plt.ylabel('Loss')\n",
        "plt.xlabel('Epoch')\n",
        "plt.legend(['Training', 'Validation'], loc='upper right')\n",
        "plt.show() "
      ],
      "execution_count": 162,
      "outputs": [
        {
          "output_type": "display_data",
          "data": {
            "image/png": "[encoded data removed]",
            "text/plain": [
              "<Figure size 432x288 with 1 Axes>"
            ]
          },
          "metadata": {
            "tags": [],
            "needs_background": "light"
          }
        }
      ]
    },
    {
      "cell_type": "markdown",
      "metadata": {
        "id": "6qXtwib3IxqJ"
      },
      "source": [
        "### ResNet 50"
      ]
    },
    {
      "cell_type": "code",
      "metadata": {
        "id": "VhPnCMjRIxVh"
      },
      "source": [
        "from keras.applications.resnet50 import ResNet50"
      ],
      "execution_count": 59,
      "outputs": []
    },
    {
      "cell_type": "code",
      "metadata": {
        "id": "Y7myrzN0IxI8"
      },
      "source": [
        "\n",
        "from tensorflow.keras.optimizers import RMSprop\n",
        "IMAGE_SIZE = [224, 224]\n",
        "\n",
        "train_path = '/content/drive/MyDrive/covid_image_data/output/train'\n",
        "valid_path = '/content/drive/MyDrive/covid_image_data/output/val'\n",
        "\n",
        "\n",
        "resn = ResNet50(input_shape=IMAGE_SIZE + [3], weights='imagenet', include_top=False)\n",
        "\n",
        "# don't train existing weights\n",
        "for layer in resn.layers:\n",
        "    layer.trainable = False\n",
        "  \n",
        "\n",
        "  \n",
        "  # useful for getting number of classes\n",
        "folders = glob('/content/drive/MyDrive/covid_image_data/output/train/*')\n",
        "  \n",
        "\n",
        "# our layers - you can add more if you want\n",
        "x = Flatten()(resn.output)\n",
        "# x = Dense(1000, activation='relu')(x)\n",
        "prediction = Dense(1, activation='sigmoid')(x)\n",
        "\n",
        "# create a model object\n",
        "model1 = Model(inputs=resn.input, outputs=prediction)\n",
        "\n",
        "# view the structure of the model\n",
        "#model1.summary()\n",
        "\n",
        "# tell the model what cost and optimization method to use\n",
        "model1.compile(\n",
        "  loss='binary_crossentropy',\n",
        "  optimizer=RMSprop(lr=0.0001),\n",
        "  metrics=['accuracy']\n",
        ")"
      ],
      "execution_count": 79,
      "outputs": []
    },
    {
      "cell_type": "code",
      "metadata": {
        "id": "00WNmvj2LrDV"
      },
      "source": [
        "from tensorflow.keras.callbacks import ModelCheckpoint, EarlyStopping\n",
        "\n",
        "def get_checkpoint_every_epoch():\n",
        "    \"\"\"\n",
        "    This function should return a ModelCheckpoint object that:\n",
        "    - saves the weights only at the end of every epoch\n",
        "    - saves into a directory called 'checkpoints_every_epoch' inside the current working directory\n",
        "    - generates filenames in that directory like 'checkpoint_XXX' where\n",
        "      XXX is the epoch number formatted to have three digits, e.g. 001, 002, 003, etc.\n",
        "    \"\"\"\n",
        "    checkpoints_every_epoch = '/content/drive/MyDrive/covid_image_data/checkpoints_every_epoch_resnet/checkpoint_{epoch:03d}'\n",
        "    checkpoint1 = ModelCheckpoint(filepath=checkpoints_every_epoch,\n",
        "                             frequency='epoch',\n",
        "                             save_weights_only=True,\n",
        "                             verbose=1)\n",
        "    checkpoint2 = EarlyStopping(monitor='val_accuracy', patience=3)\n",
        "    \n",
        "    return checkpoint1, checkpoint2\n",
        "\n",
        "checkpoint_every_epoch = list(get_checkpoint_every_epoch())"
      ],
      "execution_count": 62,
      "outputs": []
    },
    {
      "cell_type": "code",
      "metadata": {
        "id": "MCoj8h8vLYEJ",
        "outputId": "410cda62-dab0-4c76-a063-ffdabd827a62",
        "colab": {
          "base_uri": "https://localhost:8080/"
        }
      },
      "source": [
        "\n",
        "train_datagen = ImageDataGenerator(rescale = 1./255,\n",
        "                                   horizontal_flip = True,\n",
        "                                   vertical_flip=True)\n",
        "\n",
        "test_datagen = ImageDataGenerator(rescale = 1./255)\n",
        "\n",
        "training_set = train_datagen.flow_from_directory('/content/drive/MyDrive/covid_image_data/output/train',\n",
        "                                                 target_size = (224, 224),\n",
        "                                                 batch_size = 16,\n",
        "                                                 class_mode = 'binary')\n",
        "\n",
        "test_set = test_datagen.flow_from_directory('/content/drive/MyDrive/covid_image_data/output/val',\n",
        "                                            target_size = (224, 224),\n",
        "                                            batch_size = 16,\n",
        "                                            class_mode = 'binary')\n",
        "\n",
        "'''r=model.fit_generator(training_set,\n",
        "                         samples_per_epoch = 8000,\n",
        "                         nb_epoch = 5,\n",
        "                         validation_data = test_set,\n",
        "                         nb_val_samples = 2000)'''\n",
        "\n",
        "# fit the model\n",
        "history = model1.fit_generator(\n",
        "  training_set,\n",
        "  validation_data=test_set,\n",
        "  epochs=50,\n",
        "  steps_per_epoch=len(training_set),\n",
        "  validation_steps=len(test_set),\n",
        "  callbacks=checkpoint_every_epoch\n",
        ")\n",
        "\n",
        "\n"
      ],
      "execution_count": 88,
      "outputs": [
        {
          "output_type": "stream",
          "text": [
            "Found 2334 images belonging to 2 classes.\n",
            "Found 291 images belonging to 2 classes.\n",
            "Epoch 1/50\n",
            "146/146 [==============================] - ETA: 0s - loss: 0.3837 - accuracy: 0.8333\n",
            "Epoch 00001: saving model to /content/drive/MyDrive/covid_image_data/checkpoints_every_epoch_resnet/checkpoint_001\n",
            "146/146 [==============================] - 52s 358ms/step - loss: 0.3837 - accuracy: 0.8333 - val_loss: 0.3586 - val_accuracy: 0.8557\n",
            "Epoch 2/50\n",
            "146/146 [==============================] - ETA: 0s - loss: 0.3731 - accuracy: 0.8299\n",
            "Epoch 00002: saving model to /content/drive/MyDrive/covid_image_data/checkpoints_every_epoch_resnet/checkpoint_002\n",
            "146/146 [==============================] - 52s 359ms/step - loss: 0.3731 - accuracy: 0.8299 - val_loss: 0.3645 - val_accuracy: 0.8419\n",
            "Epoch 3/50\n",
            "146/146 [==============================] - ETA: 0s - loss: 0.3616 - accuracy: 0.8449\n",
            "Epoch 00003: saving model to /content/drive/MyDrive/covid_image_data/checkpoints_every_epoch_resnet/checkpoint_003\n",
            "146/146 [==============================] - 52s 356ms/step - loss: 0.3616 - accuracy: 0.8449 - val_loss: 0.3386 - val_accuracy: 0.8763\n",
            "Epoch 4/50\n",
            "146/146 [==============================] - ETA: 0s - loss: 0.3596 - accuracy: 0.8436\n",
            "Epoch 00004: saving model to /content/drive/MyDrive/covid_image_data/checkpoints_every_epoch_resnet/checkpoint_004\n",
            "146/146 [==============================] - 52s 355ms/step - loss: 0.3596 - accuracy: 0.8436 - val_loss: 0.3727 - val_accuracy: 0.8351\n",
            "Epoch 5/50\n",
            "146/146 [==============================] - ETA: 0s - loss: 0.3557 - accuracy: 0.8539\n",
            "Epoch 00005: saving model to /content/drive/MyDrive/covid_image_data/checkpoints_every_epoch_resnet/checkpoint_005\n",
            "146/146 [==============================] - 52s 355ms/step - loss: 0.3557 - accuracy: 0.8539 - val_loss: 0.3800 - val_accuracy: 0.8282\n",
            "Epoch 6/50\n",
            "146/146 [==============================] - ETA: 0s - loss: 0.3504 - accuracy: 0.8526\n",
            "Epoch 00006: saving model to /content/drive/MyDrive/covid_image_data/checkpoints_every_epoch_resnet/checkpoint_006\n",
            "146/146 [==============================] - 52s 355ms/step - loss: 0.3504 - accuracy: 0.8526 - val_loss: 0.3536 - val_accuracy: 0.8351\n"
          ],
          "name": "stdout"
        }
      ]
    },
    {
      "cell_type": "code",
      "metadata": {
        "id": "I8umnWjNLjmz",
        "outputId": "c147135b-4ad3-41b1-e3ad-29a83dbaec49",
        "colab": {
          "base_uri": "https://localhost:8080/",
          "height": 295
        }
      },
      "source": [
        "try:\n",
        "    plt.plot(history.history['accuracy'])\n",
        "    plt.plot(history.history['val_accuracy'])\n",
        "except KeyError:\n",
        "    plt.plot(history.history['acc'])\n",
        "    plt.plot(history.history['val_acc'])\n",
        "plt.title('Accuracy vs. epochs')\n",
        "plt.ylabel('Loss')\n",
        "plt.xlabel('Epoch')\n",
        "plt.legend(['Training', 'Validation'], loc='lower right')\n",
        "plt.show()"
      ],
      "execution_count": 89,
      "outputs": [
        {
          "output_type": "display_data",
          "data": {
            "image/png": "[encoded data removed]",
            "text/plain": [
              "<Figure size 432x288 with 1 Axes>"
            ]
          },
          "metadata": {
            "tags": [],
            "needs_background": "light"
          }
        }
      ]
    },
    {
      "cell_type": "code",
      "metadata": {
        "colab": {
          "base_uri": "https://localhost:8080/",
          "height": 295
        },
        "id": "FbHrmc-MNgwu",
        "outputId": "57b4a764-1428-4dd4-f82e-66a61dcd9ce2"
      },
      "source": [
        "#Run this cell to plot the epoch vs loss graph\n",
        "plt.plot(history.history['loss'])\n",
        "plt.plot(history.history['val_loss'])\n",
        "plt.title('Loss vs. epochs')\n",
        "plt.ylabel('Loss')\n",
        "plt.xlabel('Epoch')\n",
        "plt.legend(['Training', 'Validation'], loc='upper right')\n",
        "plt.show() "
      ],
      "execution_count": 90,
      "outputs": [
        {
          "output_type": "display_data",
          "data": {
            "image/png": "[encoded data removed]",
            "text/plain": [
              "<Figure size 432x288 with 1 Axes>"
            ]
          },
          "metadata": {
            "tags": [],
            "needs_background": "light"
          }
        }
      ]
    },
    {
      "cell_type": "markdown",
      "metadata": {
        "id": "tpksrxBrPAyg"
      },
      "source": [
        "### Inception V3"
      ]
    },
    {
      "cell_type": "code",
      "metadata": {
        "id": "1Di3fd9oO_t7"
      },
      "source": [
        "from tensorflow.keras.applications.inception_v3 import InceptionV3"
      ],
      "execution_count": 78,
      "outputs": []
    },
    {
      "cell_type": "code",
      "metadata": {
        "id": "vPcxBt69PSsW"
      },
      "source": [
        "from tensorflow.keras.optimizers import RMSprop\n",
        "\n",
        "IMAGE_SIZE = [150, 150]\n",
        "\n",
        "train_path = '/content/drive/MyDrive/covid_image_data/output/train'\n",
        "valid_path = '/content/drive/MyDrive/covid_image_data/output/val'\n",
        "\n",
        "\n",
        "resn = InceptionV3(input_shape=IMAGE_SIZE + [3], weights='imagenet', include_top=False)\n",
        "\n",
        "# don't train existing weights\n",
        "for layer in resn.layers:\n",
        "    layer.trainable = False\n",
        "  \n",
        "\n",
        "  \n",
        "  # useful for getting number of classes\n",
        "folders = glob('/content/drive/MyDrive/covid_image_data/output/train/*')\n",
        "  \n",
        "\n",
        "# our layers - you can add more if you want\n",
        "x = Flatten()(resn.output)\n",
        "# x = Dense(1000, activation='relu')(x)\n",
        "prediction = Dense(len(folders), activation='sigmoid')(x)\n",
        "\n",
        "# create a model object\n",
        "model2 = Model(inputs=resn.input, outputs=prediction)\n",
        "\n",
        "# view the structure of the model\n",
        "model2.summary()\n",
        "\n",
        "# tell the model what cost and optimization method to use\n",
        "model2.compile(\n",
        "  loss='categorical_crossentropy',\n",
        "  optimizer=RMSprop(lr=0.0001),\n",
        "  metrics=['accuracy']\n",
        ")"
      ],
      "execution_count": null,
      "outputs": []
    },
    {
      "cell_type": "code",
      "metadata": {
        "id": "UDqUzv91SXfo"
      },
      "source": [
        "from tensorflow.keras.callbacks import ModelCheckpoint, EarlyStopping\n",
        "\n",
        "def get_checkpoint_every_epoch():\n",
        "    \"\"\"\n",
        "    This function should return a ModelCheckpoint object that:\n",
        "    - saves the weights only at the end of every epoch\n",
        "    - saves into a directory called 'checkpoints_every_epoch' inside the current working directory\n",
        "    - generates filenames in that directory like 'checkpoint_XXX' where\n",
        "      XXX is the epoch number formatted to have three digits, e.g. 001, 002, 003, etc.\n",
        "    \"\"\"\n",
        "    checkpoints_every_epoch = '/content/drive/MyDrive/covid_image_data/checkpoints_every_epoch_inception/checkpoint_{epoch:03d}'\n",
        "    checkpoint1 = ModelCheckpoint(filepath=checkpoints_every_epoch,\n",
        "                             frequency='epoch',\n",
        "                             save_weights_only=True,\n",
        "                             verbose=1)\n",
        "    checkpoint2 = EarlyStopping(monitor='val_accuracy', patience=3)\n",
        "    \n",
        "    return checkpoint1, checkpoint2\n",
        "\n",
        "checkpoint_every_epoch = list(get_checkpoint_every_epoch())"
      ],
      "execution_count": null,
      "outputs": []
    },
    {
      "cell_type": "code",
      "metadata": {
        "id": "Vu5-nlnmPTrn"
      },
      "source": [
        "from keras.preprocessing.image import ImageDataGenerator\n",
        "\n",
        "train_datagen = ImageDataGenerator(rescale = 1./255,\n",
        "                                   horizontal_flip = True,\n",
        "                                   vertical_flip=True)\n",
        "\n",
        "test_datagen = ImageDataGenerator(rescale = 1./255)\n",
        "\n",
        "training_set = train_datagen.flow_from_directory('/content/drive/MyDrive/covid_image_data/output/train',\n",
        "                                                 target_size = (150, 150),\n",
        "                                                 batch_size = 32,\n",
        "                                                 class_mode = 'binary')\n",
        "\n",
        "test_set = test_datagen.flow_from_directory('/content/drive/MyDrive/covid_image_data/output/val',\n",
        "                                            target_size = (150, 150),\n",
        "                                            batch_size = 32,\n",
        "                                            class_mode = 'binary')\n",
        "\n",
        "'''r=model.fit_generator(training_set,\n",
        "                         samples_per_epoch = 8000,\n",
        "                         nb_epoch = 5,\n",
        "                         validation_data = test_set,\n",
        "                         nb_val_samples = 2000)'''\n",
        "\n",
        "\n",
        "es_callback = tf.keras.callbacks.EarlyStopping(monitor='val_loss', patience=2, \n",
        "                                               restore_best_weights=True,\n",
        "                                               verbose=1)\n",
        "\n",
        "\n",
        "\n",
        "\n",
        "\n",
        "# fit the model\n",
        "history = model2.fit_generator(\n",
        "  training_set,\n",
        "  validation_data=test_set,\n",
        "  epochs=50,\n",
        "  steps_per_epoch=len(training_set),\n",
        "  validation_steps=len(test_set),\n",
        "  callbacks=checkpoint_every_epoch\n",
        ")\n",
        "\n",
        "\n"
      ],
      "execution_count": null,
      "outputs": []
    },
    {
      "cell_type": "code",
      "metadata": {
        "id": "IWGcndW3PAYL"
      },
      "source": [
        "try:\n",
        "    plt.plot(history.history['accuracy'])\n",
        "    plt.plot(history.history['val_accuracy'])\n",
        "except KeyError:\n",
        "    plt.plot(history.history['acc'])\n",
        "    plt.plot(history.history['val_acc'])\n",
        "plt.title('Accuracy vs. epochs')\n",
        "plt.ylabel('Loss')\n",
        "plt.xlabel('Epoch')\n",
        "plt.legend(['Training', 'Validation'], loc='lower right')\n",
        "plt.show()"
      ],
      "execution_count": null,
      "outputs": []
    },
    {
      "cell_type": "code",
      "metadata": {
        "id": "uOm3rY_3PDF4"
      },
      "source": [
        "#Run this cell to plot the epoch vs loss graph\n",
        "plt.plot(history.history['loss'])\n",
        "plt.plot(history.history['val_loss'])\n",
        "plt.title('Loss vs. epochs')\n",
        "plt.ylabel('Loss')\n",
        "plt.xlabel('Epoch')\n",
        "plt.legend(['Training', 'Validation'], loc='upper right')\n",
        "plt.show() "
      ],
      "execution_count": null,
      "outputs": []
    },
    {
      "cell_type": "markdown",
      "metadata": {
        "id": "YwFZuCW0R7jh"
      },
      "source": [
        "### EfficientNet"
      ]
    },
    {
      "cell_type": "code",
      "metadata": {
        "id": "LxCRMpqoR7Sp"
      },
      "source": [
        ""
      ],
      "execution_count": null,
      "outputs": []
    },
    {
      "cell_type": "code",
      "metadata": {
        "id": "UcDVb0O5R7HY"
      },
      "source": [
        ""
      ],
      "execution_count": null,
      "outputs": []
    },
    {
      "cell_type": "markdown",
      "metadata": {
        "id": "39OFT5oKoLbm"
      },
      "source": [
        "## Testing"
      ]
    },
    {
      "cell_type": "code",
      "metadata": {
        "colab": {
          "base_uri": "https://localhost:8080/",
          "height": 195
        },
        "id": "vORRR7ASmmcb",
        "outputId": "4f3d87f3-a86c-49e4-d498-496ac587327e"
      },
      "source": [
        "df_testing = pd.read_csv('/content/drive/MyDrive/covid_image_data/Testing_set_covid.csv')\n",
        "df_testing.head()"
      ],
      "execution_count": 41,
      "outputs": [
        {
          "output_type": "execute_result",
          "data": {
            "text/html": [
              "<div>\n",
              "<style scoped>\n",
              "    .dataframe tbody tr th:only-of-type {\n",
              "        vertical-align: middle;\n",
              "    }\n",
              "\n",
              "    .dataframe tbody tr th {\n",
              "        vertical-align: top;\n",
              "    }\n",
              "\n",
              "    .dataframe thead th {\n",
              "        text-align: right;\n",
              "    }\n",
              "</style>\n",
              "<table border=\"1\" class=\"dataframe\">\n",
              "  <thead>\n",
              "    <tr style=\"text-align: right;\">\n",
              "      <th></th>\n",
              "      <th>filename</th>\n",
              "    </tr>\n",
              "  </thead>\n",
              "  <tbody>\n",
              "    <tr>\n",
              "      <th>0</th>\n",
              "      <td>Image_1.jpg</td>\n",
              "    </tr>\n",
              "    <tr>\n",
              "      <th>1</th>\n",
              "      <td>Image_2.jpg</td>\n",
              "    </tr>\n",
              "    <tr>\n",
              "      <th>2</th>\n",
              "      <td>Image_3.jpg</td>\n",
              "    </tr>\n",
              "    <tr>\n",
              "      <th>3</th>\n",
              "      <td>Image_4.jpg</td>\n",
              "    </tr>\n",
              "    <tr>\n",
              "      <th>4</th>\n",
              "      <td>Image_5.jpg</td>\n",
              "    </tr>\n",
              "  </tbody>\n",
              "</table>\n",
              "</div>"
            ],
            "text/plain": [
              "      filename\n",
              "0  Image_1.jpg\n",
              "1  Image_2.jpg\n",
              "2  Image_3.jpg\n",
              "3  Image_4.jpg\n",
              "4  Image_5.jpg"
            ]
          },
          "metadata": {
            "tags": []
          },
          "execution_count": 41
        }
      ]
    },
    {
      "cell_type": "code",
      "metadata": {
        "colab": {
          "base_uri": "https://localhost:8080/",
          "height": 402
        },
        "id": "bBWbIbLjhLy9",
        "outputId": "c1bbfb60-4984-45e5-8197-28201e392a9c"
      },
      "source": [
        "images_testing = [[fname, '/content/drive/MyDrive/covid_image_data/test/' + fname[:-4] + '.jpg'] for fname in df_testing['filename']]\n",
        "images_testing = pd.DataFrame(images_testing)\n",
        "images_testing.columns = ['filename', 'file']\n",
        "images_testing"
      ],
      "execution_count": 42,
      "outputs": [
        {
          "output_type": "execute_result",
          "data": {
            "text/html": [
              "<div>\n",
              "<style scoped>\n",
              "    .dataframe tbody tr th:only-of-type {\n",
              "        vertical-align: middle;\n",
              "    }\n",
              "\n",
              "    .dataframe tbody tr th {\n",
              "        vertical-align: top;\n",
              "    }\n",
              "\n",
              "    .dataframe thead th {\n",
              "        text-align: right;\n",
              "    }\n",
              "</style>\n",
              "<table border=\"1\" class=\"dataframe\">\n",
              "  <thead>\n",
              "    <tr style=\"text-align: right;\">\n",
              "      <th></th>\n",
              "      <th>filename</th>\n",
              "      <th>file</th>\n",
              "    </tr>\n",
              "  </thead>\n",
              "  <tbody>\n",
              "    <tr>\n",
              "      <th>0</th>\n",
              "      <td>Image_1.jpg</td>\n",
              "      <td>/content/drive/MyDrive/covid_image_data/test/I...</td>\n",
              "    </tr>\n",
              "    <tr>\n",
              "      <th>1</th>\n",
              "      <td>Image_2.jpg</td>\n",
              "      <td>/content/drive/MyDrive/covid_image_data/test/I...</td>\n",
              "    </tr>\n",
              "    <tr>\n",
              "      <th>2</th>\n",
              "      <td>Image_3.jpg</td>\n",
              "      <td>/content/drive/MyDrive/covid_image_data/test/I...</td>\n",
              "    </tr>\n",
              "    <tr>\n",
              "      <th>3</th>\n",
              "      <td>Image_4.jpg</td>\n",
              "      <td>/content/drive/MyDrive/covid_image_data/test/I...</td>\n",
              "    </tr>\n",
              "    <tr>\n",
              "      <th>4</th>\n",
              "      <td>Image_5.jpg</td>\n",
              "      <td>/content/drive/MyDrive/covid_image_data/test/I...</td>\n",
              "    </tr>\n",
              "    <tr>\n",
              "      <th>...</th>\n",
              "      <td>...</td>\n",
              "      <td>...</td>\n",
              "    </tr>\n",
              "    <tr>\n",
              "      <th>865</th>\n",
              "      <td>Image_866.jpg</td>\n",
              "      <td>/content/drive/MyDrive/covid_image_data/test/I...</td>\n",
              "    </tr>\n",
              "    <tr>\n",
              "      <th>866</th>\n",
              "      <td>Image_867.jpg</td>\n",
              "      <td>/content/drive/MyDrive/covid_image_data/test/I...</td>\n",
              "    </tr>\n",
              "    <tr>\n",
              "      <th>867</th>\n",
              "      <td>Image_868.jpg</td>\n",
              "      <td>/content/drive/MyDrive/covid_image_data/test/I...</td>\n",
              "    </tr>\n",
              "    <tr>\n",
              "      <th>868</th>\n",
              "      <td>Image_869.jpg</td>\n",
              "      <td>/content/drive/MyDrive/covid_image_data/test/I...</td>\n",
              "    </tr>\n",
              "    <tr>\n",
              "      <th>869</th>\n",
              "      <td>Image_870.jpg</td>\n",
              "      <td>/content/drive/MyDrive/covid_image_data/test/I...</td>\n",
              "    </tr>\n",
              "  </tbody>\n",
              "</table>\n",
              "<p>870 rows × 2 columns</p>\n",
              "</div>"
            ],
            "text/plain": [
              "          filename                                               file\n",
              "0      Image_1.jpg  /content/drive/MyDrive/covid_image_data/test/I...\n",
              "1      Image_2.jpg  /content/drive/MyDrive/covid_image_data/test/I...\n",
              "2      Image_3.jpg  /content/drive/MyDrive/covid_image_data/test/I...\n",
              "3      Image_4.jpg  /content/drive/MyDrive/covid_image_data/test/I...\n",
              "4      Image_5.jpg  /content/drive/MyDrive/covid_image_data/test/I...\n",
              "..             ...                                                ...\n",
              "865  Image_866.jpg  /content/drive/MyDrive/covid_image_data/test/I...\n",
              "866  Image_867.jpg  /content/drive/MyDrive/covid_image_data/test/I...\n",
              "867  Image_868.jpg  /content/drive/MyDrive/covid_image_data/test/I...\n",
              "868  Image_869.jpg  /content/drive/MyDrive/covid_image_data/test/I...\n",
              "869  Image_870.jpg  /content/drive/MyDrive/covid_image_data/test/I...\n",
              "\n",
              "[870 rows x 2 columns]"
            ]
          },
          "metadata": {
            "tags": []
          },
          "execution_count": 42
        }
      ]
    },
    {
      "cell_type": "code",
      "metadata": {
        "colab": {
          "base_uri": "https://localhost:8080/"
        },
        "id": "mytCnodUnUj1",
        "outputId": "4c8904bb-e06d-4dd8-ce1b-4ae5d7ddff7e"
      },
      "source": [
        "from tqdm import tqdm\n",
        "from keras.preprocessing.image import ImageDataGenerator, load_img, img_to_array\n",
        "test_image = []\n",
        "for i in tqdm(range(images_testing.shape[0])):\n",
        "    img = load_img(images_testing['file'][i], target_size=(224, 224, 3), grayscale=False)\n",
        "    img = img_to_array(img)\n",
        "    img = img/255\n",
        "    test_image.append(img)\n",
        "X = np.array(test_image)"
      ],
      "execution_count": 43,
      "outputs": [
        {
          "output_type": "stream",
          "text": [
            "100%|██████████| 870/870 [07:16<00:00,  1.99it/s]\n"
          ],
          "name": "stderr"
        }
      ]
    },
    {
      "cell_type": "code",
      "metadata": {
        "id": "yJqJ7T_8nZwU"
      },
      "source": [
        "prediction = model.predict(X)"
      ],
      "execution_count": 163,
      "outputs": []
    },
    {
      "cell_type": "code",
      "metadata": {
        "id": "RqsqwFbIpjXK"
      },
      "source": [
        "K = pd.DataFrame(prediction)"
      ],
      "execution_count": 164,
      "outputs": []
    },
    {
      "cell_type": "code",
      "metadata": {
        "colab": {
          "base_uri": "https://localhost:8080/",
          "height": 195
        },
        "id": "lPO7RHvFHjhb",
        "outputId": "e6c038af-9662-471b-e97b-cc30ac5970a7"
      },
      "source": [
        "K.head()"
      ],
      "execution_count": 165,
      "outputs": [
        {
          "output_type": "execute_result",
          "data": {
            "text/html": [
              "<div>\n",
              "<style scoped>\n",
              "    .dataframe tbody tr th:only-of-type {\n",
              "        vertical-align: middle;\n",
              "    }\n",
              "\n",
              "    .dataframe tbody tr th {\n",
              "        vertical-align: top;\n",
              "    }\n",
              "\n",
              "    .dataframe thead th {\n",
              "        text-align: right;\n",
              "    }\n",
              "</style>\n",
              "<table border=\"1\" class=\"dataframe\">\n",
              "  <thead>\n",
              "    <tr style=\"text-align: right;\">\n",
              "      <th></th>\n",
              "      <th>0</th>\n",
              "    </tr>\n",
              "  </thead>\n",
              "  <tbody>\n",
              "    <tr>\n",
              "      <th>0</th>\n",
              "      <td>0.041533</td>\n",
              "    </tr>\n",
              "    <tr>\n",
              "      <th>1</th>\n",
              "      <td>0.004044</td>\n",
              "    </tr>\n",
              "    <tr>\n",
              "      <th>2</th>\n",
              "      <td>0.992757</td>\n",
              "    </tr>\n",
              "    <tr>\n",
              "      <th>3</th>\n",
              "      <td>0.009889</td>\n",
              "    </tr>\n",
              "    <tr>\n",
              "      <th>4</th>\n",
              "      <td>0.942174</td>\n",
              "    </tr>\n",
              "  </tbody>\n",
              "</table>\n",
              "</div>"
            ],
            "text/plain": [
              "          0\n",
              "0  0.041533\n",
              "1  0.004044\n",
              "2  0.992757\n",
              "3  0.009889\n",
              "4  0.942174"
            ]
          },
          "metadata": {
            "tags": []
          },
          "execution_count": 165
        }
      ]
    },
    {
      "cell_type": "code",
      "metadata": {
        "id": "Tq0ZRZEBHcG1"
      },
      "source": [
        "L = []\n",
        "for i in range(len(K[0])):\n",
        "  if K[0][i] > 0.5:\n",
        "    L.append(1)\n",
        "  else:\n",
        "    L.append(0) "
      ],
      "execution_count": 166,
      "outputs": []
    },
    {
      "cell_type": "code",
      "metadata": {
        "id": "jwY6ZF15H1U8"
      },
      "source": [
        ""
      ],
      "execution_count": 49,
      "outputs": []
    },
    {
      "cell_type": "code",
      "metadata": {
        "colab": {
          "base_uri": "https://localhost:8080/",
          "height": 17
        },
        "id": "6sSKyGF0HsaY",
        "outputId": "af70b701-4e19-481c-ff17-a07c970abeee"
      },
      "source": [
        "# To download the csv file locally\n",
        "from google.colab import files\n",
        "res = pd.DataFrame(L) \n",
        "res.columns = [\"prediction\"]\n",
        "res.to_csv('prediction_results_vgg.csv',index=False)         \n",
        "files.download('prediction_results_vgg.csv')"
      ],
      "execution_count": 167,
      "outputs": [
        {
          "output_type": "display_data",
          "data": {
            "application/javascript": [
              "\n",
              "    async function download(id, filename, size) {\n",
              "      if (!google.colab.kernel.accessAllowed) {\n",
              "        return;\n",
              "      }\n",
              "      const div = document.createElement('div');\n",
              "      const label = document.createElement('label');\n",
              "      label.textContent = `Downloading \"${filename}\": `;\n",
              "      div.appendChild(label);\n",
              "      const progress = document.createElement('progress');\n",
              "      progress.max = size;\n",
              "      div.appendChild(progress);\n",
              "      document.body.appendChild(div);\n",
              "\n",
              "      const buffers = [];\n",
              "      let downloaded = 0;\n",
              "\n",
              "      const channel = await google.colab.kernel.comms.open(id);\n",
              "      // Send a message to notify the kernel that we're ready.\n",
              "      channel.send({})\n",
              "\n",
              "      for await (const message of channel.messages) {\n",
              "        // Send a message to notify the kernel that we're ready.\n",
              "        channel.send({})\n",
              "        if (message.buffers) {\n",
              "          for (const buffer of message.buffers) {\n",
              "            buffers.push(buffer);\n",
              "            downloaded += buffer.byteLength;\n",
              "            progress.value = downloaded;\n",
              "          }\n",
              "        }\n",
              "      }\n",
              "      const blob = new Blob(buffers, {type: 'application/binary'});\n",
              "      const a = document.createElement('a');\n",
              "      a.href = window.URL.createObjectURL(blob);\n",
              "      a.download = filename;\n",
              "      div.appendChild(a);\n",
              "      a.click();\n",
              "      div.remove();\n",
              "    }\n",
              "  "
            ],
            "text/plain": [
              "<IPython.core.display.Javascript object>"
            ]
          },
          "metadata": {
            "tags": []
          }
        },
        {
          "output_type": "display_data",
          "data": {
            "application/javascript": [
              "download(\"download_4c8cfdad-c378-40ed-a708-01a1dfe95e6f\", \"prediction_results_vgg.csv\", 1751)"
            ],
            "text/plain": [
              "<IPython.core.display.Javascript object>"
            ]
          },
          "metadata": {
            "tags": []
          }
        }
      ]
    }
  ]
}
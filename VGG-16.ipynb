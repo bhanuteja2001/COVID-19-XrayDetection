{
 "cells": [
  {
   "cell_type": "code",
   "execution_count": 3,
   "id": "e3717519",
   "metadata": {},
   "outputs": [],
   "source": [
    "import pandas as pd # Data analysis and manipultion tool\n",
    "import numpy as np # Fundamental package for linear algebra and multidimensional arrays\n",
    "import tensorflow as tf # Deep Learning Tool\n",
    "import os # OS module in Python provides a way of using operating system dependent functionality\n",
    "import cv2 # Library for image processing\n",
    "from sklearn.model_selection import train_test_split # For splitting the data into train and validation set\n",
    "from sklearn.metrics import f1_score\n",
    "import matplotlib.pyplot as plt\n",
    "import seaborn as sns"
   ]
  },
  {
   "cell_type": "code",
   "execution_count": 4,
   "id": "8b8b084c",
   "metadata": {},
   "outputs": [],
   "source": [
    "from imutils import build_montages\n",
    "from imutils import paths\n",
    "import random\n",
    "import cv2"
   ]
  },
  {
   "cell_type": "code",
   "execution_count": 5,
   "id": "031389d0",
   "metadata": {},
   "outputs": [],
   "source": [
    "imagePaths = list(paths.list_images(\"G:\\PYTHON\\Final year project\\Final\\covid_image_data\\covid_image_data\\train\"))\n",
    "random.shuffle(imagePaths)\n",
    "imagePaths = imagePaths[:21]"
   ]
  },
  {
   "cell_type": "code",
   "execution_count": 6,
   "id": "178128f7",
   "metadata": {},
   "outputs": [],
   "source": [
    "# initialize the list of images\n",
    "images = []\n",
    "# loop over the list of image paths\n",
    "for imagePath in imagePaths:\n",
    "    image = cv2.imread(imagePath)\n",
    "    images.append(image)\n",
    "# load the image and update the list of images\n",
    "# construct the montages for the images\n",
    "montages = build_montages(images, (128, 196), (7, 3))"
   ]
  },
  {
   "cell_type": "code",
   "execution_count": 7,
   "id": "2671442f",
   "metadata": {},
   "outputs": [
    {
     "name": "stdout",
     "output_type": "stream",
     "text": [
      "Number of labels i.e.  3479 matches the number of filenames i.e.  3479\n"
     ]
    },
    {
     "data": {
      "text/html": [
       "<div>\n",
       "<style scoped>\n",
       "    .dataframe tbody tr th:only-of-type {\n",
       "        vertical-align: middle;\n",
       "    }\n",
       "\n",
       "    .dataframe tbody tr th {\n",
       "        vertical-align: top;\n",
       "    }\n",
       "\n",
       "    .dataframe thead th {\n",
       "        text-align: right;\n",
       "    }\n",
       "</style>\n",
       "<table border=\"1\" class=\"dataframe\">\n",
       "  <thead>\n",
       "    <tr style=\"text-align: right;\">\n",
       "      <th></th>\n",
       "      <th>filename</th>\n",
       "      <th>filepaths</th>\n",
       "      <th>label</th>\n",
       "    </tr>\n",
       "  </thead>\n",
       "  <tbody>\n",
       "    <tr>\n",
       "      <th>0</th>\n",
       "      <td>Image_1.jpg</td>\n",
       "      <td>G:/PYTHON/Final year project/Final/covid_image...</td>\n",
       "      <td>1</td>\n",
       "    </tr>\n",
       "    <tr>\n",
       "      <th>1</th>\n",
       "      <td>Image_2.jpg</td>\n",
       "      <td>G:/PYTHON/Final year project/Final/covid_image...</td>\n",
       "      <td>0</td>\n",
       "    </tr>\n",
       "    <tr>\n",
       "      <th>2</th>\n",
       "      <td>Image_3.jpg</td>\n",
       "      <td>G:/PYTHON/Final year project/Final/covid_image...</td>\n",
       "      <td>0</td>\n",
       "    </tr>\n",
       "    <tr>\n",
       "      <th>3</th>\n",
       "      <td>Image_4.jpg</td>\n",
       "      <td>G:/PYTHON/Final year project/Final/covid_image...</td>\n",
       "      <td>0</td>\n",
       "    </tr>\n",
       "    <tr>\n",
       "      <th>4</th>\n",
       "      <td>Image_5.jpg</td>\n",
       "      <td>G:/PYTHON/Final year project/Final/covid_image...</td>\n",
       "      <td>0</td>\n",
       "    </tr>\n",
       "  </tbody>\n",
       "</table>\n",
       "</div>"
      ],
      "text/plain": [
       "      filename                                          filepaths  label\n",
       "0  Image_1.jpg  G:/PYTHON/Final year project/Final/covid_image...      1\n",
       "1  Image_2.jpg  G:/PYTHON/Final year project/Final/covid_image...      0\n",
       "2  Image_3.jpg  G:/PYTHON/Final year project/Final/covid_image...      0\n",
       "3  Image_4.jpg  G:/PYTHON/Final year project/Final/covid_image...      0\n",
       "4  Image_5.jpg  G:/PYTHON/Final year project/Final/covid_image...      0"
      ]
     },
     "execution_count": 7,
     "metadata": {},
     "output_type": "execute_result"
    }
   ],
   "source": [
    "labels = pd.read_csv(\"G:\\PYTHON\\Final year project\\Final\\covid_image_data\\covid_image_data\\Training_set_covid.csv\")\n",
    "\n",
    "labels.head()\n",
    "file_paths = [[fname, 'G:/PYTHON/Final year project/Final/covid_image_data/covid_image_data/train/' + fname] for fname in labels['filename']]\n",
    "\n",
    "if len(labels) == len(file_paths):\n",
    "    print('Number of labels i.e. ', len(labels), 'matches the number of filenames i.e. ', len(file_paths))\n",
    "else:\n",
    "    print('Number of labels does not match the number of filenames')\n",
    "\n",
    "images = pd.DataFrame(file_paths, columns=['filename', 'filepaths'])\n",
    "images.head()\n",
    "\n",
    "\n",
    "train_data = pd.merge(images, labels, how = 'inner', on = 'filename')\n",
    "train_data.head()"
   ]
  },
  {
   "cell_type": "code",
   "execution_count": 8,
   "id": "dce5b8fa",
   "metadata": {},
   "outputs": [
    {
     "data": {
      "text/html": [
       "<div>\n",
       "<style scoped>\n",
       "    .dataframe tbody tr th:only-of-type {\n",
       "        vertical-align: middle;\n",
       "    }\n",
       "\n",
       "    .dataframe tbody tr th {\n",
       "        vertical-align: top;\n",
       "    }\n",
       "\n",
       "    .dataframe thead th {\n",
       "        text-align: right;\n",
       "    }\n",
       "</style>\n",
       "<table border=\"1\" class=\"dataframe\">\n",
       "  <thead>\n",
       "    <tr style=\"text-align: right;\">\n",
       "      <th></th>\n",
       "      <th>filename</th>\n",
       "      <th>filepaths</th>\n",
       "    </tr>\n",
       "  </thead>\n",
       "  <tbody>\n",
       "    <tr>\n",
       "      <th>0</th>\n",
       "      <td>Image_1.jpg</td>\n",
       "      <td>G:/PYTHON/Final year project/Final/covid_image...</td>\n",
       "    </tr>\n",
       "    <tr>\n",
       "      <th>1</th>\n",
       "      <td>Image_2.jpg</td>\n",
       "      <td>G:/PYTHON/Final year project/Final/covid_image...</td>\n",
       "    </tr>\n",
       "    <tr>\n",
       "      <th>2</th>\n",
       "      <td>Image_3.jpg</td>\n",
       "      <td>G:/PYTHON/Final year project/Final/covid_image...</td>\n",
       "    </tr>\n",
       "    <tr>\n",
       "      <th>3</th>\n",
       "      <td>Image_4.jpg</td>\n",
       "      <td>G:/PYTHON/Final year project/Final/covid_image...</td>\n",
       "    </tr>\n",
       "    <tr>\n",
       "      <th>4</th>\n",
       "      <td>Image_5.jpg</td>\n",
       "      <td>G:/PYTHON/Final year project/Final/covid_image...</td>\n",
       "    </tr>\n",
       "  </tbody>\n",
       "</table>\n",
       "</div>"
      ],
      "text/plain": [
       "      filename                                          filepaths\n",
       "0  Image_1.jpg  G:/PYTHON/Final year project/Final/covid_image...\n",
       "1  Image_2.jpg  G:/PYTHON/Final year project/Final/covid_image...\n",
       "2  Image_3.jpg  G:/PYTHON/Final year project/Final/covid_image...\n",
       "3  Image_4.jpg  G:/PYTHON/Final year project/Final/covid_image...\n",
       "4  Image_5.jpg  G:/PYTHON/Final year project/Final/covid_image..."
      ]
     },
     "execution_count": 8,
     "metadata": {},
     "output_type": "execute_result"
    }
   ],
   "source": [
    "test_image_order = pd.read_csv(\"G:\\PYTHON\\Final year project\\Final\\covid_image_data\\covid_image_data\\Testing_set_covid.csv\")\n",
    "test_image_order.head()\n",
    "\n",
    "file_paths_test = [[fname, 'G:/PYTHON/Final year project/Final/covid_image_data/covid_image_data/test/' + fname] for fname in test_image_order['filename']]\n",
    "\n",
    "test_images = pd.DataFrame(file_paths_test, columns=['filename', 'filepaths'])\n",
    "test_images.head()"
   ]
  },
  {
   "cell_type": "code",
   "execution_count": 9,
   "id": "6171bceb",
   "metadata": {},
   "outputs": [],
   "source": [
    "data = []\n",
    "image_size = 224\n",
    "test_pixel_data = []\n",
    "import matplotlib.pyplot as plt\n",
    "\n",
    "for i in range(len(train_data)):\n",
    "    img_array = plt.imread(train_data['filepaths'][i], cv2.COLOR_BGR2RGB)\n",
    "\n",
    "    new_img_array = cv2.resize(img_array, (image_size, image_size))\n",
    "    #new_img_array = cv2.GaussianBlur(new_img_array,(5,5),0)\n",
    "    data.append([new_img_array, train_data['label'][i]])\n"
   ]
  },
  {
   "cell_type": "code",
   "execution_count": 10,
   "id": "5e87eeda",
   "metadata": {},
   "outputs": [],
   "source": [
    "for i in range(len(test_images)):\n",
    "    img_array = cv2.imread(test_images['filepaths'][i], cv2.COLOR_BGR2RGB)\n",
    "    if img_array is None:\n",
    "        print('Wrong path:', test_images['filepaths'][i])\n",
    "    new_img_array = cv2.resize(img_array, (image_size, image_size))\n",
    "    #new_img_array = cv2.GaussianBlur(new_img_array,(5,5),0)\n",
    "    test_pixel_data.append(new_img_array)"
   ]
  },
  {
   "cell_type": "code",
   "execution_count": 11,
   "id": "a87ebedd",
   "metadata": {},
   "outputs": [],
   "source": [
    "np.random.shuffle(data)"
   ]
  },
  {
   "cell_type": "code",
   "execution_count": 12,
   "id": "daa264f4",
   "metadata": {},
   "outputs": [],
   "source": [
    "x = []\n",
    "y = []\n",
    "\n",
    "counter = 406\n",
    "\n",
    "for image in data:\n",
    "    x.append(image[0])\n",
    "    y.append(image[1])\n",
    "\n",
    "# converting x & y to numpy array as they are list\n",
    "x = np.array(x)\n",
    "y = np.array(y)"
   ]
  },
  {
   "cell_type": "code",
   "execution_count": 13,
   "id": "5216b103",
   "metadata": {},
   "outputs": [
    {
     "data": {
      "text/plain": [
       "(array([0, 1], dtype=int64), array([3073,  406], dtype=int64))"
      ]
     },
     "execution_count": 13,
     "metadata": {},
     "output_type": "execute_result"
    }
   ],
   "source": [
    "np.unique(y, return_counts=True)"
   ]
  },
  {
   "cell_type": "code",
   "execution_count": 14,
   "id": "9f912600",
   "metadata": {},
   "outputs": [
    {
     "data": {
      "text/plain": [
       "0    3073\n",
       "1     406\n",
       "dtype: int64"
      ]
     },
     "execution_count": 14,
     "metadata": {},
     "output_type": "execute_result"
    }
   ],
   "source": [
    "pd.Series(y).value_counts()"
   ]
  },
  {
   "cell_type": "code",
   "execution_count": 15,
   "id": "c7596759",
   "metadata": {},
   "outputs": [],
   "source": [
    "X_train, X_val, y_train, y_val = train_test_split(x,y,test_size=0.2, random_state = 42,stratify=y)"
   ]
  },
  {
   "cell_type": "code",
   "execution_count": 16,
   "id": "ce6f0a88",
   "metadata": {},
   "outputs": [
    {
     "name": "stdout",
     "output_type": "stream",
     "text": [
      "(2783, 224, 224, 3) (696, 224, 224, 3) (870, 224, 224, 3)\n"
     ]
    }
   ],
   "source": [
    "test_pixel_data = np.array(test_pixel_data)\n",
    "\n",
    "test_pixel_data = test_pixel_data/255\n",
    "\n",
    "print(X_train.shape,X_val.shape,test_pixel_data.shape)"
   ]
  },
  {
   "cell_type": "code",
   "execution_count": 17,
   "id": "397c62fc",
   "metadata": {},
   "outputs": [],
   "source": [
    "train_datagen = tf.keras.preprocessing.image.ImageDataGenerator(rescale=1.0/255.0)\n",
    "\n",
    "val_datagen = tf.keras.preprocessing.image.ImageDataGenerator(rescale=1.0/255.0)\n",
    "\n",
    "train_generator = train_datagen.flow(X_train,y_train,batch_size=8)\n",
    "\n",
    "val_generator = val_datagen.flow(X_val,y_val,batch_size=8)"
   ]
  },
  {
   "cell_type": "code",
   "execution_count": 18,
   "id": "36e5477f",
   "metadata": {},
   "outputs": [
    {
     "data": {
      "text/plain": [
       "0    0.883621\n",
       "1    0.116379\n",
       "dtype: float64"
      ]
     },
     "execution_count": 18,
     "metadata": {},
     "output_type": "execute_result"
    }
   ],
   "source": [
    "pd.Series(y_val).value_counts(normalize=True)"
   ]
  },
  {
   "cell_type": "code",
   "execution_count": 40,
   "id": "72c73e89",
   "metadata": {},
   "outputs": [
    {
     "name": "stdout",
     "output_type": "stream",
     "text": [
      "(2783, 224, 224, 3) (696, 224, 224, 3)\n"
     ]
    }
   ],
   "source": [
    "print(X_train.shape,X_val.shape)"
   ]
  },
  {
   "cell_type": "code",
   "execution_count": 5,
   "id": "f79b01da",
   "metadata": {},
   "outputs": [],
   "source": [
    "import keras.backend as K\n",
    "\n",
    "def get_f1(y_true, y_pred): #taken from old keras source code\n",
    "    true_positives = K.sum(K.round(K.clip(y_true * y_pred, 0, 1)))\n",
    "    possible_positives = K.sum(K.round(K.clip(y_true, 0, 1)))\n",
    "    predicted_positives = K.sum(K.round(K.clip(y_pred, 0, 1)))\n",
    "    precision = true_positives / (predicted_positives + K.epsilon())\n",
    "    recall = true_positives / (possible_positives + K.epsilon())\n",
    "    f1_val = 2*(precision*recall)/(precision+recall+K.epsilon())\n",
    "    return f1_val"
   ]
  },
  {
   "cell_type": "code",
   "execution_count": 18,
   "id": "12d6dd74",
   "metadata": {},
   "outputs": [],
   "source": [
    "cbs = [tf.keras.callbacks.ReduceLROnPlateau(monitor='val_loss', factor=0.5, patience=1, min_lr=1e-5, verbose=0),\n",
    "tf.keras.callbacks.EarlyStopping(monitor='val_loss', min_delta=1e-6, patience=10, verbose=1, mode='auto')]"
   ]
  },
  {
   "cell_type": "code",
   "execution_count": 19,
   "id": "4b90b5f1",
   "metadata": {},
   "outputs": [],
   "source": [
    "from tensorflow.keras.applications import VGG16,VGG19,NASNetMobile,DenseNet201\n",
    "from keras.layers import *\n",
    "from keras.models import Sequential\n",
    "from keras.regularizers import *\n",
    "from tensorflow.keras.optimizers import Adam"
   ]
  },
  {
   "cell_type": "code",
   "execution_count": 20,
   "id": "0e062b68",
   "metadata": {},
   "outputs": [],
   "source": [
    "def build_model():\n",
    "    model = Sequential()\n",
    "\n",
    "    conv_base = VGG16(input_shape=(224,224,3), include_top=False, pooling='max',weights='imagenet')\n",
    "    model.add(conv_base)\n",
    "    model.add(BatchNormalization())\n",
    "    model.add(Dense(2048, activation='relu', kernel_regularizer=l1_l2(0.01)))\n",
    "    model.add(BatchNormalization())\n",
    "  # model.add(Dense(2048, activation='relu', kernel_regularizer=l1_l2(0.01)))\n",
    "  # model.add(BatchNormalization())\n",
    "  # model.add(Dense(2048, activation='relu', kernel_regularizer=l1_l2(0.01)))\n",
    "  # model.add(BatchNormalization())\n",
    "  # model.add(Dense(1024, activation='relu', kernel_regularizer=l1_l2(0.01)))\n",
    "  # model.add(BatchNormalization())\n",
    "    model.add(Dense(1, activation='sigmoid'))\n",
    "    for layer in model.layers:\n",
    "        layer.trainable = True\n",
    " \n",
    "    model.compile(loss='binary_crossentropy', optimizer=Adam(lr=1e-4), metrics=['accuracy',\"Precision\",\"Recall\"])\n",
    "\n",
    "    return model"
   ]
  },
  {
   "cell_type": "code",
   "execution_count": null,
   "id": "656156f9",
   "metadata": {},
   "outputs": [],
   "source": []
  },
  {
   "cell_type": "code",
   "execution_count": 21,
   "id": "38e74ef0",
   "metadata": {},
   "outputs": [
    {
     "name": "stdout",
     "output_type": "stream",
     "text": [
      "Model: \"sequential\"\n",
      "_________________________________________________________________\n",
      "Layer (type)                 Output Shape              Param #   \n",
      "=================================================================\n",
      "vgg16 (Functional)           (None, 512)               14714688  \n",
      "_________________________________________________________________\n",
      "batch_normalization (BatchNo (None, 512)               2048      \n",
      "_________________________________________________________________\n",
      "dense (Dense)                (None, 2048)              1050624   \n",
      "_________________________________________________________________\n",
      "batch_normalization_1 (Batch (None, 2048)              8192      \n",
      "_________________________________________________________________\n",
      "dense_1 (Dense)              (None, 1)                 2049      \n",
      "=================================================================\n",
      "Total params: 15,777,601\n",
      "Trainable params: 15,772,481\n",
      "Non-trainable params: 5,120\n",
      "_________________________________________________________________\n"
     ]
    },
    {
     "name": "stderr",
     "output_type": "stream",
     "text": [
      "C:\\Users\\Charan Chandra\\anaconda3\\envs\\gputest\\lib\\site-packages\\keras\\optimizer_v2\\optimizer_v2.py:356: UserWarning: The `lr` argument is deprecated, use `learning_rate` instead.\n",
      "  \"The `lr` argument is deprecated, use `learning_rate` instead.\")\n"
     ]
    }
   ],
   "source": [
    "model = build_model()\n",
    "model.summary()"
   ]
  },
  {
   "cell_type": "code",
   "execution_count": 23,
   "id": "55cfd5de",
   "metadata": {},
   "outputs": [
    {
     "name": "stdout",
     "output_type": "stream",
     "text": [
      "Epoch 1/100\n",
      "87/87 [==============================] - 38s 434ms/step - loss: 218.6167 - accuracy: 0.6825 - precision: 0.2464 - recall: 0.8395 - val_loss: 186.8132 - val_accuracy: 0.1136 - val_precision: 0.1136 - val_recall: 1.0000\n",
      "Epoch 2/100\n",
      "87/87 [==============================] - 37s 426ms/step - loss: 156.6008 - accuracy: 0.8233 - precision: 0.4101 - recall: 0.8022 - val_loss: 130.6666 - val_accuracy: 0.1136 - val_precision: 0.1136 - val_recall: 1.0000\n",
      "Epoch 3/100\n",
      "87/87 [==============================] - 34s 386ms/step - loss: 106.3279 - accuracy: 0.8391 - precision: 0.3810 - recall: 0.7273 - val_loss: 85.3420 - val_accuracy: 0.1307 - val_precision: 0.1198 - val_recall: 0.7692\n",
      "Epoch 4/100\n",
      "87/87 [==============================] - 34s 387ms/step - loss: 67.3850 - accuracy: 0.8734 - precision: 0.4435 - recall: 0.7432 - val_loss: 51.6617 - val_accuracy: 0.8977 - val_precision: 0.0000e+00 - val_recall: 0.0000e+00\n",
      "Epoch 5/100\n",
      "87/87 [==============================] - 33s 377ms/step - loss: 39.9798 - accuracy: 0.8534 - precision: 0.3871 - recall: 0.6486 - val_loss: 30.4890 - val_accuracy: 0.3750 - val_precision: 0.1926 - val_recall: 0.9630\n",
      "Epoch 6/100\n",
      "87/87 [==============================] - 32s 368ms/step - loss: 23.6324 - accuracy: 0.8547 - precision: 0.4286 - recall: 0.6506 - val_loss: 18.5318 - val_accuracy: 0.9318 - val_precision: 0.9048 - val_recall: 0.6552\n",
      "Epoch 7/100\n",
      "87/87 [==============================] - 34s 386ms/step - loss: 15.6531 - accuracy: 0.8719 - precision: 0.5405 - recall: 0.7921 - val_loss: 13.3976 - val_accuracy: 0.7898 - val_precision: 0.3898 - val_recall: 0.9583\n",
      "Epoch 8/100\n",
      "87/87 [==============================] - 36s 417ms/step - loss: 11.1827 - accuracy: 0.8835 - precision: 0.5043 - recall: 0.7195 - val_loss: 10.0488 - val_accuracy: 0.5852 - val_precision: 0.0169 - val_recall: 0.0625\n",
      "Epoch 9/100\n",
      "87/87 [==============================] - 38s 434ms/step - loss: 8.4139 - accuracy: 0.8822 - precision: 0.5128 - recall: 0.7059 - val_loss: 7.8281 - val_accuracy: 0.8693 - val_precision: 0.0000e+00 - val_recall: 0.0000e+00\n",
      "Epoch 10/100\n",
      "87/87 [==============================] - 28s 318ms/step - loss: 6.7049 - accuracy: 0.8520 - precision: 0.4298 - recall: 0.6047 - val_loss: 11.3389 - val_accuracy: 0.1250 - val_precision: 0.0888 - val_recall: 1.0000\n",
      "Epoch 11/100\n",
      "87/87 [==============================] - 27s 306ms/step - loss: 5.2030 - accuracy: 0.8736 - precision: 0.4255 - recall: 0.5405 - val_loss: 8.1386 - val_accuracy: 0.1818 - val_precision: 0.1273 - val_recall: 1.0000\n",
      "Epoch 12/100\n",
      "87/87 [==============================] - 36s 416ms/step - loss: 4.5080 - accuracy: 0.9109 - precision: 0.4861 - recall: 0.5833 - val_loss: 6.8574 - val_accuracy: 0.0852 - val_precision: 0.0877 - val_recall: 0.7500\n",
      "Epoch 13/100\n",
      "87/87 [==============================] - 28s 326ms/step - loss: 4.2885 - accuracy: 0.8894 - precision: 0.4674 - recall: 0.6056 - val_loss: 3.8929 - val_accuracy: 0.9489 - val_precision: 0.7143 - val_recall: 0.6667\n",
      "Epoch 14/100\n",
      "87/87 [==============================] - 37s 431ms/step - loss: 3.9604 - accuracy: 0.8951 - precision: 0.5524 - recall: 0.6905 - val_loss: 3.8184 - val_accuracy: 0.8920 - val_precision: 0.5152 - val_recall: 0.8500\n",
      "Epoch 15/100\n",
      "87/87 [==============================] - 32s 365ms/step - loss: 3.7643 - accuracy: 0.8836 - precision: 0.5046 - recall: 0.6707 - val_loss: 4.1112 - val_accuracy: 0.6193 - val_precision: 0.2353 - val_recall: 0.9091\n",
      "Epoch 16/100\n",
      "87/87 [==============================] - 36s 410ms/step - loss: 3.5093 - accuracy: 0.9022 - precision: 0.5556 - recall: 0.6410 - val_loss: 3.3657 - val_accuracy: 0.9205 - val_precision: 0.6429 - val_recall: 0.8182\n",
      "Epoch 17/100\n",
      "87/87 [==============================] - 35s 400ms/step - loss: 3.3725 - accuracy: 0.9239 - precision: 0.6750 - recall: 0.6667 - val_loss: 3.2486 - val_accuracy: 0.9205 - val_precision: 0.6364 - val_recall: 0.7000\n",
      "Epoch 18/100\n",
      "87/87 [==============================] - 30s 348ms/step - loss: 3.2466 - accuracy: 0.9066 - precision: 0.5862 - recall: 0.6375 - val_loss: 3.3774 - val_accuracy: 0.8125 - val_precision: 0.3191 - val_recall: 0.9375\n",
      "Epoch 19/100\n",
      "87/87 [==============================] - 37s 429ms/step - loss: 3.1153 - accuracy: 0.9266 - precision: 0.6207 - recall: 0.7500 - val_loss: 3.1660 - val_accuracy: 0.9034 - val_precision: 0.5333 - val_recall: 0.8421\n",
      "Epoch 20/100\n",
      "87/87 [==============================] - 37s 426ms/step - loss: 3.0572 - accuracy: 0.9138 - precision: 0.6571 - recall: 0.7419 - val_loss: 2.9948 - val_accuracy: 0.9205 - val_precision: 0.6087 - val_recall: 0.7368\n",
      "Epoch 21/100\n",
      "87/87 [==============================] - 37s 426ms/step - loss: 2.9690 - accuracy: 0.9239 - precision: 0.5811 - recall: 0.6615 - val_loss: 2.9509 - val_accuracy: 0.9148 - val_precision: 0.6061 - val_recall: 0.9091\n",
      "Epoch 22/100\n",
      "87/87 [==============================] - 37s 426ms/step - loss: 2.8447 - accuracy: 0.9440 - precision: 0.7228 - recall: 0.8690 - val_loss: 3.1543 - val_accuracy: 0.7614 - val_precision: 0.2931 - val_recall: 0.9444\n",
      "Epoch 23/100\n",
      "87/87 [==============================] - 37s 425ms/step - loss: 2.7950 - accuracy: 0.9252 - precision: 0.6667 - recall: 0.7907 - val_loss: 2.7355 - val_accuracy: 0.9318 - val_precision: 0.6667 - val_recall: 0.7368\n",
      "Epoch 24/100\n",
      "87/87 [==============================] - 37s 425ms/step - loss: 2.7468 - accuracy: 0.9296 - precision: 0.6786 - recall: 0.7215 - val_loss: 3.2080 - val_accuracy: 0.7045 - val_precision: 0.2353 - val_recall: 1.0000\n",
      "Epoch 25/100\n",
      "87/87 [==============================] - 37s 425ms/step - loss: 2.6552 - accuracy: 0.9325 - precision: 0.7238 - recall: 0.8085 - val_loss: 2.6470 - val_accuracy: 0.9148 - val_precision: 0.6667 - val_recall: 0.8000\n",
      "Epoch 26/100\n",
      "87/87 [==============================] - 37s 425ms/step - loss: 2.5611 - accuracy: 0.9411 - precision: 0.7188 - recall: 0.8313 - val_loss: 2.5532 - val_accuracy: 0.9034 - val_precision: 0.5217 - val_recall: 0.6667\n",
      "Epoch 27/100\n",
      "87/87 [==============================] - 37s 425ms/step - loss: 2.4780 - accuracy: 0.9424 - precision: 0.7111 - recall: 0.8205 - val_loss: 2.3888 - val_accuracy: 0.9375 - val_precision: 0.7368 - val_recall: 0.7000\n",
      "Epoch 28/100\n",
      "87/87 [==============================] - 37s 425ms/step - loss: 2.4554 - accuracy: 0.9223 - precision: 0.6484 - recall: 0.7284 - val_loss: 2.3239 - val_accuracy: 0.9545 - val_precision: 0.7647 - val_recall: 0.7647\n",
      "Epoch 29/100\n",
      "87/87 [==============================] - 37s 425ms/step - loss: 2.3670 - accuracy: 0.9368 - precision: 0.6632 - recall: 0.8400 - val_loss: 2.3214 - val_accuracy: 0.9545 - val_precision: 0.6818 - val_recall: 0.9375\n",
      "Epoch 30/100\n",
      "87/87 [==============================] - 37s 425ms/step - loss: 2.3016 - accuracy: 0.9382 - precision: 0.7000 - recall: 0.8434 - val_loss: 2.5248 - val_accuracy: 0.7841 - val_precision: 0.3214 - val_recall: 1.0000\n",
      "Epoch 31/100\n",
      "87/87 [==============================] - 37s 425ms/step - loss: 2.2592 - accuracy: 0.9353 - precision: 0.6813 - recall: 0.7949 - val_loss: 2.4602 - val_accuracy: 0.8239 - val_precision: 0.3922 - val_recall: 1.0000\n",
      "Epoch 32/100\n",
      "87/87 [==============================] - 37s 425ms/step - loss: 2.1506 - accuracy: 0.9411 - precision: 0.6742 - recall: 0.8333 - val_loss: 2.2042 - val_accuracy: 0.9205 - val_precision: 0.7500 - val_recall: 0.8000\n",
      "Epoch 33/100\n",
      "87/87 [==============================] - 37s 425ms/step - loss: 2.1389 - accuracy: 0.9397 - precision: 0.7097 - recall: 0.8148 - val_loss: 2.0367 - val_accuracy: 0.9489 - val_precision: 0.7619 - val_recall: 0.8000\n",
      "Epoch 34/100\n",
      "87/87 [==============================] - 37s 425ms/step - loss: 2.0678 - accuracy: 0.9425 - precision: 0.7188 - recall: 0.8415 - val_loss: 6.0459 - val_accuracy: 0.0966 - val_precision: 0.0966 - val_recall: 1.0000\n",
      "Epoch 35/100\n",
      "87/87 [==============================] - 37s 425ms/step - loss: 2.0403 - accuracy: 0.9282 - precision: 0.6264 - recall: 0.7808 - val_loss: 2.6703 - val_accuracy: 0.3977 - val_precision: 0.1654 - val_recall: 1.0000\n",
      "Epoch 36/100\n",
      "87/87 [==============================] - 37s 425ms/step - loss: 1.9474 - accuracy: 0.9410 - precision: 0.6782 - recall: 0.8194 - val_loss: 2.0280 - val_accuracy: 0.9205 - val_precision: 0.6667 - val_recall: 0.8800\n"
     ]
    },
    {
     "name": "stdout",
     "output_type": "stream",
     "text": [
      "Epoch 37/100\n",
      "87/87 [==============================] - 37s 425ms/step - loss: 1.9439 - accuracy: 0.9282 - precision: 0.7019 - recall: 0.7935 - val_loss: 2.3801 - val_accuracy: 0.6932 - val_precision: 0.3117 - val_recall: 0.9600\n",
      "Epoch 38/100\n",
      "87/87 [==============================] - 37s 424ms/step - loss: 1.8978 - accuracy: 0.9237 - precision: 0.6024 - recall: 0.7143 - val_loss: 3.0072 - val_accuracy: 0.1364 - val_precision: 0.1111 - val_recall: 1.0000\n",
      "Epoch 39/100\n",
      "87/87 [==============================] - 37s 425ms/step - loss: 1.8366 - accuracy: 0.9339 - precision: 0.6857 - recall: 0.8471 - val_loss: 1.7815 - val_accuracy: 0.9432 - val_precision: 0.7619 - val_recall: 0.7619\n",
      "Epoch 40/100\n",
      "87/87 [==============================] - 37s 425ms/step - loss: 1.8176 - accuracy: 0.9325 - precision: 0.6882 - recall: 0.7805 - val_loss: 3.2326 - val_accuracy: 0.2670 - val_precision: 0.1513 - val_recall: 1.0000\n",
      "Epoch 41/100\n",
      "87/87 [==============================] - 37s 425ms/step - loss: 1.7695 - accuracy: 0.9282 - precision: 0.6727 - recall: 0.8409 - val_loss: 2.4374 - val_accuracy: 0.4148 - val_precision: 0.1760 - val_recall: 1.0000\n",
      "Epoch 42/100\n",
      "87/87 [==============================] - 37s 424ms/step - loss: 1.7363 - accuracy: 0.9295 - precision: 0.6941 - recall: 0.7195 - val_loss: 2.8182 - val_accuracy: 0.4205 - val_precision: 0.1774 - val_recall: 1.0000\n",
      "Epoch 43/100\n",
      "87/87 [==============================] - 37s 425ms/step - loss: 1.6948 - accuracy: 0.9310 - precision: 0.6632 - recall: 0.7975 - val_loss: 1.5682 - val_accuracy: 0.9602 - val_precision: 1.0000 - val_recall: 0.6316\n",
      "Epoch 44/100\n",
      "87/87 [==============================] - 37s 424ms/step - loss: 1.6383 - accuracy: 0.9339 - precision: 0.6477 - recall: 0.7917 - val_loss: 1.5519 - val_accuracy: 0.9432 - val_precision: 0.8462 - val_recall: 0.5789\n",
      "Epoch 45/100\n",
      "87/87 [==============================] - 37s 425ms/step - loss: 1.5849 - accuracy: 0.9425 - precision: 0.7184 - recall: 0.8706 - val_loss: 3.4159 - val_accuracy: 0.1307 - val_precision: 0.1105 - val_recall: 1.0000\n",
      "Epoch 46/100\n",
      "87/87 [==============================] - 37s 425ms/step - loss: 1.5298 - accuracy: 0.9454 - precision: 0.7159 - recall: 0.8289 - val_loss: 1.8978 - val_accuracy: 0.7670 - val_precision: 0.3594 - val_recall: 1.0000\n",
      "Epoch 47/100\n",
      "87/87 [==============================] - 37s 425ms/step - loss: 1.5204 - accuracy: 0.9382 - precision: 0.6854 - recall: 0.8026 - val_loss: 1.4669 - val_accuracy: 0.8977 - val_precision: 0.6000 - val_recall: 0.3000\n",
      "Epoch 48/100\n",
      "87/87 [==============================] - 37s 428ms/step - loss: 1.5206 - accuracy: 0.9353 - precision: 0.6991 - recall: 0.8778 - val_loss: 1.6893 - val_accuracy: 0.8352 - val_precision: 0.4694 - val_recall: 0.8846\n",
      "Epoch 49/100\n",
      "87/87 [==============================] - 38s 436ms/step - loss: 1.4351 - accuracy: 0.9397 - precision: 0.7064 - recall: 0.8851 - val_loss: 1.5191 - val_accuracy: 0.9034 - val_precision: 1.0000 - val_recall: 0.2273\n",
      "Epoch 50/100\n",
      "87/87 [==============================] - 38s 431ms/step - loss: 1.4190 - accuracy: 0.9296 - precision: 0.6104 - recall: 0.7121 - val_loss: 1.6533 - val_accuracy: 0.8182 - val_precision: 0.4643 - val_recall: 0.9286\n",
      "Epoch 51/100\n",
      "87/87 [==============================] - 31s 359ms/step - loss: 1.4362 - accuracy: 0.9281 - precision: 0.6526 - recall: 0.7848 - val_loss: 1.4932 - val_accuracy: 0.9148 - val_precision: 1.0000 - val_recall: 0.1667\n",
      "Epoch 52/100\n",
      "87/87 [==============================] - 34s 396ms/step - loss: 1.3742 - accuracy: 0.9353 - precision: 0.7113 - recall: 0.8023 - val_loss: 1.2623 - val_accuracy: 0.9716 - val_precision: 0.8571 - val_recall: 0.9000\n",
      "Epoch 53/100\n",
      "87/87 [==============================] - 37s 429ms/step - loss: 1.3491 - accuracy: 0.9239 - precision: 0.6211 - recall: 0.7763 - val_loss: 5.0067 - val_accuracy: 0.1250 - val_precision: 0.1250 - val_recall: 1.0000\n",
      "Epoch 54/100\n",
      "87/87 [==============================] - 37s 426ms/step - loss: 1.3233 - accuracy: 0.9353 - precision: 0.7143 - recall: 0.8046 - val_loss: 1.6511 - val_accuracy: 0.7386 - val_precision: 0.3333 - val_recall: 1.0000\n",
      "Epoch 55/100\n",
      "87/87 [==============================] - 34s 391ms/step - loss: 1.2631 - accuracy: 0.9555 - precision: 0.7604 - recall: 0.9012 - val_loss: 1.1946 - val_accuracy: 0.9716 - val_precision: 1.0000 - val_recall: 0.6667\n",
      "Epoch 56/100\n",
      "87/87 [==============================] - 29s 331ms/step - loss: 1.3019 - accuracy: 0.9267 - precision: 0.6596 - recall: 0.7654 - val_loss: 1.1412 - val_accuracy: 0.9432 - val_precision: 0.8636 - val_recall: 0.7308\n",
      "Epoch 57/100\n",
      "87/87 [==============================] - 31s 359ms/step - loss: 1.2550 - accuracy: 0.9253 - precision: 0.6538 - recall: 0.8095 - val_loss: 5.6486 - val_accuracy: 0.0909 - val_precision: 0.0909 - val_recall: 1.0000\n",
      "Epoch 58/100\n",
      "87/87 [==============================] - 36s 420ms/step - loss: 1.2119 - accuracy: 0.9397 - precision: 0.7100 - recall: 0.8452 - val_loss: 4.0675 - val_accuracy: 0.1307 - val_precision: 0.1307 - val_recall: 1.0000\n",
      "Epoch 59/100\n",
      "87/87 [==============================] - 37s 428ms/step - loss: 1.1979 - accuracy: 0.9339 - precision: 0.6863 - recall: 0.8333 - val_loss: 3.2319 - val_accuracy: 0.1364 - val_precision: 0.1163 - val_recall: 1.0000\n",
      "Epoch 60/100\n",
      "87/87 [==============================] - 37s 421ms/step - loss: 1.1956 - accuracy: 0.9325 - precision: 0.7087 - recall: 0.9000 - val_loss: 1.1344 - val_accuracy: 0.9205 - val_precision: 0.8421 - val_recall: 0.5926\n",
      "Epoch 61/100\n",
      "87/87 [==============================] - 37s 427ms/step - loss: 1.1628 - accuracy: 0.9296 - precision: 0.6735 - recall: 0.7952 - val_loss: 1.3483 - val_accuracy: 0.8295 - val_precision: 0.4118 - val_recall: 1.0000\n",
      "Epoch 62/100\n",
      "87/87 [==============================] - 38s 435ms/step - loss: 1.1131 - accuracy: 0.9454 - precision: 0.7455 - recall: 0.8913 - val_loss: 3.2794 - val_accuracy: 0.1193 - val_precision: 0.1193 - val_recall: 1.0000\n",
      "Epoch 63/100\n",
      "87/87 [==============================] - 37s 426ms/step - loss: 1.1044 - accuracy: 0.9411 - precision: 0.6875 - recall: 0.8571 - val_loss: 1.0809 - val_accuracy: 0.9545 - val_precision: 0.7692 - val_recall: 0.9091\n",
      "Epoch 64/100\n",
      "87/87 [==============================] - 36s 415ms/step - loss: 1.0627 - accuracy: 0.9468 - precision: 0.7174 - recall: 0.8571 - val_loss: 1.2977 - val_accuracy: 0.9091 - val_precision: 0.5000 - val_recall: 0.9375\n",
      "Epoch 65/100\n",
      "87/87 [==============================] - 37s 426ms/step - loss: 1.1003 - accuracy: 0.9353 - precision: 0.7179 - recall: 0.8750 - val_loss: 1.8498 - val_accuracy: 0.3920 - val_precision: 0.1230 - val_recall: 1.0000\n",
      "Epoch 66/100\n",
      "87/87 [==============================] - 37s 426ms/step - loss: 1.0691 - accuracy: 0.9296 - precision: 0.6952 - recall: 0.8111 - val_loss: 1.0454 - val_accuracy: 0.9205 - val_precision: 1.0000 - val_recall: 0.4400\n",
      "Epoch 67/100\n",
      "87/87 [==============================] - 37s 426ms/step - loss: 1.0218 - accuracy: 0.9410 - precision: 0.6702 - recall: 0.8630 - val_loss: 2.4869 - val_accuracy: 0.2727 - val_precision: 0.0986 - val_recall: 1.0000\n",
      "Epoch 68/100\n",
      "87/87 [==============================] - 37s 429ms/step - loss: 1.0316 - accuracy: 0.9397 - precision: 0.7011 - recall: 0.7922 - val_loss: 1.0665 - val_accuracy: 0.9261 - val_precision: 0.6842 - val_recall: 0.9630\n",
      "Epoch 69/100\n",
      "87/87 [==============================] - 37s 426ms/step - loss: 0.9735 - accuracy: 0.9483 - precision: 0.7087 - recall: 0.9241 - val_loss: 2.2490 - val_accuracy: 0.1989 - val_precision: 0.1402 - val_recall: 1.0000\n",
      "Epoch 70/100\n",
      "87/87 [==============================] - 37s 426ms/step - loss: 0.9649 - accuracy: 0.9454 - precision: 0.7400 - recall: 0.8605 - val_loss: 0.9832 - val_accuracy: 0.9261 - val_precision: 0.6923 - val_recall: 0.7826\n",
      "Epoch 71/100\n",
      "87/87 [==============================] - 37s 426ms/step - loss: 0.9171 - accuracy: 0.9526 - precision: 0.7294 - recall: 0.8611 - val_loss: 4.9676 - val_accuracy: 0.1136 - val_precision: 0.1136 - val_recall: 1.0000\n",
      "Epoch 72/100\n",
      "87/87 [==============================] - 37s 426ms/step - loss: 0.9001 - accuracy: 0.9597 - precision: 0.7872 - recall: 0.9024 - val_loss: 1.0751 - val_accuracy: 0.9148 - val_precision: 0.5758 - val_recall: 0.9500\n",
      "Epoch 73/100\n",
      "87/87 [==============================] - 37s 425ms/step - loss: 0.8849 - accuracy: 0.9497 - precision: 0.7294 - recall: 0.8378 - val_loss: 0.8094 - val_accuracy: 0.9545 - val_precision: 1.0000 - val_recall: 0.3846\n",
      "Epoch 74/100\n",
      "87/87 [==============================] - 37s 425ms/step - loss: 0.8782 - accuracy: 0.9497 - precision: 0.7263 - recall: 0.8846 - val_loss: 2.5005 - val_accuracy: 0.1591 - val_precision: 0.1145 - val_recall: 0.9500\n",
      "Epoch 75/100\n",
      "87/87 [==============================] - 37s 425ms/step - loss: 0.8679 - accuracy: 0.9569 - precision: 0.7753 - recall: 0.8734 - val_loss: 0.9269 - val_accuracy: 0.9034 - val_precision: 0.8667 - val_recall: 0.4643\n",
      "Epoch 76/100\n",
      "87/87 [==============================] - 37s 425ms/step - loss: 0.8467 - accuracy: 0.9540 - precision: 0.7692 - recall: 0.9091 - val_loss: 1.1784 - val_accuracy: 0.7784 - val_precision: 0.3158 - val_recall: 1.0000\n",
      "Epoch 77/100\n",
      "87/87 [==============================] - 37s 425ms/step - loss: 0.8212 - accuracy: 0.9483 - precision: 0.7234 - recall: 0.8718 - val_loss: 0.8673 - val_accuracy: 0.9489 - val_precision: 0.7407 - val_recall: 0.9091\n",
      "Epoch 78/100\n",
      "87/87 [==============================] - 37s 425ms/step - loss: 0.8070 - accuracy: 0.9583 - precision: 0.7835 - recall: 0.9048 - val_loss: 4.5797 - val_accuracy: 0.1477 - val_precision: 0.1477 - val_recall: 1.0000\n",
      "Epoch 79/100\n",
      "87/87 [==============================] - 37s 425ms/step - loss: 0.8185 - accuracy: 0.9540 - precision: 0.7849 - recall: 0.8588 - val_loss: 4.0902 - val_accuracy: 0.1136 - val_precision: 0.1136 - val_recall: 1.0000\n",
      "Epoch 80/100\n",
      "87/87 [==============================] - 37s 425ms/step - loss: 0.8124 - accuracy: 0.9454 - precision: 0.7453 - recall: 0.8778 - val_loss: 0.8068 - val_accuracy: 0.9773 - val_precision: 0.8235 - val_recall: 0.9333\n",
      "Epoch 81/100\n",
      "87/87 [==============================] - 37s 427ms/step - loss: 0.7608 - accuracy: 0.9540 - precision: 0.7917 - recall: 0.8636 - val_loss: 0.7390 - val_accuracy: 0.9602 - val_precision: 0.8696 - val_recall: 0.8333\n",
      "Epoch 82/100\n",
      "87/87 [==============================] - 37s 427ms/step - loss: 0.7616 - accuracy: 0.9511 - precision: 0.7822 - recall: 0.8681 - val_loss: 1.4494 - val_accuracy: 0.8636 - val_precision: 0.0000e+00 - val_recall: 0.0000e+00\n",
      "Epoch 83/100\n",
      "87/87 [==============================] - 37s 429ms/step - loss: 0.7606 - accuracy: 0.9338 - precision: 0.6789 - recall: 0.8706 - val_loss: 3.7364 - val_accuracy: 0.1364 - val_precision: 0.1364 - val_recall: 1.0000\n",
      "Epoch 84/100\n",
      "87/87 [==============================] - 34s 392ms/step - loss: 0.7221 - accuracy: 0.9497 - precision: 0.7340 - recall: 0.8734 - val_loss: 2.6476 - val_accuracy: 0.1080 - val_precision: 0.1080 - val_recall: 1.0000\n",
      "Epoch 85/100\n",
      "87/87 [==============================] - 33s 377ms/step - loss: 0.7219 - accuracy: 0.9482 - precision: 0.7051 - recall: 0.8088 - val_loss: 3.9658 - val_accuracy: 0.0852 - val_precision: 0.0852 - val_recall: 1.0000\n",
      "Epoch 86/100\n",
      "87/87 [==============================] - 33s 379ms/step - loss: 0.7302 - accuracy: 0.9568 - precision: 0.8247 - recall: 0.8602 - val_loss: 0.7336 - val_accuracy: 0.9375 - val_precision: 0.6800 - val_recall: 0.8500\n",
      "Epoch 87/100\n",
      "87/87 [==============================] - 95s 1s/step - loss: 0.6988 - accuracy: 0.9482 - precision: 0.6915 - recall: 0.9028 - val_loss: 0.9860 - val_accuracy: 0.8409 - val_precision: 0.3333 - val_recall: 1.0000\n",
      "Epoch 88/100\n",
      "87/87 [==============================] - 95s 1s/step - loss: 0.7008 - accuracy: 0.9454 - precision: 0.7527 - recall: 0.8235 - val_loss: 0.6594 - val_accuracy: 0.9432 - val_precision: 0.7083 - val_recall: 0.8500\n",
      "Epoch 89/100\n",
      "87/87 [==============================] - 88s 1s/step - loss: 0.6507 - accuracy: 0.9540 - precision: 0.7037 - recall: 0.8769 - val_loss: 0.6652 - val_accuracy: 0.9375 - val_precision: 0.6800 - val_recall: 0.8500\n",
      "Epoch 90/100\n",
      "87/87 [==============================] - 85s 978ms/step - loss: 0.6575 - accuracy: 0.9526 - precision: 0.7123 - recall: 0.8125 - val_loss: 4.3430 - val_accuracy: 0.1250 - val_precision: 0.1250 - val_recall: 1.0000\n",
      "Epoch 91/100\n",
      "87/87 [==============================] - 85s 977ms/step - loss: 0.6310 - accuracy: 0.9540 - precision: 0.7742 - recall: 0.8675 - val_loss: 0.9525 - val_accuracy: 0.8693 - val_precision: 0.4390 - val_recall: 1.0000\n",
      "Epoch 92/100\n",
      "87/87 [==============================] - 85s 981ms/step - loss: 0.6191 - accuracy: 0.9583 - precision: 0.7416 - recall: 0.9167 - val_loss: 1.1512 - val_accuracy: 0.8920 - val_precision: 1.0000 - val_recall: 0.1364\n",
      "Epoch 93/100\n",
      "87/87 [==============================] - 84s 967ms/step - loss: 0.6226 - accuracy: 0.9612 - precision: 0.8068 - recall: 0.8765 - val_loss: 0.5704 - val_accuracy: 0.9318 - val_precision: 0.8235 - val_recall: 0.6087\n",
      "Epoch 94/100\n",
      "87/87 [==============================] - 85s 978ms/step - loss: 0.5859 - accuracy: 0.9626 - precision: 0.7711 - recall: 0.9014 - val_loss: 0.7006 - val_accuracy: 0.9261 - val_precision: 1.0000 - val_recall: 0.5000\n",
      "Epoch 95/100\n",
      "87/87 [==============================] - 84s 970ms/step - loss: 0.5732 - accuracy: 0.9641 - precision: 0.7865 - recall: 0.9211 - val_loss: 1.5435 - val_accuracy: 0.4091 - val_precision: 0.1680 - val_recall: 1.0000\n",
      "Epoch 96/100\n",
      "87/87 [==============================] - 79s 914ms/step - loss: 0.5939 - accuracy: 0.9526 - precision: 0.7582 - recall: 0.8625 - val_loss: 2.0369 - val_accuracy: 0.1875 - val_precision: 0.1333 - val_recall: 1.0000\n",
      "Epoch 97/100\n",
      "87/87 [==============================] - 78s 895ms/step - loss: 0.5708 - accuracy: 0.9583 - precision: 0.7808 - recall: 0.8143 - val_loss: 1.1382 - val_accuracy: 0.6761 - val_precision: 0.2400 - val_recall: 1.0000\n",
      "Epoch 98/100\n",
      "87/87 [==============================] - 82s 944ms/step - loss: 0.5959 - accuracy: 0.9497 - precision: 0.7742 - recall: 0.8372 - val_loss: 2.0080 - val_accuracy: 0.2216 - val_precision: 0.1491 - val_recall: 1.0000\n",
      "Epoch 99/100\n",
      "87/87 [==============================] - 82s 938ms/step - loss: 0.5814 - accuracy: 0.9555 - precision: 0.7753 - recall: 0.8625 - val_loss: 0.6075 - val_accuracy: 0.9148 - val_precision: 1.0000 - val_recall: 0.3478\n",
      "Epoch 100/100\n",
      "87/87 [==============================] - 82s 943ms/step - loss: 0.5386 - accuracy: 0.9525 - precision: 0.7500 - recall: 0.8571 - val_loss: 0.6596 - val_accuracy: 0.9034 - val_precision: 0.8182 - val_recall: 0.3750\n"
     ]
    }
   ],
   "source": [
    "with tf.device(\"GPU\"):\n",
    "    model.fit(train_generator,steps_per_epoch=87,epochs=100,validation_data=val_generator,validation_steps=22,callbacks=[cbs],class_weight={0:1,1:2})"
   ]
  },
  {
   "cell_type": "code",
   "execution_count": 136,
   "id": "3f5186f9",
   "metadata": {},
   "outputs": [
    {
     "data": {
      "text/plain": [
       "'1'"
      ]
     },
     "execution_count": 136,
     "metadata": {},
     "output_type": "execute_result"
    }
   ],
   "source": [
    "import os\n",
    "os.environ['CUDA_VISIBLE_DEVICES'] = '1'\n"
   ]
  },
  {
   "cell_type": "code",
   "execution_count": 24,
   "id": "dbf46234",
   "metadata": {},
   "outputs": [],
   "source": [
    "model.save(\"G:\\\\PYTHON\\\\Final year project\\\\Final\\\\covid_image_data\\\\covid_image_data\\\\vgg_16_1.h5\")"
   ]
  },
  {
   "cell_type": "code",
   "execution_count": 23,
   "id": "79d642e5",
   "metadata": {},
   "outputs": [],
   "source": [
    "preds = model.predict(X_val/255.0)\n",
    "predictions = []\n",
    "for i in preds:\n",
    "    if i[0] > 0.5:\n",
    "        predictions.append(1)\n",
    "    else:\n",
    "        predictions.append(0)"
   ]
  },
  {
   "cell_type": "code",
   "execution_count": 24,
   "id": "1d08a59f",
   "metadata": {},
   "outputs": [
    {
     "name": "stdout",
     "output_type": "stream",
     "text": [
      "0.6280991735537189\n",
      "[[613   2]\n",
      " [ 43  38]]\n"
     ]
    }
   ],
   "source": [
    "from sklearn.metrics import f1_score,confusion_matrix\n",
    "print(f1_score(y_val,predictions))\n",
    "print(confusion_matrix(y_val,predictions))"
   ]
  },
  {
   "cell_type": "code",
   "execution_count": 26,
   "id": "1c35f48f",
   "metadata": {},
   "outputs": [
    {
     "name": "stdout",
     "output_type": "stream",
     "text": [
      "              precision    recall  f1-score   support\n",
      "\n",
      "       COVID       0.93      1.00      0.96       615\n",
      "      Normal       0.95      0.47      0.63        81\n",
      "\n",
      "    accuracy                           0.94       696\n",
      "   macro avg       0.94      0.73      0.80       696\n",
      "weighted avg       0.94      0.94      0.93       696\n",
      "\n"
     ]
    }
   ],
   "source": [
    "from sklearn.metrics import confusion_matrix,classification_report\n",
    "target_names = [\"COVID\",\"Normal\"]\n",
    "print(classification_report(y_val,predictions, target_names=target_names))"
   ]
  },
  {
   "cell_type": "code",
   "execution_count": 29,
   "id": "6026c9fa",
   "metadata": {},
   "outputs": [
    {
     "data": {
      "image/png": "[encoded data removed]",
      "text/plain": [
       "<Figure size 540x540 with 1 Axes>"
      ]
     },
     "metadata": {
      "needs_background": "light"
     },
     "output_type": "display_data"
    }
   ],
   "source": [
    "conf_matrix = confusion_matrix(y_val,predictions)\n",
    "fig, ax = plt.subplots(figsize=(7.5, 7.5))\n",
    "ax.matshow(conf_matrix, cmap=plt.cm.Blues, alpha=0.3)\n",
    "for i in range(conf_matrix.shape[0]):\n",
    "    for j in range(conf_matrix.shape[1]):\n",
    "        ax.text(x=j, y=i,s=conf_matrix[i, j], va='center', ha='center', size='xx-large')\n",
    "\n",
    "plt.xlabel('Predictions', fontsize=18)\n",
    "plt.ylabel('Actuals', fontsize=18)\n",
    "plt.title('Confusion Matrix', fontsize=18)\n",
    "plt.show()"
   ]
  },
  {
   "cell_type": "code",
   "execution_count": 21,
   "id": "a434c197",
   "metadata": {},
   "outputs": [],
   "source": [
    "predictions = []\n",
    "for i in preds:\n",
    "    if i[0] > 0.8:\n",
    "        predictions.append(1)\n",
    "    else:\n",
    "        predictions.append(0)"
   ]
  },
  {
   "cell_type": "code",
   "execution_count": 51,
   "id": "2a4fb393",
   "metadata": {},
   "outputs": [
    {
     "data": {
      "text/plain": [
       "0    837\n",
       "1     33\n",
       "dtype: int64"
      ]
     },
     "execution_count": 51,
     "metadata": {},
     "output_type": "execute_result"
    }
   ],
   "source": [
    "pd.Series(predictions).value_counts()"
   ]
  },
  {
   "cell_type": "code",
   "execution_count": null,
   "id": "18905fc9",
   "metadata": {},
   "outputs": [],
   "source": [
    "#print(\"Confidence : \",round(val[0][0]*100,2),\"%\")\n",
    "#print(val)"
   ]
  },
  {
   "cell_type": "code",
   "execution_count": 53,
   "id": "214b6263",
   "metadata": {},
   "outputs": [
    {
     "data": {
      "text/plain": [
       "prediction\n",
       "0             837\n",
       "1              33\n",
       "dtype: int64"
      ]
     },
     "execution_count": 53,
     "metadata": {},
     "output_type": "execute_result"
    }
   ],
   "source": [
    "result = pd.DataFrame(predictions,columns=['prediction'])\n",
    "\n",
    "result.value_counts()"
   ]
  },
  {
   "cell_type": "code",
   "execution_count": null,
   "id": "df93a8bc",
   "metadata": {},
   "outputs": [],
   "source": []
  },
  {
   "cell_type": "code",
   "execution_count": 2,
   "id": "812b4ea5",
   "metadata": {},
   "outputs": [],
   "source": [
    "from keras.models import load_model\n",
    "model = load_model(\"G:\\\\PYTHON\\\\Final year project\\\\Final\\\\covid_image_data\\\\covid_image_data\\\\vgg_16_1.h5\",\n",
    "                  )"
   ]
  },
  {
   "cell_type": "code",
   "execution_count": 19,
   "id": "702a1a72",
   "metadata": {},
   "outputs": [
    {
     "data": {
      "image/png": "[encoded data removed]",
      "text/plain": [
       "<Figure size 432x288 with 1 Axes>"
      ]
     },
     "metadata": {
      "needs_background": "light"
     },
     "output_type": "display_data"
    },
    {
     "name": "stdout",
     "output_type": "stream",
     "text": [
      "NORMAL\n"
     ]
    }
   ],
   "source": [
    "%matplotlib inline\n",
    "# get sample image to test.\n",
    "import numpy as np\n",
    "import cv2\n",
    "import matplotlib.pyplot as plt\n",
    "\n",
    "img_covid = 'G:\\\\PYTHON\\\\Final year project\\\\Dataset\\\\COVID-19_Radiography_Dataset\\\\COVID\\\\COVID-235.png'\n",
    "img_normal = 'G:\\\\PYTHON\\\\Final year project\\\\Dataset\\\\COVID-19_Radiography_Dataset\\\\Normal\\\\Normal-112.png'\n",
    "\n",
    "\n",
    "img_array = cv2.imread(img_normal)\n",
    "plt.imshow(img_array)\n",
    "#plt.imshow(image)\n",
    "plt.show()\n",
    "new_img_array = cv2.resize(img_array, (224, 224))\n",
    "dt = []\n",
    "dt.append(new_img_array)\n",
    "X = np.array(dt)\n",
    "X = X/255\n",
    "val = model.predict(X)\n",
    "\n",
    "if val > 0.5:\n",
    "    print(\"COVID\")\n",
    "else:\n",
    "    print(\"NORMAL\")"
   ]
  },
  {
   "cell_type": "code",
   "execution_count": null,
   "id": "6dfb9f02",
   "metadata": {},
   "outputs": [],
   "source": []
  }
 ],
 "metadata": {
  "kernelspec": {
   "display_name": "gputest",
   "language": "python",
   "name": "gputest"
  },
  "language_info": {
   "codemirror_mode": {
    "name": "ipython",
    "version": 3
   },
   "file_extension": ".py",
   "mimetype": "text/x-python",
   "name": "python",
   "nbconvert_exporter": "python",
   "pygments_lexer": "ipython3",
   "version": "3.6.13"
  }
 },
 "nbformat": 4,
 "nbformat_minor": 5
}
